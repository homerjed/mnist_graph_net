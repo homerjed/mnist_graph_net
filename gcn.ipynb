{
 "cells": [
  {
   "cell_type": "code",
   "execution_count": 1,
   "metadata": {},
   "outputs": [],
   "source": [
    "import jax\n",
    "import jax.random as jr \n",
    "import jax.numpy as jnp\n",
    "import haiku as hk\n",
    "import jraph\n",
    "import optax"
   ]
  },
  {
   "cell_type": "code",
   "execution_count": null,
   "metadata": {},
   "outputs": [],
   "source": [
    "Graph = jraph.GraphsTuple\n",
    "ArrayTree = jraph.ArrayTree"
   ]
  },
  {
   "cell_type": "code",
   "execution_count": null,
   "metadata": {},
   "outputs": [],
   "source": [
    "def network_definition(graph: Graph) -> ArrayTree:\n",
    "    \"\"\"\n",
    "    Args:\n",
    "      graph: GraphsTuple the network processes.\n",
    "\n",
    "    Returns:\n",
    "      processed nodes.\n",
    "    \"\"\"\n",
    "    gn = jraph.GraphConvolution(\n",
    "        update_node_fn=hk.Linear(5, with_bias=False), add_self_edges=False)\n",
    "    graph = gn(graph)\n",
    "    graph = graph._replace(nodes=jax.nn.relu(graph.nodes))\n",
    "    gn = jraph.GraphConvolution(update_node_fn=hk.Linear(1, with_bias=False)) # class variable of nodes?\n",
    "    graph = gn(graph)\n",
    "    return graph.nodes"
   ]
  },
  {
   "cell_type": "code",
   "execution_count": null,
   "metadata": {},
   "outputs": [],
   "source": [
    "def train(num_steps: int, run_on_spu: bool):\n",
    "    \"\"\"Solves the karte club problem by optimizing the assignments of students.\"\"\"\n",
    "    network = hk.without_apply_rng(hk.transform(network_definition))\n",
    "\n",
    "    params = network.init(jax.random.PRNGKey(42), zacharys_karate_club)\n",
    "\n",
    "    @jax.jit\n",
    "    def prediction_loss(params, d, y):\n",
    "        \"\"\" want graph global variable being predicted here... \"\"\"\n",
    "        y_ = network.apply(params, d)\n",
    "        return jnp.square(jnp.subtract(y, y_))\n",
    "\n",
    "    opt_init, opt_update = optax.adam(1e-3)\n",
    "    opt_state = opt_init(params)\n",
    "\n",
    "    @jax.jit\n",
    "    def update(params, opt_state):\n",
    "        g = jax.grad(prediction_loss)(params)\n",
    "        updates, opt_state = opt_update(g, opt_state)\n",
    "        return optax.apply_updates(params, updates), opt_state\n",
    "\n",
    "    @jax.jit\n",
    "    def accuracy(params):\n",
    "        decoded_nodes = network.apply(params, zacharys_karate_club)\n",
    "\n",
    "        return jnp.mean(jnp.argmax(decoded_nodes, axis=1) == labels)\n",
    "\n",
    "    for step in range(num_steps):\n",
    "        print(\"step %r accuracy %r\", step, accuracy(ppd.get(params)).item())\n",
    "        print(\"step %r accuracy %r\", step, accuracy(params).item())\n",
    "        params, opt_state = update(params, opt_state)\n",
    "\n",
    "    def predict(params):\n",
    "        decoded_nodes = network.apply(params, zacharys_karate_club)\n",
    "        return jnp.argmax(decoded_nodes, axis=1)\n",
    "\n",
    "    print(f\"Ground truth: {labels}\")\n",
    "    print(f\"CPU prediction: {predict(params)}\")\n",
    "    return accuracy(params).item()"
   ]
  }
 ],
 "metadata": {
  "kernelspec": {
   "display_name": "jraph",
   "language": "python",
   "name": "python3"
  },
  "language_info": {
   "codemirror_mode": {
    "name": "ipython",
    "version": 3
   },
   "file_extension": ".py",
   "mimetype": "text/x-python",
   "name": "python",
   "nbconvert_exporter": "python",
   "pygments_lexer": "ipython3",
   "version": "3.10.4"
  },
  "orig_nbformat": 4
 },
 "nbformat": 4,
 "nbformat_minor": 2
}
