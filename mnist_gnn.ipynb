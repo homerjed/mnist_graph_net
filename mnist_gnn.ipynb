{
 "cells": [
  {
   "cell_type": "code",
   "execution_count": null,
   "metadata": {},
   "outputs": [
    {
     "ename": "",
     "evalue": "",
     "output_type": "error",
     "traceback": [
      "\u001b[1;31mRunning cells with 'Python 3.10.4 ('jraph')' requires ipykernel package.\n",
      "\u001b[1;31mRun the following command to install 'ipykernel' into the Python environment. \n",
      "\u001b[1;31mCommand: 'conda install -n jraph ipykernel --update-deps --force-reinstall'"
     ]
    }
   ],
   "source": [
    "import logging\n",
    "import functools\n",
    "from typing import Tuple, Union, List, Dict, Any\n",
    "\n",
    "from absl import app\n",
    "import haiku as hk\n",
    "import jax\n",
    "import jax.numpy as jnp\n",
    "import jraph\n",
    "import optax\n",
    "import numpy as np \n",
    "import matplotlib.pyplot as plt\n",
    "\n",
    "from get_mnist import load_mnist\n",
    "from mnist_to_graphs import get_mnist_graphs, pad_graph_to_nearest_power_of_two, print_graph"
   ]
  },
  {
   "cell_type": "code",
   "execution_count": null,
   "metadata": {},
   "outputs": [],
   "source": []
  }
 ],
 "metadata": {
  "kernelspec": {
   "display_name": "Python 3.10.4 ('jraph')",
   "language": "python",
   "name": "python3"
  },
  "language_info": {
   "name": "python",
   "version": "3.10.4"
  },
  "orig_nbformat": 4,
  "vscode": {
   "interpreter": {
    "hash": "89eacdfae071486057d2d630fe016cfa1eafc53aeae1b159d8d57a4fae204a68"
   }
  }
 },
 "nbformat": 4,
 "nbformat_minor": 2
}
