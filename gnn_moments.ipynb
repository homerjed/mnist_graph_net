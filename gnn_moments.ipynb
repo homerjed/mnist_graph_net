{
 "cells": [
  {
   "cell_type": "code",
   "execution_count": 195,
   "metadata": {},
   "outputs": [],
   "source": [
    "import os\n",
    "from functools import partial\n",
    "from typing import (\n",
    "  Tuple, List, Dict, Any, Sequence, Callable)\n",
    "\n",
    "import haiku as hk\n",
    "import jax\n",
    "import jax.numpy as jnp\n",
    "import jax.random as jr \n",
    "import jraph\n",
    "import optax\n",
    "import numpy as np\n",
    "import matplotlib.pyplot as plt"
   ]
  },
  {
   "cell_type": "code",
   "execution_count": 196,
   "metadata": {},
   "outputs": [],
   "source": [
    "from get_mnist import load_mnist\n",
    "from mnist_to_graphs import (\n",
    "  get_mnist_graphs, \n",
    "  get_rotated_mnist_graphs,\n",
    "  pad_graph_to_value)"
   ]
  },
  {
   "attachments": {},
   "cell_type": "markdown",
   "metadata": {},
   "source": [
    "#### globals"
   ]
  },
  {
   "cell_type": "code",
   "execution_count": 197,
   "metadata": {},
   "outputs": [],
   "source": [
    "Array = jnp.ndarray\n",
    "Graph = jraph.GraphsTuple\n",
    "\n",
    "N_GRAPHS = 1024\n",
    "BATCH_SIZE = 16\n",
    "N_STEPS = 5_000\n",
    "PAD_VALUE = 8128 \n",
    "R_LINK = 0.15 #2. #1.5\n",
    "F = 8\n",
    "E = 8"
   ]
  },
  {
   "attachments": {},
   "cell_type": "markdown",
   "metadata": {},
   "source": [
    "#### data"
   ]
  },
  {
   "cell_type": "code",
   "execution_count": 198,
   "metadata": {},
   "outputs": [
    {
     "name": "stdout",
     "output_type": "stream",
     "text": [
      "Running for redshifts:\n",
      "[0.0, 0.5, 1.0]\n",
      "at resolution x=1024 with R values:\n",
      "['5.0', '10.0', '15.0', '20.0'].\n"
     ]
    }
   ],
   "source": [
    "def get_R_z_string(R_values, z_values, n_moments_calculate=3):\n",
    "    if isinstance(R_values, list):\n",
    "        if len(R_values) == len(all_R_values):\n",
    "            R_string = \"all\"\n",
    "        else:\n",
    "            R_string = \"_\".join([str(float(R)) for R in R_values])\n",
    "    else:\n",
    "        R_string = str(R_values)\n",
    "    if isinstance(z_values, list):\n",
    "        if len(z_values) == len(all_redshifts):\n",
    "            z_string = \"all\"\n",
    "        else:\n",
    "            z_string = \"_\".join([str(float(z)) for z in z_values])\n",
    "    else:\n",
    "        z_string = str(z_values)\n",
    "\n",
    "    return f\"x={resolution}_R={R_string}_z={z_string}_nm={n_moments_calculate}\"\n",
    "\n",
    "prng_seq = hk.PRNGSequence(0)\n",
    "\n",
    "data_dir = \"/Users/Jed.Homer/phd/lfi/jaxdelfi/data/\"\n",
    "resolution = 1024 \n",
    "all_redshifts = [0., 0.5, 1., 2., 3.]\n",
    "all_R_values = [\"5.0\", \"10.0\", \"15.0\", \"20.0\", \"25.0\", \"30.0\"]\n",
    "\n",
    "redshifts = all_redshifts[:3]\n",
    "R_values = all_R_values[:4]\n",
    "\n",
    "R_idx = [all_R_values.index(R) for R in R_values]\n",
    "z_idx = [redshifts.index(z) for z in redshifts]\n",
    "\n",
    "print(f\"Running for redshifts:\\n{redshifts}\\nat resolution x={resolution} with R values:\\n{R_values}.\")\n",
    "\n",
    "Rz_string = get_R_z_string(R_values, redshifts, n_moments_calculate=3)"
   ]
  },
  {
   "attachments": {},
   "cell_type": "markdown",
   "metadata": {},
   "source": [
    "#### data\n",
    "* for each moments datavector, make fully connected subgraph for each redshift, then concatenate all the redshift graphs together..."
   ]
  },
  {
   "cell_type": "code",
   "execution_count": 199,
   "metadata": {},
   "outputs": [
    {
     "data": {
      "text/plain": [
       "((2000, 5), (2000, 3, 4, 3), (3, 4, 3))"
      ]
     },
     "execution_count": 199,
     "metadata": {},
     "output_type": "execute_result"
    }
   ],
   "source": [
    "alpha = jnp.array([0.3175, 0.049, 0.6711, 0.9624, 0.834])\n",
    "parameters = jnp.load(\n",
    "        os.path.join(data_dir, f\"ALL_PDFS_PARAMS.npy\")) \n",
    "simulations = jnp.load(\n",
    "    os.path.join(data_dir, f\"CALCULATED_PDF_MOMENTS_{Rz_string}.npy\"))\n",
    "fiducial_dv = jnp.load(\n",
    "    os.path.join(data_dir, f'fiducial_moments_unflat_{Rz_string}.npy')).mean(axis=0)\n",
    "\n",
    "n_sims, parameter_dim = parameters.shape\n",
    "data_dim = np.prod(fiducial_dv.shape)\n",
    "\n",
    "parameters.shape, simulations.shape, fiducial_dv.shape"
   ]
  },
  {
   "cell_type": "code",
   "execution_count": 331,
   "metadata": {},
   "outputs": [],
   "source": [
    "import numpy as np\n",
    "\n",
    "def make_subgraphs(moments):\n",
    "    # Vmapping, so this is z-axis\n",
    "    all_g_z = []\n",
    "    for mz in moments:\n",
    "        # print(mz.shape, np.prod(mz.shape))\n",
    "        g_z = jraph.get_fully_connected_graph(\n",
    "            node_features=mz.flatten(),\n",
    "            n_node_per_graph=np.prod(mz.shape),\n",
    "            n_graph=1,\n",
    "            #global_features=parameters, # maybe just parameters for main_graph not subgraphs?\n",
    "            add_self_edges=True)\n",
    "        all_g_z.append(g_z)\n",
    "    return all_g_z \n",
    "\n",
    "def make_graph_from_subgraphs(subgraphs, parameters):\n",
    "    \"\"\" \n",
    "        Make ONE graph from fully connected redshift-subgraphs\n",
    "        - NO connections between subgraphs of different redshift\n",
    "    \"\"\"\n",
    "    return jraph.GraphsTuple(\n",
    "        nodes=jnp.concatenate([g_z.nodes for g_z in subgraphs])[:, None],\n",
    "        edges=None, # edges=jnp.concatenate([g_z.edges for g_z in subgraphs]), # edge FEATURES not senders/receivers\n",
    "        # Since graph is made of subgraphs, need to re-index S and R for main_graph indexing...\n",
    "        senders=jnp.concatenate(\n",
    "            [g_z.n_node * n + g_z.senders for n, g_z in enumerate(subgraphs)]),# senders=jnp.concatenate([g_z.senders for g_z in subgraphs]),\n",
    "        receivers=jnp.concatenate(\n",
    "            [g_z.n_node * n + g_z.receivers for n, g_z in enumerate(subgraphs)]),# receivers=jnp.concatenate([g_z.receivers for g_z in subgraphs]),\n",
    "        n_node=sum([g_z.n_node for g_z in subgraphs]),\n",
    "        n_edge=sum([g_z.n_edge for g_z in subgraphs]),\n",
    "        globals=parameters)#[None, :] if parameters.ndim == 1 else parameters)"
   ]
  },
  {
   "cell_type": "code",
   "execution_count": 333,
   "metadata": {},
   "outputs": [
    {
     "name": "stderr",
     "output_type": "stream",
     "text": [
      "/Users/Jed.Homer/miniconda3/envs/jraph/lib/python3.10/site-packages/jraph/_src/utils.py:882: FutureWarning: jax.tree_leaves is deprecated, and will be removed in a future release. Use jax.tree_util.tree_leaves instead.\n",
      "  num_node_features = jax.tree_leaves(node_features)[0].shape[0]\n"
     ]
    },
    {
     "data": {
      "text/plain": [
       "((36, 1),\n",
       " None,\n",
       " DeviceArray([0.3175, 0.049 , 0.6711, 0.9624, 0.834 ], dtype=float32),\n",
       " (432,),\n",
       " (432,),\n",
       " (5,))"
      ]
     },
     "execution_count": 333,
     "metadata": {},
     "output_type": "execute_result"
    }
   ],
   "source": [
    "subgraphs = make_subgraphs(fiducial_dv)\n",
    "main_graph = make_graph_from_subgraphs(subgraphs, alpha)\n",
    "# print(subgraphs[0])\n",
    "main_graph.nodes.shape, main_graph.edges, main_graph.globals, main_graph.senders.shape, main_graph.receivers.shape, main_graph.globals.shape"
   ]
  },
  {
   "cell_type": "code",
   "execution_count": 334,
   "metadata": {},
   "outputs": [
    {
     "data": {
      "text/plain": [
       "DeviceArray(35, dtype=int32)"
      ]
     },
     "execution_count": 334,
     "metadata": {},
     "output_type": "execute_result"
    }
   ],
   "source": [
    "main_graph.senders.max()"
   ]
  },
  {
   "cell_type": "code",
   "execution_count": 335,
   "metadata": {},
   "outputs": [],
   "source": [
    "# main_graph.senders[:36]\n",
    "\n",
    "A = np.zeros((36, 36))\n",
    "# for i in range(36):\n",
    "#     for j in range(36):\n",
    "\n",
    "for n in range(36):\n",
    "    # non-directed graph => if sender then receiver => use only senders?\n",
    "    # print(main_graph.senders[n], main_graph.receivers[n])\n",
    "    pass "
   ]
  },
  {
   "cell_type": "code",
   "execution_count": 336,
   "metadata": {},
   "outputs": [],
   "source": [
    "def adjacency_matrix(sender_indices, receiver_indices, n_nodes=None):\n",
    "    # Determine the number of nodes in the graph if not provided\n",
    "    if n_nodes is None:\n",
    "        n_nodes = max(max(sender_indices), max(receiver_indices)) + 1\n",
    "\n",
    "    # Create an empty adjacency matrix\n",
    "    adj_matrix = np.zeros((n_nodes, n_nodes))\n",
    "\n",
    "    # Set entries in the adjacency matrix for each edge\n",
    "    for sender, receiver in zip(sender_indices, receiver_indices):\n",
    "        adj_matrix[sender, receiver] = 1 \n",
    "        adj_matrix[receiver, sender] = 1 \n",
    "\n",
    "    return adj_matrix"
   ]
  },
  {
   "cell_type": "code",
   "execution_count": 337,
   "metadata": {},
   "outputs": [
    {
     "name": "stdout",
     "output_type": "stream",
     "text": [
      "nodes (36, 1)\n",
      "edges None\n",
      "senders (432,)\n",
      "receivers (432,)\n",
      "globals (5,)\n",
      "n_node (1,)\n",
      "n_edge (1,)\n"
     ]
    }
   ],
   "source": [
    "# A = adjacency_matrix(subgraphs[0].senders, subgraphs[0].receivers)\n",
    "# print(A)\n",
    "# plt.imshow(A)\n",
    "[_.shape for _ in main_graph if _ is not None]\n",
    "\n",
    "attrs = [\"nodes\", \"edges\", \"senders\", \"receivers\", \"globals\", \"n_node\", \"n_edge\"]\n",
    "\n",
    "for a in attrs:\n",
    "    val = getattr(main_graph, a)\n",
    "    print(a, val.shape if val is not None else None)"
   ]
  },
  {
   "cell_type": "code",
   "execution_count": 338,
   "metadata": {},
   "outputs": [
    {
     "data": {
      "image/png": "[encoded data removed]",
      "text/plain": [
       "<Figure size 640x480 with 1 Axes>"
      ]
     },
     "metadata": {},
     "output_type": "display_data"
    }
   ],
   "source": [
    "# Expect three squares on diagonal: FULLY connected subgraphs\n",
    "A = adjacency_matrix(main_graph.senders, main_graph.receivers)\n",
    "plt.imshow(A, cmap=\"gray_r\")\n",
    "plt.show()"
   ]
  },
  {
   "attachments": {},
   "cell_type": "markdown",
   "metadata": {},
   "source": [
    "#### model"
   ]
  },
  {
   "attachments": {},
   "cell_type": "markdown",
   "metadata": {},
   "source": [
    "##### resnet"
   ]
  },
  {
   "cell_type": "code",
   "execution_count": 339,
   "metadata": {},
   "outputs": [],
   "source": [
    "layernorm_kwargs = dict(axis=1, create_scale=True, create_offset=True)\n",
    "\n",
    "class LinearResNet(hk.Module):\n",
    "  def __init__(\n",
    "    self, \n",
    "    hidden_sizes: Sequence[int],\n",
    "    activation: Callable = jax.nn.leaky_relu,\n",
    "    activate_final: bool = False):\n",
    "    super().__init__()\n",
    "    self.hidden_sizes = hidden_sizes\n",
    "    self.activation = activation\n",
    "    self.activate_final = activate_final\n",
    "\n",
    "  def __call__(self, x):\n",
    "    # assert x.shape[-1] == self.hidden_size, (\n",
    "    #   \"Input must be hidden size.\")\n",
    "    z = x\n",
    "    for f in self.hidden_sizes:\n",
    "      h = self.activation(z)\n",
    "      h = hk.LayerNorm(**layernorm_kwargs)(h)\n",
    "      h = hk.Linear(f)(h)\n",
    "      h = self.activation(h)\n",
    "      h = hk.LayerNorm(**layernorm_kwargs)(h)\n",
    "      h = hk.Linear(f, w_init=jnp.zeros)(h)\n",
    "      z = z + h \n",
    "    return self.activation(z) if self.activate_final else z"
   ]
  },
  {
   "attachments": {},
   "cell_type": "markdown",
   "metadata": {},
   "source": [
    "##### gnn"
   ]
  },
  {
   "cell_type": "code",
   "execution_count": 340,
   "metadata": {},
   "outputs": [],
   "source": [
    "@jraph.concatenated_args\n",
    "def edge_update_fn(feats: Array) -> Array:\n",
    "  \"\"\" Edge update function for graph net. \"\"\"\n",
    "  net = hk.Sequential([\n",
    "    hk.Linear(F), LinearResNet([F, F, F])])\n",
    "    # hk.Linear(F), hk.nets.MLP([F, F, F])])\n",
    "  return net(feats)\n",
    "\n",
    "@jraph.concatenated_args \n",
    "def node_update_fn(feats: Array) -> Array:\n",
    "  \"\"\" Node update function for graph net. \"\"\"\n",
    "  net = hk.Sequential([\n",
    "    hk.Linear(F), LinearResNet([F, F, F])])\n",
    "    # hk.Linear(F), hk.nets.MLP([F, F, F])])\n",
    "  return net(feats)\n",
    "\n",
    "@jraph.concatenated_args\n",
    "def update_global_fn(feats: Array) -> Array:\n",
    "  \"\"\" Global update function for graph net. \"\"\"\n",
    "  net = hk.Sequential([\n",
    "    hk.Linear(F), \n",
    "    #LinearResNet([F, F, F], activate_final=True),\n",
    "    hk.nets.MLP([F, F, F], activate_final=True),\n",
    "    hk.Linear(parameter_dim, with_bias=False)]) # output summary of parameter dim\n",
    "  return net(feats)\n",
    "\n",
    "def LayerNormLinear(x):\n",
    "    return hk.Linear(E, with_bias=False)(hk.LayerNorm(**layernorm_kwargs)(x))\n",
    "\n",
    "def net_fn(graph: Graph) -> Graph:\n",
    "  \"\"\" \n",
    "    Default aggregator functions for edges, global edges, global nodes \n",
    "    are \"segment_sum\"\n",
    "  \"\"\"\n",
    "  embedder = jraph.GraphMapFeatures(\n",
    "    # embed_edge_fn=LayerNormLinear, #hk.Linear(E, with_bias=False), \n",
    "    embed_node_fn=LayerNormLinear, #hk.Linear(E, with_bias=False), \n",
    "    embed_global_fn=LayerNormLinear) #hk.Linear(E, with_bias=False))\n",
    "  net = jraph.GraphNetwork(\n",
    "    update_node_fn=node_update_fn,\n",
    "    # update_edge_fn=edge_update_fn,\n",
    "    update_edge_fn=None,\n",
    "    update_global_fn=update_global_fn)\n",
    "  graph = embedder(graph)\n",
    "#   for _ in range(3):\n",
    "  graph = net(graph)\n",
    "  return graph\n",
    "  #return net(embedder(graph)) "
   ]
  },
  {
   "attachments": {},
   "cell_type": "markdown",
   "metadata": {},
   "source": [
    "#### train"
   ]
  },
  {
   "attachments": {},
   "cell_type": "markdown",
   "metadata": {},
   "source": [
    "#### trainer functions"
   ]
  },
  {
   "cell_type": "code",
   "execution_count": 349,
   "metadata": {},
   "outputs": [
    {
     "name": "stderr",
     "output_type": "stream",
     "text": [
      "/Users/Jed.Homer/miniconda3/envs/jraph/lib/python3.10/site-packages/jraph/_src/utils.py:882: FutureWarning: jax.tree_leaves is deprecated, and will be removed in a future release. Use jax.tree_util.tree_leaves instead.\n",
      "  num_node_features = jax.tree_leaves(node_features)[0].shape[0]\n"
     ]
    }
   ],
   "source": [
    "dataset_processed = []\n",
    "for n in range(N_GRAPHS):\n",
    "    l = parameters[n]\n",
    "    g_z = make_subgraphs(simulations[n]) \n",
    "    g = make_graph_from_subgraphs(g_z, l[None, :]) # pointless 'l' here it is removed later anyway...\n",
    "    dataset_processed.append(dict(input_graph=g, target=l))"
   ]
  },
  {
   "cell_type": "code",
   "execution_count": 350,
   "metadata": {},
   "outputs": [
    {
     "name": "stdout",
     "output_type": "stream",
     "text": [
      "nodes (36, 1)\n",
      "edges None\n",
      "senders (432,)\n",
      "receivers (432,)\n",
      "globals (1, 5)\n",
      "n_node (1,)\n",
      "n_edge (1,)\n"
     ]
    }
   ],
   "source": [
    "g = dataset_processed[0][\"input_graph\"]\n",
    "for a in attrs:\n",
    "    val = getattr(g, a)\n",
    "    print(a, val.shape if val is not None else None)"
   ]
  },
  {
   "cell_type": "code",
   "execution_count": 351,
   "metadata": {},
   "outputs": [
    {
     "name": "stdout",
     "output_type": "stream",
     "text": [
      "[(36, 1), (36, 1), (36, 1), (36, 1), (36, 1)]\n",
      "[36 36 36 36 36]\n",
      "[432 432 432 432 432]\n",
      "nodes (180, 1)\n",
      "edges None\n",
      "senders (2160,)\n",
      "receivers (2160,)\n",
      "globals (5, 5)\n",
      "n_node (5,)\n",
      "n_edge (5,)\n"
     ]
    }
   ],
   "source": [
    "gs, ls = [], []\n",
    "for _ in range(5):\n",
    "    gl = dataset_processed[_]\n",
    "    g, l = gl.values()\n",
    "    gs.append(g), ls.append(l)\n",
    "\n",
    "g_all = jraph.batch(gs)\n",
    "print([g.nodes.shape for g in gs])\n",
    "g_all.nodes.shape\n",
    "print(g_all.n_node)\n",
    "print(g_all.n_edge)\n",
    "\n",
    "for a in attrs:\n",
    "    val = getattr(g_all, a)\n",
    "    print(a, val.shape if val is not None else None)"
   ]
  },
  {
   "cell_type": "code",
   "execution_count": 369,
   "metadata": {},
   "outputs": [
    {
     "data": {
      "text/plain": [
       "(5,)"
      ]
     },
     "execution_count": 369,
     "metadata": {},
     "output_type": "execute_result"
    }
   ],
   "source": [
    "dataset_processed[0][\"target\"].shape"
   ]
  },
  {
   "cell_type": "code",
   "execution_count": 389,
   "metadata": {},
   "outputs": [],
   "source": [
    "def compute_loss(\n",
    "  params: hk.Params, \n",
    "  graph: Graph, \n",
    "  label: Array,\n",
    "  net: Graph) -> Tuple[Array, Array]:\n",
    "  \"\"\"Computes loss and accuracy.\"\"\"\n",
    "\n",
    "  pred_graph = net.apply(params, graph)\n",
    "  print(\"pred graph globals\", pred_graph.globals.shape)\n",
    "\n",
    "  # Output of GNN and target: one hot encoded MNIST labels\n",
    "  # preds = jax.nn.log_softmax(pred_graph.globals)\n",
    "  preds = pred_graph.globals\n",
    "\n",
    "  mask = jraph.get_graph_padding_mask(pred_graph)\n",
    "\n",
    "  # Cross entropy loss.\n",
    "  print(\"PREDS/TARGETS\", preds.shape, label.shape)\n",
    "  # loss = -(preds * label * mask[:, None]).mean()\n",
    "  loss = (jnp.square(jnp.subtract(preds, label)) * mask[:, None]).mean()\n",
    "\n",
    "  return loss, (None,)\n",
    " \n",
    "\n",
    "def train(\n",
    "  dataset: List[Dict[str, Any]], \n",
    "  num_train_steps: int) -> Tuple[hk.Params, List, List]:\n",
    "\n",
    "  key = jr.PRNGKey(0)\n",
    "\n",
    "  net = hk.without_apply_rng(hk.transform(net_fn))\n",
    "\n",
    "  graph = dataset[0]['input_graph']\n",
    "  graph = pad_graph_to_value(graph, PAD_VALUE)\n",
    "  params = net.init(key, graph)\n",
    "\n",
    "  print(f\"n_params = {sum(x.size for x in jax.tree_util.tree_leaves(params)):.2E}\")\n",
    "\n",
    "  # Initialize the optimizer.\n",
    "  opt_init, opt_update = optax.adabelief(2e-4)\n",
    "  opt_state = opt_init(params)\n",
    "\n",
    "  compute_loss_fn = partial(compute_loss, net=net)\n",
    "  compute_loss_fn = jax.jit(\n",
    "    jax.value_and_grad(compute_loss_fn, has_aux=True))\n",
    "\n",
    "  losses, accs = [], []\n",
    "  for s in range(num_train_steps):\n",
    "    key, key_idx = jr.split(key)\n",
    "\n",
    "    if BATCH_SIZE > 1:\n",
    "        idx = jr.randint(key_idx, shape=(BATCH_SIZE,), minval=0, maxval=N_GRAPHS)\n",
    "        gs, ls = [], []\n",
    "        for i in idx:\n",
    "            g, l = dataset[int(i)].values()\n",
    "            gs.append(g), ls.append(l)\n",
    "        graph = jraph.batch(gs)\n",
    "        label = jnp.stack(ls)\n",
    "    else:\n",
    "        idx = int(jr.randint(key_idx, shape=(BATCH_SIZE,), minval=0, maxval=N_GRAPHS))\n",
    "        graph, label = dataset[idx].values()\n",
    "\n",
    "    \"\"\" Should remove graph label, for model to generate itself. \"\"\"\n",
    "    # graph = graph._replace(globals=jnp.zeros([graph.n_node.shape[0], 1]))\n",
    "    graph = pad_graph_to_value(graph, PAD_VALUE)\n",
    "\n",
    "    # Since padding is implemented with pad_with_graphs, an extra graph has\n",
    "    # been added to the batch, which means there should be an extra label.\n",
    "    \"\"\" This label gets masked out. \"\"\"\n",
    "    label = jnp.concatenate([label, jnp.zeros((1, parameter_dim))])\n",
    "\n",
    "    (loss, (_)), grad = compute_loss_fn(params, graph, label)\n",
    "    updates, opt_state = opt_update(grad, opt_state, params)\n",
    "    params = optax.apply_updates(params, updates)\n",
    "\n",
    "    if s % 100 == 0:\n",
    "      print(f'\\rstep: {s:06d}, loss: {loss:.4f}')\n",
    "    losses.append(loss)\n",
    "\n",
    "  print('Training finished')\n",
    "  return params, losses, accs\n",
    "\n",
    "\n",
    "def evaluate(\n",
    "  dataset: List[Dict[str, Any]],\n",
    "  params: hk.Params) -> Tuple[Array, Array]:\n",
    "\n",
    "  # Transform impure `net_fn` to pure functions with hk.transform.\n",
    "  net = hk.without_apply_rng(hk.transform(net_fn))\n",
    "\n",
    "  # Get a candidate graph and label to initialize the network.\n",
    "  graph = dataset[0]['input_graph']\n",
    "\n",
    "  accumulated_loss = 0.\n",
    "  accumulated_accuracy = 0.\n",
    "\n",
    "  compute_loss_fn = jax.jit(partial(compute_loss, net=net))\n",
    "  for idx in range(len(dataset)):\n",
    "    graph = dataset[idx]['input_graph']\n",
    "    label = dataset[idx]['target']\n",
    "\n",
    "    graph = pad_graph_to_value(graph, PAD_VALUE)\n",
    "    label = jnp.concatenate([label, jnp.zeros((1, parameter_dim))])\n",
    "\n",
    "    graph = net.apply(params, graph)\n",
    "\n",
    "    loss, acc = compute_loss_fn(params, graph, label)\n",
    "\n",
    "    accumulated_accuracy += acc\n",
    "    accumulated_loss += loss\n",
    "\n",
    "    if idx % 100 == 0:\n",
    "      print(f'Evaluated {idx + 1} graphs')\n",
    "\n",
    "  print('Completed evaluation.')\n",
    "  loss = accumulated_loss / idx\n",
    "  accuracy = accumulated_accuracy / idx\n",
    "  print(f'Eval loss: {loss:.4f}, accuracy {accuracy:.4f}')\n",
    "  return loss, accuracy"
   ]
  },
  {
   "attachments": {},
   "cell_type": "markdown",
   "metadata": {},
   "source": [
    "#### check"
   ]
  },
  {
   "cell_type": "code",
   "execution_count": 390,
   "metadata": {},
   "outputs": [
    {
     "name": "stdout",
     "output_type": "stream",
     "text": [
      "[(180, 1), (2160,), (2160,), (5, 5), (5,), (5,)]\n"
     ]
    }
   ],
   "source": [
    "print([_.shape for _ in g_all if _ is not None])"
   ]
  },
  {
   "cell_type": "code",
   "execution_count": 391,
   "metadata": {},
   "outputs": [
    {
     "name": "stdout",
     "output_type": "stream",
     "text": [
      "[[0.1755  0.06681 0.7737  0.8849  0.6641 ]\n",
      " [0.2139  0.05557 0.8599  0.9785  0.8619 ]\n",
      " [0.1867  0.04503 0.6189  0.8307  0.7187 ]\n",
      " [0.3271  0.06875 0.6313  0.8135  0.8939 ]\n",
      " [0.1433  0.06347 0.6127  1.1501  0.7699 ]\n",
      " [0.      0.      0.      0.      0.     ]] (6, 5)\n",
      "net out (5, 5)\n",
      "[ True  True  True  True False]\n"
     ]
    },
    {
     "data": {
      "text/plain": [
       "(DeviceArray([2, 2, 2, 2], dtype=int32), DeviceArray(3, dtype=int32))"
      ]
     },
     "execution_count": 391,
     "metadata": {},
     "output_type": "execute_result"
    }
   ],
   "source": [
    "key = jr.PRNGKey(0)\n",
    "key, _ = jr.split(key)\n",
    "\n",
    "net = hk.without_apply_rng(hk.transform(net_fn))\n",
    "\n",
    "graph = pad_graph_to_value(g_all, PAD_VALUE)\n",
    "print(graph.globals, graph.globals.shape)\n",
    "\n",
    "params = net.init(key, g_all)\n",
    "\n",
    "y_ = net.apply(params, g_all)\n",
    "print(\"net out\", y_.globals.shape)\n",
    "\n",
    "mask = jraph.get_graph_padding_mask(y_)\n",
    "print(mask)\n",
    "\n",
    "jnp.argmax(y_.globals[mask], axis=1), l.argmax()"
   ]
  },
  {
   "cell_type": "code",
   "execution_count": 392,
   "metadata": {},
   "outputs": [
    {
     "name": "stdout",
     "output_type": "stream",
     "text": [
      "[[0.4157  0.04765 0.6087  0.8165  0.9189 ]\n",
      " [0.      0.      0.      0.      0.     ]] (2, 5)\n",
      "nodes (8129, 1)\n",
      "edges None\n",
      "senders (8128,)\n",
      "receivers (8128,)\n",
      "globals (2, 5)\n",
      "n_node (2,)\n",
      "n_edge (2,)\n",
      "net out (2, 5)\n",
      "[ True False]\n"
     ]
    },
    {
     "data": {
      "text/plain": [
       "(DeviceArray([4], dtype=int32), DeviceArray(3, dtype=int32))"
      ]
     },
     "execution_count": 392,
     "metadata": {},
     "output_type": "execute_result"
    }
   ],
   "source": [
    "key = jr.PRNGKey(0)\n",
    "key, _ = jr.split(key)\n",
    "\n",
    "net = hk.without_apply_rng(hk.transform(net_fn))\n",
    "\n",
    "ix1, ix2 = jr.randint(key, (2,), 0, len(dataset_processed))\n",
    "\n",
    "graph = dataset_processed[ix1]['input_graph']\n",
    "l = dataset_processed[ix1]['target']\n",
    "graph = pad_graph_to_value(graph, PAD_VALUE)\n",
    "print(graph.globals, graph.globals.shape)\n",
    "\n",
    "for a in attrs:\n",
    "    val = getattr(graph, a)\n",
    "    print(a, val.shape if val is not None else None)\n",
    "\n",
    "params = net.init(key, graph)\n",
    "\n",
    "graph = dataset_processed[ix2]['input_graph']\n",
    "l = dataset_processed[ix2]['target']\n",
    "graph = pad_graph_to_value(graph, PAD_VALUE)\n",
    "\n",
    "y_ = net.apply(params, graph)\n",
    "print(\"net out\", y_.globals.shape)\n",
    "\n",
    "mask = jraph.get_graph_padding_mask(y_)\n",
    "print(mask)\n",
    "\n",
    "jnp.argmax(y_.globals[mask], axis=1), l.argmax()"
   ]
  },
  {
   "cell_type": "code",
   "execution_count": 393,
   "metadata": {},
   "outputs": [
    {
     "name": "stdout",
     "output_type": "stream",
     "text": [
      "before pad (36, 1) (1, 5)\n",
      "after pad (8129, 1) (2, 5)\n"
     ]
    }
   ],
   "source": [
    "graph = dataset_processed[ix2]['input_graph']\n",
    "print(\"before pad\", graph.nodes.shape, graph.globals.shape)\n",
    "l = dataset_processed[ix2]['target']\n",
    "graph = pad_graph_to_value(graph, PAD_VALUE)\n",
    "print(\"after pad\", graph.nodes.shape, graph.globals.shape)"
   ]
  },
  {
   "cell_type": "code",
   "execution_count": 394,
   "metadata": {},
   "outputs": [
    {
     "name": "stdout",
     "output_type": "stream",
     "text": [
      "n_params = 1.12E+03\n",
      "pred graph globals (17, 5)\n",
      "PREDS/TARGETS (17, 5) (17, 5)\n",
      "step: 000000, loss: 1.3839\n",
      "step: 000100, loss: 0.2215\n",
      "step: 000200, loss: 0.0226\n",
      "step: 000300, loss: 0.0110\n",
      "step: 000400, loss: 0.0068\n",
      "step: 000500, loss: 0.0094\n",
      "step: 000600, loss: 0.0098\n",
      "step: 000700, loss: 0.0099\n",
      "step: 000800, loss: 0.0059\n",
      "step: 000900, loss: 0.0054\n",
      "step: 001000, loss: 0.0072\n",
      "step: 001100, loss: 0.0073\n",
      "step: 001200, loss: 0.0067\n",
      "step: 001300, loss: 0.0072\n",
      "step: 001400, loss: 0.0078\n",
      "step: 001500, loss: 0.0085\n",
      "step: 001600, loss: 0.0094\n",
      "step: 001700, loss: 0.0076\n",
      "step: 001800, loss: 0.0086\n",
      "step: 001900, loss: 0.0069\n",
      "step: 002000, loss: 0.0070\n",
      "step: 002100, loss: 0.0068\n",
      "step: 002200, loss: 0.0077\n",
      "step: 002300, loss: 0.0071\n",
      "step: 002400, loss: 0.0070\n",
      "step: 002500, loss: 0.0054\n",
      "step: 002600, loss: 0.0058\n",
      "step: 002700, loss: 0.0058\n",
      "step: 002800, loss: 0.0061\n",
      "step: 002900, loss: 0.0062\n",
      "step: 003000, loss: 0.0054\n",
      "step: 003100, loss: 0.0051\n",
      "step: 003200, loss: 0.0059\n",
      "step: 003300, loss: 0.0060\n",
      "step: 003400, loss: 0.0061\n",
      "step: 003500, loss: 0.0073\n",
      "step: 003600, loss: 0.0050\n",
      "step: 003700, loss: 0.0062\n",
      "step: 003800, loss: 0.0056\n",
      "step: 003900, loss: 0.0050\n",
      "step: 004000, loss: 0.0046\n",
      "step: 004100, loss: 0.0047\n",
      "step: 004200, loss: 0.0054\n",
      "step: 004300, loss: 0.0038\n",
      "step: 004400, loss: 0.0052\n",
      "step: 004500, loss: 0.0056\n",
      "step: 004600, loss: 0.0056\n",
      "step: 004700, loss: 0.0045\n",
      "step: 004800, loss: 0.0047\n",
      "step: 004900, loss: 0.0065\n",
      "Training finished\n"
     ]
    }
   ],
   "source": [
    "params, losses, accs = train(dataset_processed, num_train_steps=N_STEPS)"
   ]
  },
  {
   "cell_type": "code",
   "execution_count": 399,
   "metadata": {},
   "outputs": [
    {
     "data": {
      "image/png": "[encoded data removed]",
      "text/plain": [
       "<Figure size 800x400 with 1 Axes>"
      ]
     },
     "metadata": {},
     "output_type": "display_data"
    }
   ],
   "source": [
    "fig, ax = plt.subplots(1, 1, dpi=100, figsize=(8.,4.))\n",
    "steps = range(0, N_STEPS, 10)\n",
    "ax.semilogy(steps, losses[::10])\n",
    "plt.show()"
   ]
  },
  {
   "cell_type": "code",
   "execution_count": 404,
   "metadata": {},
   "outputs": [
    {
     "name": "stdout",
     "output_type": "stream",
     "text": [
      "nodes (36864, 1)\n",
      "edges None\n",
      "senders (442368,)\n",
      "receivers (442368,)\n",
      "globals (1024, 5)\n",
      "n_node (1024,)\n",
      "n_edge (1024,)\n"
     ]
    }
   ],
   "source": [
    "graphs = []\n",
    "for gl in dataset_processed:\n",
    "    g, l = gl.values()\n",
    "    graphs.append(g)\n",
    "\n",
    "all_graphs = jraph.batch(graphs)\n",
    "for a in attrs:\n",
    "    val = getattr(all_graphs, a)\n",
    "    print(a, val.shape if val is not None else None)"
   ]
  },
  {
   "cell_type": "code",
   "execution_count": 406,
   "metadata": {},
   "outputs": [],
   "source": [
    "all_graphs_out = net.apply(params, all_graphs)\n",
    "preds = all_graphs_out.globals"
   ]
  },
  {
   "cell_type": "code",
   "execution_count": 414,
   "metadata": {},
   "outputs": [
    {
     "name": "stdout",
     "output_type": "stream",
     "text": [
      "(1024, 2) (1024, 2)\n"
     ]
    },
    {
     "data": {
      "image/png": "[encoded data removed]",
      "text/plain": [
       "<Figure size 800x800 with 4 Axes>"
      ]
     },
     "metadata": {},
     "output_type": "display_data"
    }
   ],
   "source": [
    "target_idx = jnp.array([0, 4])\n",
    "pred_targets = preds[:, target_idx]\n",
    "parameter_targets = parameters[:N_GRAPHS, target_idx]\n",
    "\n",
    "print(pred_targets.shape, parameter_targets.shape)\n",
    "\n",
    "fig, axs = plt.subplots(2, 2, figsize=(8., 8.), dpi=100)\n",
    "ax = axs[0, 0]\n",
    "ax.scatter(pred_targets[:, 0], parameter_targets[:, 0], s=0.5)\n",
    "ax = axs[0, 1]\n",
    "ax.scatter(pred_targets[:, 1], parameter_targets[:, 1], s=0.5)\n",
    "ax = axs[1, 0]\n",
    "ax.hist(pred_targets[:, 0])\n",
    "ax = axs[1, 1]\n",
    "ax.hist(pred_targets[:, 1])\n",
    "plt.show()"
   ]
  },
  {
   "cell_type": "code",
   "execution_count": 400,
   "metadata": {},
   "outputs": [
    {
     "ename": "TypeError",
     "evalue": "Cannot concatenate arrays with different numbers of dimensions: got (5,), (1, 5).",
     "output_type": "error",
     "traceback": [
      "\u001b[0;31m---------------------------------------------------------------------------\u001b[0m",
      "\u001b[0;31mTypeError\u001b[0m                                 Traceback (most recent call last)",
      "Cell \u001b[0;32mIn[400], line 1\u001b[0m\n\u001b[0;32m----> 1\u001b[0m evaluate(dataset_processed, params)\n",
      "Cell \u001b[0;32mIn[389], line 103\u001b[0m, in \u001b[0;36mevaluate\u001b[0;34m(dataset, params)\u001b[0m\n\u001b[1;32m    100\u001b[0m label \u001b[39m=\u001b[39m dataset[idx][\u001b[39m'\u001b[39m\u001b[39mtarget\u001b[39m\u001b[39m'\u001b[39m]\n\u001b[1;32m    102\u001b[0m graph \u001b[39m=\u001b[39m pad_graph_to_value(graph, PAD_VALUE)\n\u001b[0;32m--> 103\u001b[0m label \u001b[39m=\u001b[39m jnp\u001b[39m.\u001b[39;49mconcatenate([label, jnp\u001b[39m.\u001b[39;49mzeros((\u001b[39m1\u001b[39;49m, parameter_dim))])\n\u001b[1;32m    105\u001b[0m graph \u001b[39m=\u001b[39m net\u001b[39m.\u001b[39mapply(params, graph)\n\u001b[1;32m    107\u001b[0m loss, acc \u001b[39m=\u001b[39m compute_loss_fn(params, graph, label)\n",
      "File \u001b[0;32m~/miniconda3/envs/jraph/lib/python3.10/site-packages/jax/_src/numpy/lax_numpy.py:1696\u001b[0m, in \u001b[0;36mconcatenate\u001b[0;34m(arrays, axis, dtype)\u001b[0m\n\u001b[1;32m   1694\u001b[0m \u001b[39melse\u001b[39;00m:\n\u001b[1;32m   1695\u001b[0m   \u001b[39mwhile\u001b[39;00m \u001b[39mlen\u001b[39m(arrays) \u001b[39m>\u001b[39m \u001b[39m1\u001b[39m:\n\u001b[0;32m-> 1696\u001b[0m     arrays \u001b[39m=\u001b[39m [lax\u001b[39m.\u001b[39mconcatenate(arrays[i:i\u001b[39m+\u001b[39mk], axis)\n\u001b[1;32m   1697\u001b[0m               \u001b[39mfor\u001b[39;00m i \u001b[39min\u001b[39;00m \u001b[39mrange\u001b[39m(\u001b[39m0\u001b[39m, \u001b[39mlen\u001b[39m(arrays), k)]\n\u001b[1;32m   1698\u001b[0m   \u001b[39mreturn\u001b[39;00m arrays[\u001b[39m0\u001b[39m]\n",
      "File \u001b[0;32m~/miniconda3/envs/jraph/lib/python3.10/site-packages/jax/_src/numpy/lax_numpy.py:1696\u001b[0m, in \u001b[0;36m<listcomp>\u001b[0;34m(.0)\u001b[0m\n\u001b[1;32m   1694\u001b[0m \u001b[39melse\u001b[39;00m:\n\u001b[1;32m   1695\u001b[0m   \u001b[39mwhile\u001b[39;00m \u001b[39mlen\u001b[39m(arrays) \u001b[39m>\u001b[39m \u001b[39m1\u001b[39m:\n\u001b[0;32m-> 1696\u001b[0m     arrays \u001b[39m=\u001b[39m [lax\u001b[39m.\u001b[39;49mconcatenate(arrays[i:i\u001b[39m+\u001b[39;49mk], axis)\n\u001b[1;32m   1697\u001b[0m               \u001b[39mfor\u001b[39;00m i \u001b[39min\u001b[39;00m \u001b[39mrange\u001b[39m(\u001b[39m0\u001b[39m, \u001b[39mlen\u001b[39m(arrays), k)]\n\u001b[1;32m   1698\u001b[0m   \u001b[39mreturn\u001b[39;00m arrays[\u001b[39m0\u001b[39m]\n",
      "File \u001b[0;32m~/miniconda3/envs/jraph/lib/python3.10/site-packages/jax/_src/lax/lax.py:639\u001b[0m, in \u001b[0;36mconcatenate\u001b[0;34m(operands, dimension)\u001b[0m\n\u001b[1;32m    637\u001b[0m   \u001b[39mif\u001b[39;00m _is_array_or_tracer(op):\n\u001b[1;32m    638\u001b[0m     \u001b[39mreturn\u001b[39;00m type_cast(Array, op)\n\u001b[0;32m--> 639\u001b[0m \u001b[39mreturn\u001b[39;00m concatenate_p\u001b[39m.\u001b[39;49mbind(\u001b[39m*\u001b[39;49moperands, dimension\u001b[39m=\u001b[39;49mdimension)\n",
      "File \u001b[0;32m~/miniconda3/envs/jraph/lib/python3.10/site-packages/jax/core.py:328\u001b[0m, in \u001b[0;36mPrimitive.bind\u001b[0;34m(self, *args, **params)\u001b[0m\n\u001b[1;32m    325\u001b[0m \u001b[39mdef\u001b[39;00m \u001b[39mbind\u001b[39m(\u001b[39mself\u001b[39m, \u001b[39m*\u001b[39margs, \u001b[39m*\u001b[39m\u001b[39m*\u001b[39mparams):\n\u001b[1;32m    326\u001b[0m   \u001b[39massert\u001b[39;00m (\u001b[39mnot\u001b[39;00m config\u001b[39m.\u001b[39mjax_enable_checks \u001b[39mor\u001b[39;00m\n\u001b[1;32m    327\u001b[0m           \u001b[39mall\u001b[39m(\u001b[39misinstance\u001b[39m(arg, Tracer) \u001b[39mor\u001b[39;00m valid_jaxtype(arg) \u001b[39mfor\u001b[39;00m arg \u001b[39min\u001b[39;00m args)), args\n\u001b[0;32m--> 328\u001b[0m   \u001b[39mreturn\u001b[39;00m \u001b[39mself\u001b[39;49m\u001b[39m.\u001b[39;49mbind_with_trace(find_top_trace(args), args, params)\n",
      "File \u001b[0;32m~/miniconda3/envs/jraph/lib/python3.10/site-packages/jax/core.py:331\u001b[0m, in \u001b[0;36mPrimitive.bind_with_trace\u001b[0;34m(self, trace, args, params)\u001b[0m\n\u001b[1;32m    330\u001b[0m \u001b[39mdef\u001b[39;00m \u001b[39mbind_with_trace\u001b[39m(\u001b[39mself\u001b[39m, trace, args, params):\n\u001b[0;32m--> 331\u001b[0m   out \u001b[39m=\u001b[39m trace\u001b[39m.\u001b[39;49mprocess_primitive(\u001b[39mself\u001b[39;49m, \u001b[39mmap\u001b[39;49m(trace\u001b[39m.\u001b[39;49mfull_raise, args), params)\n\u001b[1;32m    332\u001b[0m   \u001b[39mreturn\u001b[39;00m \u001b[39mmap\u001b[39m(full_lower, out) \u001b[39mif\u001b[39;00m \u001b[39mself\u001b[39m\u001b[39m.\u001b[39mmultiple_results \u001b[39melse\u001b[39;00m full_lower(out)\n",
      "File \u001b[0;32m~/miniconda3/envs/jraph/lib/python3.10/site-packages/jax/core.py:698\u001b[0m, in \u001b[0;36mEvalTrace.process_primitive\u001b[0;34m(self, primitive, tracers, params)\u001b[0m\n\u001b[1;32m    697\u001b[0m \u001b[39mdef\u001b[39;00m \u001b[39mprocess_primitive\u001b[39m(\u001b[39mself\u001b[39m, primitive, tracers, params):\n\u001b[0;32m--> 698\u001b[0m   \u001b[39mreturn\u001b[39;00m primitive\u001b[39m.\u001b[39;49mimpl(\u001b[39m*\u001b[39;49mtracers, \u001b[39m*\u001b[39;49m\u001b[39m*\u001b[39;49mparams)\n",
      "File \u001b[0;32m~/miniconda3/envs/jraph/lib/python3.10/site-packages/jax/_src/dispatch.py:112\u001b[0m, in \u001b[0;36mapply_primitive\u001b[0;34m(prim, *args, **params)\u001b[0m\n\u001b[1;32m    110\u001b[0m \u001b[39mdef\u001b[39;00m \u001b[39mapply_primitive\u001b[39m(prim, \u001b[39m*\u001b[39margs, \u001b[39m*\u001b[39m\u001b[39m*\u001b[39mparams):\n\u001b[1;32m    111\u001b[0m \u001b[39m  \u001b[39m\u001b[39m\"\"\"Impl rule that compiles and runs a single primitive 'prim' using XLA.\"\"\"\u001b[39;00m\n\u001b[0;32m--> 112\u001b[0m   compiled_fun \u001b[39m=\u001b[39m xla_primitive_callable(prim, \u001b[39m*\u001b[39;49munsafe_map(arg_spec, args),\n\u001b[1;32m    113\u001b[0m                                         \u001b[39m*\u001b[39;49m\u001b[39m*\u001b[39;49mparams)\n\u001b[1;32m    114\u001b[0m   \u001b[39mreturn\u001b[39;00m compiled_fun(\u001b[39m*\u001b[39margs)\n",
      "File \u001b[0;32m~/miniconda3/envs/jraph/lib/python3.10/site-packages/jax/_src/util.py:222\u001b[0m, in \u001b[0;36mcache.<locals>.wrap.<locals>.wrapper\u001b[0;34m(*args, **kwargs)\u001b[0m\n\u001b[1;32m    220\u001b[0m   \u001b[39mreturn\u001b[39;00m f(\u001b[39m*\u001b[39margs, \u001b[39m*\u001b[39m\u001b[39m*\u001b[39mkwargs)\n\u001b[1;32m    221\u001b[0m \u001b[39melse\u001b[39;00m:\n\u001b[0;32m--> 222\u001b[0m   \u001b[39mreturn\u001b[39;00m cached(config\u001b[39m.\u001b[39;49m_trace_context(), \u001b[39m*\u001b[39;49margs, \u001b[39m*\u001b[39;49m\u001b[39m*\u001b[39;49mkwargs)\n",
      "File \u001b[0;32m~/miniconda3/envs/jraph/lib/python3.10/site-packages/jax/_src/util.py:215\u001b[0m, in \u001b[0;36mcache.<locals>.wrap.<locals>.cached\u001b[0;34m(_, *args, **kwargs)\u001b[0m\n\u001b[1;32m    213\u001b[0m \u001b[39m@functools\u001b[39m\u001b[39m.\u001b[39mlru_cache(max_size)\n\u001b[1;32m    214\u001b[0m \u001b[39mdef\u001b[39;00m \u001b[39mcached\u001b[39m(_, \u001b[39m*\u001b[39margs, \u001b[39m*\u001b[39m\u001b[39m*\u001b[39mkwargs):\n\u001b[0;32m--> 215\u001b[0m   \u001b[39mreturn\u001b[39;00m f(\u001b[39m*\u001b[39;49margs, \u001b[39m*\u001b[39;49m\u001b[39m*\u001b[39;49mkwargs)\n",
      "File \u001b[0;32m~/miniconda3/envs/jraph/lib/python3.10/site-packages/jax/_src/dispatch.py:196\u001b[0m, in \u001b[0;36mxla_primitive_callable\u001b[0;34m(prim, *arg_specs, **params)\u001b[0m\n\u001b[1;32m    194\u001b[0m   \u001b[39melse\u001b[39;00m:\n\u001b[1;32m    195\u001b[0m     \u001b[39mreturn\u001b[39;00m out,\n\u001b[0;32m--> 196\u001b[0m compiled \u001b[39m=\u001b[39m _xla_callable_uncached(lu\u001b[39m.\u001b[39;49mwrap_init(prim_fun), device, \u001b[39mNone\u001b[39;49;00m,\n\u001b[1;32m    197\u001b[0m                                   prim\u001b[39m.\u001b[39;49mname, donated_invars, \u001b[39mFalse\u001b[39;49;00m, \u001b[39m*\u001b[39;49marg_specs)\n\u001b[1;32m    198\u001b[0m \u001b[39mif\u001b[39;00m \u001b[39mnot\u001b[39;00m prim\u001b[39m.\u001b[39mmultiple_results:\n\u001b[1;32m    199\u001b[0m   \u001b[39mreturn\u001b[39;00m \u001b[39mlambda\u001b[39;00m \u001b[39m*\u001b[39margs, \u001b[39m*\u001b[39m\u001b[39m*\u001b[39mkw: compiled(\u001b[39m*\u001b[39margs, \u001b[39m*\u001b[39m\u001b[39m*\u001b[39mkw)[\u001b[39m0\u001b[39m]\n",
      "File \u001b[0;32m~/miniconda3/envs/jraph/lib/python3.10/site-packages/jax/_src/dispatch.py:369\u001b[0m, in \u001b[0;36m_xla_callable_uncached\u001b[0;34m(fun, device, backend, name, donated_invars, keep_unused, *arg_specs)\u001b[0m\n\u001b[1;32m    367\u001b[0m   \u001b[39mreturn\u001b[39;00m computation\u001b[39m.\u001b[39mcompile(_allow_propagation_to_outputs\u001b[39m=\u001b[39m\u001b[39mTrue\u001b[39;00m)\u001b[39m.\u001b[39munsafe_call\n\u001b[1;32m    368\u001b[0m \u001b[39melse\u001b[39;00m:\n\u001b[0;32m--> 369\u001b[0m   \u001b[39mreturn\u001b[39;00m lower_xla_callable(fun, device, backend, name, donated_invars, \u001b[39mFalse\u001b[39;49;00m,\n\u001b[1;32m    370\u001b[0m                             keep_unused, \u001b[39m*\u001b[39;49marg_specs)\u001b[39m.\u001b[39mcompile()\u001b[39m.\u001b[39munsafe_call\n",
      "File \u001b[0;32m~/miniconda3/envs/jraph/lib/python3.10/site-packages/jax/_src/profiler.py:313\u001b[0m, in \u001b[0;36mannotate_function.<locals>.wrapper\u001b[0;34m(*args, **kwargs)\u001b[0m\n\u001b[1;32m    310\u001b[0m \u001b[39m@wraps\u001b[39m(func)\n\u001b[1;32m    311\u001b[0m \u001b[39mdef\u001b[39;00m \u001b[39mwrapper\u001b[39m(\u001b[39m*\u001b[39margs, \u001b[39m*\u001b[39m\u001b[39m*\u001b[39mkwargs):\n\u001b[1;32m    312\u001b[0m   \u001b[39mwith\u001b[39;00m TraceAnnotation(name, \u001b[39m*\u001b[39m\u001b[39m*\u001b[39mdecorator_kwargs):\n\u001b[0;32m--> 313\u001b[0m     \u001b[39mreturn\u001b[39;00m func(\u001b[39m*\u001b[39;49margs, \u001b[39m*\u001b[39;49m\u001b[39m*\u001b[39;49mkwargs)\n\u001b[1;32m    314\u001b[0m   \u001b[39mreturn\u001b[39;00m wrapper\n",
      "File \u001b[0;32m~/miniconda3/envs/jraph/lib/python3.10/site-packages/jax/_src/dispatch.py:455\u001b[0m, in \u001b[0;36mlower_xla_callable\u001b[0;34m(fun, device, backend, name, donated_invars, always_lower, keep_unused, *arg_specs)\u001b[0m\n\u001b[1;32m    451\u001b[0m   abstract_args \u001b[39m=\u001b[39m [aval \u001b[39mfor\u001b[39;00m aval, _ \u001b[39min\u001b[39;00m fun\u001b[39m.\u001b[39min_type]\n\u001b[1;32m    453\u001b[0m \u001b[39mwith\u001b[39;00m log_elapsed_time(\u001b[39mf\u001b[39m\u001b[39m\"\u001b[39m\u001b[39mFinished tracing + transforming \u001b[39m\u001b[39m{\u001b[39;00mfun\u001b[39m.\u001b[39m\u001b[39m__name__\u001b[39m\u001b[39m}\u001b[39;00m\u001b[39m \u001b[39m\u001b[39m\"\u001b[39m\n\u001b[1;32m    454\u001b[0m                       \u001b[39m\"\u001b[39m\u001b[39mfor jit in \u001b[39m\u001b[39m{elapsed_time}\u001b[39;00m\u001b[39m sec\u001b[39m\u001b[39m\"\u001b[39m):\n\u001b[0;32m--> 455\u001b[0m   jaxpr, out_type, consts \u001b[39m=\u001b[39m pe\u001b[39m.\u001b[39;49mtrace_to_jaxpr_final2(\n\u001b[1;32m    456\u001b[0m       fun, pe\u001b[39m.\u001b[39;49mdebug_info_final(fun, \u001b[39m\"\u001b[39;49m\u001b[39mjit\u001b[39;49m\u001b[39m\"\u001b[39;49m))\n\u001b[1;32m    457\u001b[0m out_avals, kept_outputs \u001b[39m=\u001b[39m util\u001b[39m.\u001b[39munzip2(out_type)\n\u001b[1;32m    459\u001b[0m \u001b[39mif\u001b[39;00m \u001b[39many\u001b[39m(\u001b[39misinstance\u001b[39m(c, core\u001b[39m.\u001b[39mTracer) \u001b[39mfor\u001b[39;00m c \u001b[39min\u001b[39;00m consts):\n",
      "File \u001b[0;32m~/miniconda3/envs/jraph/lib/python3.10/site-packages/jax/_src/profiler.py:313\u001b[0m, in \u001b[0;36mannotate_function.<locals>.wrapper\u001b[0;34m(*args, **kwargs)\u001b[0m\n\u001b[1;32m    310\u001b[0m \u001b[39m@wraps\u001b[39m(func)\n\u001b[1;32m    311\u001b[0m \u001b[39mdef\u001b[39;00m \u001b[39mwrapper\u001b[39m(\u001b[39m*\u001b[39margs, \u001b[39m*\u001b[39m\u001b[39m*\u001b[39mkwargs):\n\u001b[1;32m    312\u001b[0m   \u001b[39mwith\u001b[39;00m TraceAnnotation(name, \u001b[39m*\u001b[39m\u001b[39m*\u001b[39mdecorator_kwargs):\n\u001b[0;32m--> 313\u001b[0m     \u001b[39mreturn\u001b[39;00m func(\u001b[39m*\u001b[39;49margs, \u001b[39m*\u001b[39;49m\u001b[39m*\u001b[39;49mkwargs)\n\u001b[1;32m    314\u001b[0m   \u001b[39mreturn\u001b[39;00m wrapper\n",
      "File \u001b[0;32m~/miniconda3/envs/jraph/lib/python3.10/site-packages/jax/interpreters/partial_eval.py:2080\u001b[0m, in \u001b[0;36mtrace_to_jaxpr_final2\u001b[0;34m(fun, debug_info)\u001b[0m\n\u001b[1;32m   2078\u001b[0m   main\u001b[39m.\u001b[39mjaxpr_stack \u001b[39m=\u001b[39m ()  \u001b[39m# type: ignore\u001b[39;00m\n\u001b[1;32m   2079\u001b[0m   \u001b[39mwith\u001b[39;00m core\u001b[39m.\u001b[39mnew_sublevel():\n\u001b[0;32m-> 2080\u001b[0m     jaxpr, out_type, consts \u001b[39m=\u001b[39m trace_to_subjaxpr_dynamic2(fun, main, debug_info)\n\u001b[1;32m   2081\u001b[0m   \u001b[39mdel\u001b[39;00m fun, main\n\u001b[1;32m   2082\u001b[0m \u001b[39mreturn\u001b[39;00m jaxpr, out_type, consts\n",
      "File \u001b[0;32m~/miniconda3/envs/jraph/lib/python3.10/site-packages/jax/interpreters/partial_eval.py:2030\u001b[0m, in \u001b[0;36mtrace_to_subjaxpr_dynamic2\u001b[0;34m(fun, main, debug_info)\u001b[0m\n\u001b[1;32m   2028\u001b[0m in_tracers \u001b[39m=\u001b[39m _input_type_to_tracers(trace\u001b[39m.\u001b[39mnew_arg, in_avals)\n\u001b[1;32m   2029\u001b[0m in_tracers_ \u001b[39m=\u001b[39m [t \u001b[39mfor\u001b[39;00m t, keep \u001b[39min\u001b[39;00m \u001b[39mzip\u001b[39m(in_tracers, keep_inputs) \u001b[39mif\u001b[39;00m keep]\n\u001b[0;32m-> 2030\u001b[0m ans \u001b[39m=\u001b[39m fun\u001b[39m.\u001b[39;49mcall_wrapped(\u001b[39m*\u001b[39;49min_tracers_)\n\u001b[1;32m   2031\u001b[0m out_tracers \u001b[39m=\u001b[39m \u001b[39mmap\u001b[39m(trace\u001b[39m.\u001b[39mfull_raise, ans)\n\u001b[1;32m   2032\u001b[0m jaxpr, out_type, consts \u001b[39m=\u001b[39m frame\u001b[39m.\u001b[39mto_jaxpr2(out_tracers)\n",
      "File \u001b[0;32m~/miniconda3/envs/jraph/lib/python3.10/site-packages/jax/linear_util.py:168\u001b[0m, in \u001b[0;36mWrappedFun.call_wrapped\u001b[0;34m(self, *args, **kwargs)\u001b[0m\n\u001b[1;32m    165\u001b[0m gen \u001b[39m=\u001b[39m gen_static_args \u001b[39m=\u001b[39m out_store \u001b[39m=\u001b[39m \u001b[39mNone\u001b[39;00m\n\u001b[1;32m    167\u001b[0m \u001b[39mtry\u001b[39;00m:\n\u001b[0;32m--> 168\u001b[0m   ans \u001b[39m=\u001b[39m \u001b[39mself\u001b[39;49m\u001b[39m.\u001b[39;49mf(\u001b[39m*\u001b[39;49margs, \u001b[39m*\u001b[39;49m\u001b[39m*\u001b[39;49m\u001b[39mdict\u001b[39;49m(\u001b[39mself\u001b[39;49m\u001b[39m.\u001b[39;49mparams, \u001b[39m*\u001b[39;49m\u001b[39m*\u001b[39;49mkwargs))\n\u001b[1;32m    169\u001b[0m \u001b[39mexcept\u001b[39;00m:\n\u001b[1;32m    170\u001b[0m   \u001b[39m# Some transformations yield from inside context managers, so we have to\u001b[39;00m\n\u001b[1;32m    171\u001b[0m   \u001b[39m# interrupt them before reraising the exception. Otherwise they will only\u001b[39;00m\n\u001b[1;32m    172\u001b[0m   \u001b[39m# get garbage-collected at some later time, running their cleanup tasks\u001b[39;00m\n\u001b[1;32m    173\u001b[0m   \u001b[39m# only after this exception is handled, which can corrupt the global\u001b[39;00m\n\u001b[1;32m    174\u001b[0m   \u001b[39m# state.\u001b[39;00m\n\u001b[1;32m    175\u001b[0m   \u001b[39mwhile\u001b[39;00m stack:\n",
      "File \u001b[0;32m~/miniconda3/envs/jraph/lib/python3.10/site-packages/jax/_src/dispatch.py:191\u001b[0m, in \u001b[0;36mxla_primitive_callable.<locals>.prim_fun\u001b[0;34m(*args)\u001b[0m\n\u001b[1;32m    190\u001b[0m \u001b[39mdef\u001b[39;00m \u001b[39mprim_fun\u001b[39m(\u001b[39m*\u001b[39margs):\n\u001b[0;32m--> 191\u001b[0m   out \u001b[39m=\u001b[39m prim\u001b[39m.\u001b[39;49mbind(\u001b[39m*\u001b[39;49margs, \u001b[39m*\u001b[39;49m\u001b[39m*\u001b[39;49mparams)\n\u001b[1;32m    192\u001b[0m   \u001b[39mif\u001b[39;00m prim\u001b[39m.\u001b[39mmultiple_results:\n\u001b[1;32m    193\u001b[0m     \u001b[39mreturn\u001b[39;00m out\n",
      "File \u001b[0;32m~/miniconda3/envs/jraph/lib/python3.10/site-packages/jax/core.py:328\u001b[0m, in \u001b[0;36mPrimitive.bind\u001b[0;34m(self, *args, **params)\u001b[0m\n\u001b[1;32m    325\u001b[0m \u001b[39mdef\u001b[39;00m \u001b[39mbind\u001b[39m(\u001b[39mself\u001b[39m, \u001b[39m*\u001b[39margs, \u001b[39m*\u001b[39m\u001b[39m*\u001b[39mparams):\n\u001b[1;32m    326\u001b[0m   \u001b[39massert\u001b[39;00m (\u001b[39mnot\u001b[39;00m config\u001b[39m.\u001b[39mjax_enable_checks \u001b[39mor\u001b[39;00m\n\u001b[1;32m    327\u001b[0m           \u001b[39mall\u001b[39m(\u001b[39misinstance\u001b[39m(arg, Tracer) \u001b[39mor\u001b[39;00m valid_jaxtype(arg) \u001b[39mfor\u001b[39;00m arg \u001b[39min\u001b[39;00m args)), args\n\u001b[0;32m--> 328\u001b[0m   \u001b[39mreturn\u001b[39;00m \u001b[39mself\u001b[39;49m\u001b[39m.\u001b[39;49mbind_with_trace(find_top_trace(args), args, params)\n",
      "File \u001b[0;32m~/miniconda3/envs/jraph/lib/python3.10/site-packages/jax/core.py:331\u001b[0m, in \u001b[0;36mPrimitive.bind_with_trace\u001b[0;34m(self, trace, args, params)\u001b[0m\n\u001b[1;32m    330\u001b[0m \u001b[39mdef\u001b[39;00m \u001b[39mbind_with_trace\u001b[39m(\u001b[39mself\u001b[39m, trace, args, params):\n\u001b[0;32m--> 331\u001b[0m   out \u001b[39m=\u001b[39m trace\u001b[39m.\u001b[39;49mprocess_primitive(\u001b[39mself\u001b[39;49m, \u001b[39mmap\u001b[39;49m(trace\u001b[39m.\u001b[39;49mfull_raise, args), params)\n\u001b[1;32m    332\u001b[0m   \u001b[39mreturn\u001b[39;00m \u001b[39mmap\u001b[39m(full_lower, out) \u001b[39mif\u001b[39;00m \u001b[39mself\u001b[39m\u001b[39m.\u001b[39mmultiple_results \u001b[39melse\u001b[39;00m full_lower(out)\n",
      "File \u001b[0;32m~/miniconda3/envs/jraph/lib/python3.10/site-packages/jax/interpreters/partial_eval.py:1716\u001b[0m, in \u001b[0;36mDynamicJaxprTrace.process_primitive\u001b[0;34m(self, primitive, tracers, params)\u001b[0m\n\u001b[1;32m   1714\u001b[0m \u001b[39mif\u001b[39;00m primitive \u001b[39min\u001b[39;00m custom_staging_rules:\n\u001b[1;32m   1715\u001b[0m   \u001b[39mreturn\u001b[39;00m custom_staging_rules[primitive](\u001b[39mself\u001b[39m, \u001b[39m*\u001b[39mtracers, \u001b[39m*\u001b[39m\u001b[39m*\u001b[39mparams)\n\u001b[0;32m-> 1716\u001b[0m \u001b[39mreturn\u001b[39;00m \u001b[39mself\u001b[39;49m\u001b[39m.\u001b[39;49mdefault_process_primitive(primitive, tracers, params)\n",
      "File \u001b[0;32m~/miniconda3/envs/jraph/lib/python3.10/site-packages/jax/interpreters/partial_eval.py:1720\u001b[0m, in \u001b[0;36mDynamicJaxprTrace.default_process_primitive\u001b[0;34m(self, primitive, tracers, params)\u001b[0m\n\u001b[1;32m   1718\u001b[0m \u001b[39mdef\u001b[39;00m \u001b[39mdefault_process_primitive\u001b[39m(\u001b[39mself\u001b[39m, primitive, tracers, params):\n\u001b[1;32m   1719\u001b[0m   avals \u001b[39m=\u001b[39m [t\u001b[39m.\u001b[39maval \u001b[39mfor\u001b[39;00m t \u001b[39min\u001b[39;00m tracers]\n\u001b[0;32m-> 1720\u001b[0m   out_avals, effects \u001b[39m=\u001b[39m primitive\u001b[39m.\u001b[39;49mabstract_eval(\u001b[39m*\u001b[39;49mavals, \u001b[39m*\u001b[39;49m\u001b[39m*\u001b[39;49mparams)\n\u001b[1;32m   1721\u001b[0m   out_avals \u001b[39m=\u001b[39m [out_avals] \u001b[39mif\u001b[39;00m \u001b[39mnot\u001b[39;00m primitive\u001b[39m.\u001b[39mmultiple_results \u001b[39melse\u001b[39;00m out_avals\n\u001b[1;32m   1722\u001b[0m   source_info \u001b[39m=\u001b[39m source_info_util\u001b[39m.\u001b[39mcurrent()\n",
      "File \u001b[0;32m~/miniconda3/envs/jraph/lib/python3.10/site-packages/jax/core.py:364\u001b[0m, in \u001b[0;36m_effect_free_abstract_eval.<locals>.abstract_eval_\u001b[0;34m(*args, **kwargs)\u001b[0m\n\u001b[1;32m    363\u001b[0m \u001b[39mdef\u001b[39;00m \u001b[39mabstract_eval_\u001b[39m(\u001b[39m*\u001b[39margs, \u001b[39m*\u001b[39m\u001b[39m*\u001b[39mkwargs):\n\u001b[0;32m--> 364\u001b[0m   \u001b[39mreturn\u001b[39;00m abstract_eval(\u001b[39m*\u001b[39;49margs, \u001b[39m*\u001b[39;49m\u001b[39m*\u001b[39;49mkwargs), no_effects\n",
      "File \u001b[0;32m~/miniconda3/envs/jraph/lib/python3.10/site-packages/jax/_src/lax/utils.py:66\u001b[0m, in \u001b[0;36mstandard_abstract_eval\u001b[0;34m(prim, shape_rule, dtype_rule, weak_type_rule, named_shape_rule, *avals, **kwargs)\u001b[0m\n\u001b[1;32m     64\u001b[0m   \u001b[39mreturn\u001b[39;00m core\u001b[39m.\u001b[39mConcreteArray(out\u001b[39m.\u001b[39mdtype, out, weak_type\u001b[39m=\u001b[39mweak_type)\n\u001b[1;32m     65\u001b[0m \u001b[39melif\u001b[39;00m least_specialized \u001b[39mis\u001b[39;00m core\u001b[39m.\u001b[39mShapedArray:\n\u001b[0;32m---> 66\u001b[0m   \u001b[39mreturn\u001b[39;00m core\u001b[39m.\u001b[39mShapedArray(shape_rule(\u001b[39m*\u001b[39;49mavals, \u001b[39m*\u001b[39;49m\u001b[39m*\u001b[39;49mkwargs),\n\u001b[1;32m     67\u001b[0m                           dtype_rule(\u001b[39m*\u001b[39mavals, \u001b[39m*\u001b[39m\u001b[39m*\u001b[39mkwargs), weak_type\u001b[39m=\u001b[39mweak_type,\n\u001b[1;32m     68\u001b[0m                           named_shape\u001b[39m=\u001b[39mnamed_shape_rule(\u001b[39m*\u001b[39mavals, \u001b[39m*\u001b[39m\u001b[39m*\u001b[39mkwargs))\n\u001b[1;32m     69\u001b[0m \u001b[39melif\u001b[39;00m least_specialized \u001b[39mis\u001b[39;00m core\u001b[39m.\u001b[39mDShapedArray:\n\u001b[1;32m     70\u001b[0m   shape \u001b[39m=\u001b[39m shape_rule(\u001b[39m*\u001b[39mavals, \u001b[39m*\u001b[39m\u001b[39m*\u001b[39mkwargs)\n",
      "File \u001b[0;32m~/miniconda3/envs/jraph/lib/python3.10/site-packages/jax/_src/lax/lax.py:2993\u001b[0m, in \u001b[0;36m_concatenate_shape_rule\u001b[0;34m(*operands, **kwargs)\u001b[0m\n\u001b[1;32m   2991\u001b[0m \u001b[39mif\u001b[39;00m \u001b[39mlen\u001b[39m({operand\u001b[39m.\u001b[39mndim \u001b[39mfor\u001b[39;00m operand \u001b[39min\u001b[39;00m operands}) \u001b[39m!=\u001b[39m \u001b[39m1\u001b[39m:\n\u001b[1;32m   2992\u001b[0m   msg \u001b[39m=\u001b[39m \u001b[39m\"\u001b[39m\u001b[39mCannot concatenate arrays with different numbers of dimensions: got \u001b[39m\u001b[39m{}\u001b[39;00m\u001b[39m.\u001b[39m\u001b[39m\"\u001b[39m\n\u001b[0;32m-> 2993\u001b[0m   \u001b[39mraise\u001b[39;00m \u001b[39mTypeError\u001b[39;00m(msg\u001b[39m.\u001b[39mformat(\u001b[39m\"\u001b[39m\u001b[39m, \u001b[39m\u001b[39m\"\u001b[39m\u001b[39m.\u001b[39mjoin(\u001b[39mstr\u001b[39m(o\u001b[39m.\u001b[39mshape) \u001b[39mfor\u001b[39;00m o \u001b[39min\u001b[39;00m operands)))\n\u001b[1;32m   2994\u001b[0m \u001b[39mif\u001b[39;00m \u001b[39mnot\u001b[39;00m \u001b[39m0\u001b[39m \u001b[39m<\u001b[39m\u001b[39m=\u001b[39m dimension \u001b[39m<\u001b[39m operands[\u001b[39m0\u001b[39m]\u001b[39m.\u001b[39mndim:\n\u001b[1;32m   2995\u001b[0m   msg \u001b[39m=\u001b[39m \u001b[39m\"\u001b[39m\u001b[39mconcatenate dimension out of bounds: dimension \u001b[39m\u001b[39m{}\u001b[39;00m\u001b[39m for shapes \u001b[39m\u001b[39m{}\u001b[39;00m\u001b[39m.\u001b[39m\u001b[39m\"\u001b[39m\n",
      "\u001b[0;31mTypeError\u001b[0m: Cannot concatenate arrays with different numbers of dimensions: got (5,), (1, 5)."
     ]
    }
   ],
   "source": [
    "evaluate(dataset_processed, params)"
   ]
  },
  {
   "cell_type": "code",
   "execution_count": null,
   "metadata": {},
   "outputs": [
    {
     "ename": "ValueError",
     "evalue": "Incompatible shapes for broadcasting: shapes=[(2,), (1, 10)]",
     "output_type": "error",
     "traceback": [
      "\u001b[0;31m---------------------------------------------------------------------------\u001b[0m",
      "\u001b[0;31mValueError\u001b[0m                                Traceback (most recent call last)",
      "    \u001b[0;31m[... skipping hidden 1 frame]\u001b[0m\n",
      "File \u001b[0;32m~/miniconda3/envs/jraph/lib/python3.10/site-packages/jax/_src/util.py:222\u001b[0m, in \u001b[0;36mcache.<locals>.wrap.<locals>.wrapper\u001b[0;34m(*args, **kwargs)\u001b[0m\n\u001b[1;32m    221\u001b[0m \u001b[39melse\u001b[39;00m:\n\u001b[0;32m--> 222\u001b[0m   \u001b[39mreturn\u001b[39;00m cached(config\u001b[39m.\u001b[39;49m_trace_context(), \u001b[39m*\u001b[39;49margs, \u001b[39m*\u001b[39;49m\u001b[39m*\u001b[39;49mkwargs)\n",
      "File \u001b[0;32m~/miniconda3/envs/jraph/lib/python3.10/site-packages/jax/_src/util.py:215\u001b[0m, in \u001b[0;36mcache.<locals>.wrap.<locals>.cached\u001b[0;34m(_, *args, **kwargs)\u001b[0m\n\u001b[1;32m    213\u001b[0m \u001b[39m@functools\u001b[39m\u001b[39m.\u001b[39mlru_cache(max_size)\n\u001b[1;32m    214\u001b[0m \u001b[39mdef\u001b[39;00m \u001b[39mcached\u001b[39m(_, \u001b[39m*\u001b[39margs, \u001b[39m*\u001b[39m\u001b[39m*\u001b[39mkwargs):\n\u001b[0;32m--> 215\u001b[0m   \u001b[39mreturn\u001b[39;00m f(\u001b[39m*\u001b[39;49margs, \u001b[39m*\u001b[39;49m\u001b[39m*\u001b[39;49mkwargs)\n",
      "File \u001b[0;32m~/miniconda3/envs/jraph/lib/python3.10/site-packages/jax/_src/lax/lax.py:141\u001b[0m, in \u001b[0;36m_broadcast_shapes_cached\u001b[0;34m(*shapes)\u001b[0m\n\u001b[1;32m    139\u001b[0m \u001b[39m@cache\u001b[39m()\n\u001b[1;32m    140\u001b[0m \u001b[39mdef\u001b[39;00m \u001b[39m_broadcast_shapes_cached\u001b[39m(\u001b[39m*\u001b[39mshapes: Tuple[\u001b[39mint\u001b[39m, \u001b[39m.\u001b[39m\u001b[39m.\u001b[39m\u001b[39m.\u001b[39m]) \u001b[39m-\u001b[39m\u001b[39m>\u001b[39m Tuple[\u001b[39mint\u001b[39m, \u001b[39m.\u001b[39m\u001b[39m.\u001b[39m\u001b[39m.\u001b[39m]:\n\u001b[0;32m--> 141\u001b[0m   \u001b[39mreturn\u001b[39;00m _broadcast_shapes_uncached(\u001b[39m*\u001b[39;49mshapes)\n",
      "File \u001b[0;32m~/miniconda3/envs/jraph/lib/python3.10/site-packages/jax/_src/lax/lax.py:157\u001b[0m, in \u001b[0;36m_broadcast_shapes_uncached\u001b[0;34m(*shapes)\u001b[0m\n\u001b[1;32m    156\u001b[0m \u001b[39mif\u001b[39;00m result_shape \u001b[39mis\u001b[39;00m \u001b[39mNone\u001b[39;00m:\n\u001b[0;32m--> 157\u001b[0m   \u001b[39mraise\u001b[39;00m \u001b[39mValueError\u001b[39;00m(\u001b[39mf\u001b[39m\u001b[39m\"\u001b[39m\u001b[39mIncompatible shapes for broadcasting: shapes=\u001b[39m\u001b[39m{\u001b[39;00m\u001b[39mlist\u001b[39m(shapes)\u001b[39m}\u001b[39;00m\u001b[39m\"\u001b[39m)\n\u001b[1;32m    158\u001b[0m \u001b[39mreturn\u001b[39;00m result_shape\n",
      "\u001b[0;31mValueError\u001b[0m: Incompatible shapes for broadcasting: shapes=[(2,), (1, 10)]",
      "\nDuring handling of the above exception, another exception occurred:\n",
      "\u001b[0;31mValueError\u001b[0m                                Traceback (most recent call last)",
      "Cell \u001b[0;32mIn[199], line 15\u001b[0m\n\u001b[1;32m     11\u001b[0m y_ \u001b[39m=\u001b[39m net\u001b[39m.\u001b[39mapply(params, x)\n\u001b[1;32m     12\u001b[0m mask \u001b[39m=\u001b[39m jraph\u001b[39m.\u001b[39mget_graph_padding_mask(y_)\n\u001b[1;32m     14\u001b[0m accuracy \u001b[39m=\u001b[39m jnp\u001b[39m.\u001b[39msum(     \n\u001b[0;32m---> 15\u001b[0m     (jnp\u001b[39m.\u001b[39;49margmax(y_\u001b[39m.\u001b[39;49mglobals, axis\u001b[39m=\u001b[39;49m\u001b[39m1\u001b[39;49m) \u001b[39m==\u001b[39;49m label) \u001b[39m*\u001b[39m mask) \u001b[39m/\u001b[39m jnp\u001b[39m.\u001b[39msum(mask)\n\u001b[1;32m     16\u001b[0m \u001b[39mprint\u001b[39m(\u001b[39mf\u001b[39m\u001b[39m\"\u001b[39m\u001b[39m{\u001b[39;00mjnp\u001b[39m.\u001b[39margmax(y_\u001b[39m.\u001b[39mglobals,\u001b[39m \u001b[39maxis\u001b[39m=\u001b[39m\u001b[39m1\u001b[39m)[\u001b[39m0\u001b[39m]\u001b[39m}\u001b[39;00m\u001b[39m \u001b[39m\u001b[39m{\u001b[39;00m\u001b[39mint\u001b[39m(dataset[_][\u001b[39m'\u001b[39m\u001b[39mtarget\u001b[39m\u001b[39m'\u001b[39m])\u001b[39m}\u001b[39;00m\u001b[39m\"\u001b[39m)\n\u001b[1;32m     18\u001b[0m total_accuracy \u001b[39m+\u001b[39m\u001b[39m=\u001b[39m accuracy\n",
      "File \u001b[0;32m~/miniconda3/envs/jraph/lib/python3.10/site-packages/jax/_src/numpy/lax_numpy.py:4705\u001b[0m, in \u001b[0;36m_defer_to_unrecognized_arg.<locals>.deferring_binary_op\u001b[0;34m(self, other)\u001b[0m\n\u001b[1;32m   4703\u001b[0m args \u001b[39m=\u001b[39m (other, \u001b[39mself\u001b[39m) \u001b[39mif\u001b[39;00m swap \u001b[39melse\u001b[39;00m (\u001b[39mself\u001b[39m, other)\n\u001b[1;32m   4704\u001b[0m \u001b[39mif\u001b[39;00m \u001b[39misinstance\u001b[39m(other, _accepted_binop_types):\n\u001b[0;32m-> 4705\u001b[0m   \u001b[39mreturn\u001b[39;00m binary_op(\u001b[39m*\u001b[39;49margs)\n\u001b[1;32m   4706\u001b[0m \u001b[39mif\u001b[39;00m \u001b[39misinstance\u001b[39m(other, _rejected_binop_types):\n\u001b[1;32m   4707\u001b[0m   \u001b[39mraise\u001b[39;00m \u001b[39mTypeError\u001b[39;00m(\u001b[39mf\u001b[39m\u001b[39m\"\u001b[39m\u001b[39munsupported operand type(s) for \u001b[39m\u001b[39m{\u001b[39;00mopchar\u001b[39m}\u001b[39;00m\u001b[39m: \u001b[39m\u001b[39m\"\u001b[39m\n\u001b[1;32m   4708\u001b[0m                   \u001b[39mf\u001b[39m\u001b[39m\"\u001b[39m\u001b[39m{\u001b[39;00m\u001b[39mtype\u001b[39m(args[\u001b[39m0\u001b[39m])\u001b[39m.\u001b[39m\u001b[39m__name__\u001b[39m\u001b[39m!r}\u001b[39;00m\u001b[39m and \u001b[39m\u001b[39m{\u001b[39;00m\u001b[39mtype\u001b[39m(args[\u001b[39m1\u001b[39m])\u001b[39m.\u001b[39m\u001b[39m__name__\u001b[39m\u001b[39m!r}\u001b[39;00m\u001b[39m\"\u001b[39m)\n",
      "    \u001b[0;31m[... skipping hidden 14 frame]\u001b[0m\n",
      "File \u001b[0;32m~/miniconda3/envs/jraph/lib/python3.10/site-packages/jax/_src/numpy/ufuncs.py:72\u001b[0m, in \u001b[0;36m_one_to_one_binop.<locals>.<lambda>\u001b[0;34m(x1, x2)\u001b[0m\n\u001b[1;32m     70\u001b[0m   fn \u001b[39m=\u001b[39m \u001b[39mlambda\u001b[39;00m x1, x2: lax_fn(\u001b[39m*\u001b[39m_promote_args_numeric(numpy_fn\u001b[39m.\u001b[39m\u001b[39m__name__\u001b[39m, x1, x2))\n\u001b[1;32m     71\u001b[0m \u001b[39melse\u001b[39;00m:\n\u001b[0;32m---> 72\u001b[0m   fn \u001b[39m=\u001b[39m \u001b[39mlambda\u001b[39;00m x1, x2: lax_fn(\u001b[39m*\u001b[39m_promote_args(numpy_fn\u001b[39m.\u001b[39;49m\u001b[39m__name__\u001b[39;49m, x1, x2))\n\u001b[1;32m     73\u001b[0m fn \u001b[39m=\u001b[39m jit(fn, inline\u001b[39m=\u001b[39m\u001b[39mTrue\u001b[39;00m)\n\u001b[1;32m     74\u001b[0m \u001b[39mif\u001b[39;00m lax_doc:\n",
      "File \u001b[0;32m~/miniconda3/envs/jraph/lib/python3.10/site-packages/jax/_src/numpy/util.py:355\u001b[0m, in \u001b[0;36m_promote_args\u001b[0;34m(fun_name, *args)\u001b[0m\n\u001b[1;32m    353\u001b[0m _check_arraylike(fun_name, \u001b[39m*\u001b[39margs)\n\u001b[1;32m    354\u001b[0m _check_no_float0s(fun_name, \u001b[39m*\u001b[39margs)\n\u001b[0;32m--> 355\u001b[0m \u001b[39mreturn\u001b[39;00m _promote_shapes(fun_name, \u001b[39m*\u001b[39;49m_promote_dtypes(\u001b[39m*\u001b[39;49margs))\n",
      "File \u001b[0;32m~/miniconda3/envs/jraph/lib/python3.10/site-packages/jax/_src/numpy/util.py:248\u001b[0m, in \u001b[0;36m_promote_shapes\u001b[0;34m(fun_name, *args)\u001b[0m\n\u001b[1;32m    246\u001b[0m \u001b[39mif\u001b[39;00m config\u001b[39m.\u001b[39mjax_numpy_rank_promotion \u001b[39m!=\u001b[39m \u001b[39m\"\u001b[39m\u001b[39mallow\u001b[39m\u001b[39m\"\u001b[39m:\n\u001b[1;32m    247\u001b[0m   _rank_promotion_warning_or_error(fun_name, shapes)\n\u001b[0;32m--> 248\u001b[0m result_rank \u001b[39m=\u001b[39m \u001b[39mlen\u001b[39m(lax\u001b[39m.\u001b[39;49mbroadcast_shapes(\u001b[39m*\u001b[39;49mshapes))\n\u001b[1;32m    249\u001b[0m \u001b[39mreturn\u001b[39;00m [_broadcast_to(arg, (\u001b[39m1\u001b[39m,) \u001b[39m*\u001b[39m (result_rank \u001b[39m-\u001b[39m \u001b[39mlen\u001b[39m(shp)) \u001b[39m+\u001b[39m shp)\n\u001b[1;32m    250\u001b[0m         \u001b[39mfor\u001b[39;00m arg, shp \u001b[39min\u001b[39;00m \u001b[39mzip\u001b[39m(args, shapes)]\n",
      "    \u001b[0;31m[... skipping hidden 1 frame]\u001b[0m\n",
      "File \u001b[0;32m~/miniconda3/envs/jraph/lib/python3.10/site-packages/jax/_src/lax/lax.py:157\u001b[0m, in \u001b[0;36m_broadcast_shapes_uncached\u001b[0;34m(*shapes)\u001b[0m\n\u001b[1;32m    155\u001b[0m result_shape \u001b[39m=\u001b[39m _try_broadcast_shapes(shape_list)\n\u001b[1;32m    156\u001b[0m \u001b[39mif\u001b[39;00m result_shape \u001b[39mis\u001b[39;00m \u001b[39mNone\u001b[39;00m:\n\u001b[0;32m--> 157\u001b[0m   \u001b[39mraise\u001b[39;00m \u001b[39mValueError\u001b[39;00m(\u001b[39mf\u001b[39m\u001b[39m\"\u001b[39m\u001b[39mIncompatible shapes for broadcasting: shapes=\u001b[39m\u001b[39m{\u001b[39;00m\u001b[39mlist\u001b[39m(shapes)\u001b[39m}\u001b[39;00m\u001b[39m\"\u001b[39m)\n\u001b[1;32m    158\u001b[0m \u001b[39mreturn\u001b[39;00m result_shape\n",
      "\u001b[0;31mValueError\u001b[0m: Incompatible shapes for broadcasting: shapes=[(2,), (1, 10)]"
     ]
    }
   ],
   "source": [
    "c, n = 0, 0\n",
    "total_accuracy = 0.\n",
    "for _ in range(len(dataset)):\n",
    "\n",
    "    x = dataset_processed[_][\"input_graph\"]\n",
    "    label = dataset_processed[_][\"target\"]\n",
    "    #x = pad_graph_to_nearest_power_of_two(x)\n",
    "    x = pad_graph_to_value(x, PAD_VALUE)\n",
    "    # label = jnp.concatenate([label, jnp.array([0])])\n",
    "\n",
    "    y_ = net.apply(params, x)\n",
    "    mask = jraph.get_graph_padding_mask(y_)\n",
    "\n",
    "    accuracy = jnp.sum(     \n",
    "        (jnp.argmax(y_.globals, axis=1) == label) * mask) / jnp.sum(mask)\n",
    "    print(f\"{jnp.argmax(y_.globals, axis=1)[0]} {int(dataset[_]['target'])}\")\n",
    "\n",
    "    total_accuracy += accuracy\n",
    "\n",
    "    total_accuracy /= _\n",
    "    print(f\"ACCURACY = {total_accuracy:.2f}%\")\n",
    "\n",
    "    # Try rotating the graph to test invariance of classification\n",
    "    print(\"TESTING ROTATION INVARIANCE.\")\n",
    "    key = jr.PRNGKey(1294)\n",
    "    n_test = 10\n",
    "    ix = jr.randint(key, shape=(n_test,), minval=0, maxval=n_test)\n",
    "    dataset = get_rotated_mnist_graphs(\n",
    "    X[ix], Y[ix], n_graphs=n_test, r_link=R_LINK, plot=True)\n",
    "\n",
    "    for i in range(n_test):\n",
    "        x, y = dataset_processed[i][\"input_graph\"], dataset_processed[i][\"target\"]\n",
    "        x = pad_graph_to_value(x, PAD_VALUE)\n",
    "        # label = jnp.concatenate([y, jnp.array([0])])\n",
    "\n",
    "        y_ = net.apply(params, x)\n",
    "        mask = jraph.get_graph_padding_mask(y_) \n",
    "\n",
    "        # accuracy = jnp.sum(     \n",
    "        #     (jnp.argmax(y_.globals, axis=1) == y) * mask) / jnp.sum(mask)\n",
    "\n",
    "        # no mask, globals stay same size always?\n",
    "        accuracy = jnp.sum(jnp.argmax(y_.globals, axis=1) == y) \n",
    "        print(f\"{jnp.argmax(y_.globals, axis=1)[0]} {int(dataset[i]['target'])}\")"
   ]
  },
  {
   "cell_type": "code",
   "execution_count": null,
   "metadata": {},
   "outputs": [],
   "source": []
  }
 ],
 "metadata": {
  "kernelspec": {
   "display_name": "jraph",
   "language": "python",
   "name": "python3"
  },
  "language_info": {
   "codemirror_mode": {
    "name": "ipython",
    "version": 3
   },
   "file_extension": ".py",
   "mimetype": "text/x-python",
   "name": "python",
   "nbconvert_exporter": "python",
   "pygments_lexer": "ipython3",
   "version": "3.10.4"
  },
  "orig_nbformat": 4,
  "vscode": {
   "interpreter": {
    "hash": "89eacdfae071486057d2d630fe016cfa1eafc53aeae1b159d8d57a4fae204a68"
   }
  }
 },
 "nbformat": 4,
 "nbformat_minor": 2
}
