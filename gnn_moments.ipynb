{
 "cells": [
  {
   "cell_type": "code",
   "execution_count": 54,
   "metadata": {},
   "outputs": [],
   "source": [
    "import os\n",
    "from functools import partial\n",
    "from typing import (\n",
    "  Tuple, List, Dict, Any, Sequence, Callable)\n",
    "\n",
    "import jax\n",
    "import jax.numpy as jnp\n",
    "import jax.random as jr \n",
    "import haiku as hk\n",
    "import jraph\n",
    "import optax\n",
    "import numpy as np\n",
    "import matplotlib.pyplot as plt\n",
    "\n",
    "from mnist_to_graphs import pad_graph_to_value"
   ]
  },
  {
   "attachments": {},
   "cell_type": "markdown",
   "metadata": {},
   "source": [
    "#### globals"
   ]
  },
  {
   "cell_type": "code",
   "execution_count": 55,
   "metadata": {},
   "outputs": [],
   "source": [
    "Array = jnp.ndarray\n",
    "Graph = jraph.GraphsTuple\n",
    "Params = hk.Params\n",
    "\n",
    "N_GRAPHS = 2000 # = n_sims\n",
    "BATCH_SIZE = 8\n",
    "N_STEPS = 10_000\n",
    "PAD_VALUE = 8128 \n",
    "F = 8 \n",
    "E = 8 "
   ]
  },
  {
   "attachments": {},
   "cell_type": "markdown",
   "metadata": {},
   "source": [
    "#### data"
   ]
  },
  {
   "cell_type": "code",
   "execution_count": 56,
   "metadata": {},
   "outputs": [
    {
     "name": "stdout",
     "output_type": "stream",
     "text": [
      "Running for redshifts:\n",
      "[0.0, 0.5, 1.0]\n",
      "at resolution x=1024 with R values:\n",
      "['5.0', '10.0', '15.0', '20.0'].\n"
     ]
    }
   ],
   "source": [
    "def get_R_z_string(R_values, z_values, n_moments_calculate=3):\n",
    "    if isinstance(R_values, list):\n",
    "        if len(R_values) == len(all_R_values):\n",
    "            R_string = \"all\"\n",
    "        else:\n",
    "            R_string = \"_\".join([str(float(R)) for R in R_values])\n",
    "    else:\n",
    "        R_string = str(R_values)\n",
    "    if isinstance(z_values, list):\n",
    "        if len(z_values) == len(all_redshifts):\n",
    "            z_string = \"all\"\n",
    "        else:\n",
    "            z_string = \"_\".join([str(float(z)) for z in z_values])\n",
    "    else:\n",
    "        z_string = str(z_values)\n",
    "\n",
    "    return f\"x={resolution}_R={R_string}_z={z_string}_nm={n_moments_calculate}\"\n",
    "\n",
    "prng_seq = hk.PRNGSequence(0)\n",
    "\n",
    "data_dir = \"/Users/Jed.Homer/phd/lfi/jaxdelfi/data/\"\n",
    "resolution = 1024 \n",
    "all_redshifts = [0., 0.5, 1., 2., 3.]\n",
    "all_R_values = [\"5.0\", \"10.0\", \"15.0\", \"20.0\", \"25.0\", \"30.0\"]\n",
    "\n",
    "redshifts = all_redshifts[:3]\n",
    "R_values = all_R_values[:4]\n",
    "\n",
    "R_idx = [all_R_values.index(R) for R in R_values]\n",
    "z_idx = [redshifts.index(z) for z in redshifts]\n",
    "\n",
    "print(f\"Running for redshifts:\\n{redshifts}\\nat resolution x={resolution} with R values:\\n{R_values}.\")\n",
    "\n",
    "Rz_string = get_R_z_string(R_values, redshifts, n_moments_calculate=3)"
   ]
  },
  {
   "cell_type": "code",
   "execution_count": 57,
   "metadata": {},
   "outputs": [],
   "source": [
    "# # (z, n, d, R)\n",
    "# all_pdfs = np.load(\n",
    "#     \"/Users/Jed.Homer/phd/lfi/jaxdelfi_pdf/data/ALL_PDFS_1024_egg.npy\") # downloaded again\n",
    "# all_pdfs_parameters = np.load(\n",
    "#     os.path.join(data_dir, \"ALL_PDFS_PARAMS.npy\"))\n",
    "\n",
    "# print(all_pdfs.shape)\n",
    "\n",
    "# all_pdfs_z = jnp.stack([all_pdfs[z] for z in z_idx])\n",
    "# all_pdfs_z_R = jnp.stack([all_pdfs_z[..., R] for R in R_idx], axis=-1)\n",
    "# all_pdfs_z_R = all_pdfs_z_R.reshape(2000, 3, -1)\n",
    "# # all_pdfs_z_R = np.moveaxis(all_pdfs_z_R, 1, 0)\n",
    "\n",
    "# all_pdfs_z_R.shape"
   ]
  },
  {
   "attachments": {},
   "cell_type": "markdown",
   "metadata": {},
   "source": [
    "#### data\n",
    "* for each moments datavector, make fully connected subgraph for each redshift, then concatenate all the redshift graphs together..."
   ]
  },
  {
   "cell_type": "code",
   "execution_count": 58,
   "metadata": {},
   "outputs": [
    {
     "data": {
      "text/plain": [
       "((2000, 5), (2000, 3, 4, 3), (3, 4, 3))"
      ]
     },
     "execution_count": 58,
     "metadata": {},
     "output_type": "execute_result"
    }
   ],
   "source": [
    "alpha = jnp.array([\n",
    "    0.3175, 0.049, 0.6711, 0.9624, 0.834])\n",
    "parameters = jnp.load(\n",
    "    os.path.join(data_dir, f\"ALL_PDFS_PARAMS.npy\")) \n",
    "simulations = jnp.load(\n",
    "    os.path.join(data_dir, f\"CALCULATED_PDF_MOMENTS_{Rz_string}.npy\"))\n",
    "fiducial_dv = jnp.load(\n",
    "    os.path.join(data_dir, f'fiducial_moments_unflat_{Rz_string}.npy')).mean(axis=0)\n",
    "\n",
    "n_sims, parameter_dim = parameters.shape\n",
    "data_dim = np.prod(fiducial_dv.shape)\n",
    "\n",
    "parameters.shape, simulations.shape, fiducial_dv.shape"
   ]
  },
  {
   "cell_type": "code",
   "execution_count": 59,
   "metadata": {},
   "outputs": [],
   "source": [
    "# simulations = all_pdfs_z_R\n",
    "# data_dim = np.prod(simulations.shape[1:])"
   ]
  },
  {
   "cell_type": "code",
   "execution_count": 60,
   "metadata": {},
   "outputs": [],
   "source": [
    "def make_subgraphs(moments):\n",
    "    # Vmapping, so this is z-axis\n",
    "    all_g_z = []\n",
    "    for z, mz in enumerate(moments):\n",
    "        # print(mz.shape, np.prod(mz.shape))\n",
    "        z_ = jnp.asarray([redshifts[z]])\n",
    "        g_z = jraph.get_fully_connected_graph(\n",
    "            # Concatenate redshift information to nodes\n",
    "            node_features=jnp.concatenate([z_, mz.flatten()]),\n",
    "            n_node_per_graph=np.prod(mz.shape) + 1,\n",
    "            n_graph=1,\n",
    "            #global_features=parameters, # maybe just parameters for main_graph not subgraphs?\n",
    "            add_self_edges=False)\n",
    "        all_g_z.append(g_z)\n",
    "    return all_g_z \n",
    "\n",
    "def make_graph_from_subgraphs(subgraphs, parameters):\n",
    "    \"\"\" \n",
    "        Make ONE graph from fully connected redshift-subgraphs\n",
    "        - NO connections between subgraphs of different redshift\n",
    "    \"\"\"\n",
    "    return jraph.GraphsTuple(\n",
    "        nodes=jnp.concatenate([g_z.nodes for g_z in subgraphs])[:, None],\n",
    "        edges=None, # edges=jnp.concatenate([g_z.edges for g_z in subgraphs]), # edge FEATURES not senders/receivers\n",
    "        # Since graph is made of subgraphs, need to re-index S and R for main_graph indexing...\n",
    "        senders=jnp.concatenate(\n",
    "            [g_z.n_node * n + g_z.senders for n, g_z in enumerate(subgraphs)]),# senders=jnp.concatenate([g_z.senders for g_z in subgraphs]),\n",
    "        receivers=jnp.concatenate(\n",
    "            [g_z.n_node * n + g_z.receivers for n, g_z in enumerate(subgraphs)]),# receivers=jnp.concatenate([g_z.receivers for g_z in subgraphs]),\n",
    "        n_node=sum([g_z.n_node for g_z in subgraphs]),\n",
    "        n_edge=sum([g_z.n_edge for g_z in subgraphs]),\n",
    "        globals=parameters)#[None, :] if parameters.ndim == 1 else parameters)"
   ]
  },
  {
   "cell_type": "code",
   "execution_count": 61,
   "metadata": {},
   "outputs": [
    {
     "name": "stderr",
     "output_type": "stream",
     "text": [
      "/Users/Jed.Homer/miniconda3/envs/jraph/lib/python3.10/site-packages/jraph/_src/utils.py:882: FutureWarning: jax.tree_leaves is deprecated, and will be removed in a future release. Use jax.tree_util.tree_leaves instead.\n",
      "  num_node_features = jax.tree_leaves(node_features)[0].shape[0]\n"
     ]
    },
    {
     "data": {
      "text/plain": [
       "((39, 1),\n",
       " None,\n",
       " DeviceArray([0.3175, 0.049 , 0.6711, 0.9624, 0.834 ], dtype=float32),\n",
       " (468,),\n",
       " (468,),\n",
       " (5,))"
      ]
     },
     "execution_count": 61,
     "metadata": {},
     "output_type": "execute_result"
    }
   ],
   "source": [
    "subgraphs = make_subgraphs(fiducial_dv)\n",
    "main_graph = make_graph_from_subgraphs(subgraphs, alpha)\n",
    "main_graph.nodes.shape, main_graph.edges, main_graph.globals, main_graph.senders.shape, main_graph.receivers.shape, main_graph.globals.shape"
   ]
  },
  {
   "cell_type": "code",
   "execution_count": 62,
   "metadata": {},
   "outputs": [
    {
     "data": {
      "text/plain": [
       "DeviceArray(38, dtype=int32)"
      ]
     },
     "execution_count": 62,
     "metadata": {},
     "output_type": "execute_result"
    }
   ],
   "source": [
    "main_graph.senders.max()"
   ]
  },
  {
   "cell_type": "code",
   "execution_count": 63,
   "metadata": {},
   "outputs": [],
   "source": [
    "def adjacency_matrix(sender_indices, receiver_indices, n_nodes=None):\n",
    "    # Determine the number of nodes in the graph if not provided\n",
    "    if n_nodes is None:\n",
    "        n_nodes = max(max(sender_indices), max(receiver_indices)) + 1\n",
    "\n",
    "    # Create an empty adjacency matrix\n",
    "    adj_matrix = np.zeros((n_nodes, n_nodes))\n",
    "\n",
    "    # Set entries in the adjacency matrix for each edge\n",
    "    for sender, receiver in zip(sender_indices, receiver_indices):\n",
    "        adj_matrix[sender, receiver] = adj_matrix[receiver, sender] = 1 \n",
    "\n",
    "    return adj_matrix"
   ]
  },
  {
   "cell_type": "code",
   "execution_count": 64,
   "metadata": {},
   "outputs": [
    {
     "name": "stdout",
     "output_type": "stream",
     "text": [
      "nodes (39, 1)\n",
      "edges None\n",
      "senders (468,)\n",
      "receivers (468,)\n",
      "globals (5,)\n",
      "n_node (1,)\n",
      "n_edge (1,)\n"
     ]
    }
   ],
   "source": [
    "attrs = [\"nodes\", \"edges\", \"senders\", \"receivers\", \"globals\", \"n_node\", \"n_edge\"]\n",
    "\n",
    "for a in attrs:\n",
    "    val = getattr(main_graph, a)\n",
    "    print(a, val.shape if val is not None else None)"
   ]
  },
  {
   "cell_type": "code",
   "execution_count": 65,
   "metadata": {},
   "outputs": [
    {
     "data": {
      "image/png": "[encoded data removed]",
      "text/plain": [
       "<Figure size 640x480 with 1 Axes>"
      ]
     },
     "metadata": {},
     "output_type": "display_data"
    }
   ],
   "source": [
    "# Expect three squares on diagonal: FULLY connected subgraphs\n",
    "A = adjacency_matrix(main_graph.senders, main_graph.receivers)\n",
    "plt.imshow(A, cmap=\"gray_r\")\n",
    "plt.show()"
   ]
  },
  {
   "attachments": {},
   "cell_type": "markdown",
   "metadata": {},
   "source": [
    "#### model"
   ]
  },
  {
   "attachments": {},
   "cell_type": "markdown",
   "metadata": {},
   "source": [
    "##### resnet"
   ]
  },
  {
   "cell_type": "code",
   "execution_count": 66,
   "metadata": {},
   "outputs": [],
   "source": [
    "layernorm_kwargs = dict(axis=1, create_scale=True, create_offset=True)\n",
    "\n",
    "class LinearResNet(hk.Module):\n",
    "  def __init__(\n",
    "    self, \n",
    "    hidden_sizes: Sequence[int],\n",
    "    activation: Callable = jax.nn.leaky_relu,\n",
    "    activate_final: bool = False):\n",
    "    super().__init__()\n",
    "    self.hidden_sizes = hidden_sizes\n",
    "    self.activation = activation\n",
    "    self.activate_final = activate_final\n",
    "    self.dropout_rate = 0.1\n",
    "\n",
    "  def __call__(self, x, inference=False):\n",
    "    z = x\n",
    "    for f in self.hidden_sizes:\n",
    "      h = self.activation(z)\n",
    "      h = hk.LayerNorm(**layernorm_kwargs)(h)\n",
    "      h = hk.Linear(f)(h)\n",
    "    #   if not inference:\n",
    "    #     h = hk.dropout(hk.next_rng_key(), self.dropout_rate, h)\n",
    "      h = self.activation(h)\n",
    "      h = hk.LayerNorm(**layernorm_kwargs)(h)\n",
    "      h = hk.Linear(f, w_init=jnp.zeros)(h)\n",
    "    #   if not inference:\n",
    "    #     h = hk.dropout(hk.next_rng_key(), self.dropout_rate, h)\n",
    "      z = z + h \n",
    "    return self.activation(z) if self.activate_final else z"
   ]
  },
  {
   "attachments": {},
   "cell_type": "markdown",
   "metadata": {},
   "source": [
    "##### gnn"
   ]
  },
  {
   "cell_type": "code",
   "execution_count": 67,
   "metadata": {},
   "outputs": [
    {
     "data": {
      "text/plain": [
       "(3, 8)"
      ]
     },
     "execution_count": 67,
     "metadata": {},
     "output_type": "execute_result"
    }
   ],
   "source": [
    "def net_fn(x, inference=False):\n",
    "  net = hk.Sequential([\n",
    "    hk.Linear(F), LinearResNet([F, F, F], activation=jax.nn.tanh)])\n",
    "  return net(x)\n",
    "\n",
    "# @jraph.concatenated_args\n",
    "def edge_update_fn(feats: Array, inference=True) -> Array:\n",
    "  \"\"\" Edge update function for graph net. \"\"\"\n",
    "  # net = hk.Sequential([\n",
    "  #  hk.Linear(F), LinearResNet([F, F, F], activation=jax.nn.tanh)])\n",
    "  # return net(feats)\n",
    "  return net_fn(feats, inference)\n",
    "\n",
    "def edge_update_fn_(nodes, receivers, globals, inference=True):\n",
    "  return net_fn(\n",
    "    jnp.concatenate([nodes, receivers, globals], axis=1),\n",
    "    inference=inference)\n",
    "\n",
    "key = jr.PRNGKey(0)\n",
    "e = hk.without_apply_rng(\n",
    "  hk.transform(edge_update_fn_))\n",
    "    # jraph.concatenated_args(\n",
    "    #   partial(edge_update_fn, inference=True))))\n",
    "\n",
    "x = jnp.ones((3, 2))\n",
    "p = e.init(key, x, x, x)\n",
    "e.apply(p, x, x, x, inference=True).shape"
   ]
  },
  {
   "cell_type": "code",
   "execution_count": 68,
   "metadata": {},
   "outputs": [
    {
     "data": {
      "text/plain": [
       "(3, 8)"
      ]
     },
     "execution_count": 68,
     "metadata": {},
     "output_type": "execute_result"
    }
   ],
   "source": [
    "def net_fn(x, inference=False):\n",
    "  net = hk.Sequential([\n",
    "    hk.Linear(F), \n",
    "    LinearResNet(\n",
    "      [F, F, F], activation=jax.nn.tanh)])\n",
    "  return net(x)\n",
    "\n",
    "def get_edge_update_fn(inference):\n",
    "    net_fn_ = partial(net_fn, inference=inference)\n",
    "    return jraph.concatenated_args(net_fn_)\n",
    "\n",
    "edge_update_fn_ = get_edge_update_fn(inference=True)\n",
    "\n",
    "key = jr.PRNGKey(0)\n",
    "e = hk.without_apply_rng(hk.transform(edge_update_fn_))\n",
    "\n",
    "x = jnp.ones((3, 2))\n",
    "p = e.init(key, x)\n",
    "e.apply(p, x).shape"
   ]
  },
  {
   "cell_type": "code",
   "execution_count": 69,
   "metadata": {},
   "outputs": [],
   "source": [
    "@jraph.concatenated_args\n",
    "def edge_update_fn(feats: Array) -> Array:\n",
    "  \"\"\" Edge update function for graph net. \"\"\"\n",
    "  net = hk.Sequential([\n",
    "    hk.Linear(F), LinearResNet([F, F, F], activation=jax.nn.tanh)])\n",
    "    # hk.Linear(F), hk.nets.MLP([F, F, F], activation=jax.nn.tanh)])\n",
    "  return net(feats)\n",
    "\n",
    "@jraph.concatenated_args \n",
    "def node_update_fn(feats: Array) -> Array:\n",
    "  \"\"\" Node update function for graph net. \"\"\"\n",
    "  net = hk.Sequential([\n",
    "    hk.Linear(F), LinearResNet([F, F, F], activation=jax.nn.tanh)])\n",
    "    # hk.Linear(F), hk.nets.MLP([F, F, F], activation=jax.nn.tanh)])\n",
    "  return net(feats)\n",
    "#   h = hk.Linear(F)(feats)\n",
    "#   h = LinearResNet(\n",
    "#     [F, F, F], activation=jax.nn.tanh\n",
    "#   )(h, inference=False)\n",
    "#   return h\n",
    "\n",
    "@jraph.concatenated_args\n",
    "def update_global_fn(feats: Array) -> Array:\n",
    "#def update_global_fn(feats: Array, inference: bool = False) -> Array:\n",
    "  \"\"\" Global update function for graph net. \"\"\"\n",
    "  net = hk.Sequential([\n",
    "    hk.Linear(F), \n",
    "    LinearResNet([F, F, F], activation=jax.nn.tanh, activate_final=True),\n",
    "    # hk.nets.MLP([F, F, F], activation=jax.nn.tanh, activate_final=True),\n",
    "    hk.Linear(parameter_dim, with_bias=True)]) # output summary of parameter dim\n",
    "  return net(feats)\n",
    "#   h = hk.Linear(F)(feats)\n",
    "#   h = LinearResNet(\n",
    "#     [F, F, F], activation=jax.nn.tanh, activate_final=True\n",
    "#   )(h, inference=False)\n",
    "#   h = hk.Linear(parameter_dim, with_bias=True)(h)\n",
    "#   return h\n",
    "\n",
    "def LayerNormLinear(x):\n",
    "    return hk.Linear(E, with_bias=False)(hk.LayerNorm(**layernorm_kwargs)(x))\n",
    "\n",
    "def net_fn(graph: Graph, inference: bool = False) -> Graph:\n",
    "  \"\"\" \n",
    "    Default aggregator functions for edges, global edges, global nodes \n",
    "    are \"segment_sum\"\n",
    "  \"\"\"\n",
    "  embedder = jraph.GraphMapFeatures(\n",
    "    embed_node_fn=LayerNormLinear, # embed_edge_fn=LayerNormLinear, \n",
    "    embed_global_fn=LayerNormLinear) \n",
    "#   net = jraph.GraphNetwork(\n",
    "#     update_node_fn=node_update_fn, # update_edge_fn=edge_update_fn,\n",
    "#     update_edge_fn=None,\n",
    "#     update_global_fn=update_global_fn)\n",
    "  graph = embedder(graph)\n",
    "#   for _ in range(3):\n",
    "  node_update_fn_ = jraph.concatenated_args(\n",
    "    partial(node_update_fn, inference=inference))\n",
    "  node_update_fn_ = partial(jraph.concatenated_args(node_update_fn), inference=inference)\n",
    "\n",
    "  update_global_fn_ = jraph.concatenated_args(\n",
    "    partial(update_global_fn, inference=inference))\n",
    "  net = jraph.GraphNetwork(\n",
    "    update_node_fn=node_update_fn,#partial(node_update_fn, inference=inference), # update_edge_fn=edge_update_fn,\n",
    "    update_edge_fn=None,\n",
    "    update_global_fn=update_global_fn)#partial(update_global_fn, inference=inference))\n",
    "  graph = net(graph)\n",
    "  return graph\n",
    "  #return net(embedder(graph)) "
   ]
  },
  {
   "attachments": {},
   "cell_type": "markdown",
   "metadata": {},
   "source": [
    "#### train"
   ]
  },
  {
   "attachments": {},
   "cell_type": "markdown",
   "metadata": {},
   "source": [
    "#### trainer functions"
   ]
  },
  {
   "cell_type": "code",
   "execution_count": 70,
   "metadata": {},
   "outputs": [],
   "source": [
    "dataset_processed = []\n",
    "for n in range(N_GRAPHS):\n",
    "    l = parameters[n]\n",
    "    g_z = make_subgraphs(simulations[n]) \n",
    "    g = make_graph_from_subgraphs(g_z, l[None, :]) # pointless 'l' here it is removed later anyway...\n",
    "    dataset_processed.append(dict(input_graph=g, target=l))\n",
    "    \n",
    "    # IMPORTANT CAN NEED THIS IN DICT ABOVE FOR TARGET=L#[None, :]))"
   ]
  },
  {
   "cell_type": "code",
   "execution_count": 71,
   "metadata": {},
   "outputs": [
    {
     "name": "stdout",
     "output_type": "stream",
     "text": [
      "nodes (39, 1)\n",
      "edges None\n",
      "senders (468,)\n",
      "receivers (468,)\n",
      "globals (1, 5)\n",
      "n_node (1,)\n",
      "n_edge (1,)\n"
     ]
    }
   ],
   "source": [
    "g = dataset_processed[0][\"input_graph\"]\n",
    "for a in attrs:\n",
    "    val = getattr(g, a)\n",
    "    print(a, val.shape if val is not None else None)"
   ]
  },
  {
   "cell_type": "code",
   "execution_count": 72,
   "metadata": {},
   "outputs": [
    {
     "name": "stdout",
     "output_type": "stream",
     "text": [
      "[(39, 1), (39, 1), (39, 1), (39, 1), (39, 1)]\n",
      "[39 39 39 39 39]\n",
      "[468 468 468 468 468]\n",
      "nodes (195, 1)\n",
      "edges None\n",
      "senders (2340,)\n",
      "receivers (2340,)\n",
      "globals (5, 5)\n",
      "n_node (5,)\n",
      "n_edge (5,)\n"
     ]
    }
   ],
   "source": [
    "gs, ls = [], []\n",
    "for _ in range(5):\n",
    "    gl = dataset_processed[_]\n",
    "    g, l = gl.values()\n",
    "    gs.append(g), ls.append(l)\n",
    "\n",
    "g_all = jraph.batch(gs)\n",
    "print([g.nodes.shape for g in gs])\n",
    "g_all.nodes.shape\n",
    "print(g_all.n_node)\n",
    "print(g_all.n_edge)\n",
    "\n",
    "for a in attrs:\n",
    "    val = getattr(g_all, a)\n",
    "    print(a, val.shape if val is not None else None)"
   ]
  },
  {
   "cell_type": "code",
   "execution_count": 73,
   "metadata": {},
   "outputs": [
    {
     "data": {
      "text/plain": [
       "2000"
      ]
     },
     "execution_count": 73,
     "metadata": {},
     "output_type": "execute_result"
    }
   ],
   "source": [
    "dataset_processed[0][\"target\"].shape\n",
    "len(dataset_processed)"
   ]
  },
  {
   "cell_type": "code",
   "execution_count": 74,
   "metadata": {},
   "outputs": [],
   "source": [
    "def compute_loss(\n",
    "  params: Params, \n",
    "  graph: Graph, \n",
    "  label: Array,\n",
    "  net: Graph,\n",
    "  inference: bool = False) -> Tuple[Array, Array]:\n",
    "  pred_graph = net.apply(params, graph, inference=inference)\n",
    "  preds = pred_graph.globals\n",
    "  mask = jraph.get_graph_padding_mask(pred_graph)\n",
    "  loss = (jnp.square(jnp.subtract(preds, label)) * mask[:, None]).mean()\n",
    "  return loss, (None,)\n",
    " \n",
    "\n",
    "def get_graphs(key, dataset):\n",
    "    if BATCH_SIZE > 1:\n",
    "        idx = jr.randint(key, shape=(BATCH_SIZE,), minval=0, maxval=len(dataset))\n",
    "        gs, ls = [], []\n",
    "        for i in idx:\n",
    "            g, l = dataset[int(i)].values()\n",
    "            gs.append(g), ls.append(l)\n",
    "        graph = jraph.batch(gs)\n",
    "        label = jnp.stack(ls)\n",
    "    else:\n",
    "        idx = int(jr.randint(key, shape=(1,), minval=0, maxval=len(dataset)))\n",
    "        graph, label = dataset[idx].values()\n",
    "    label = jnp.concatenate([label, jnp.zeros((1, parameter_dim))])\n",
    "    return graph, label\n",
    "\n",
    "\n",
    "def train(\n",
    "  dataset: List[Dict[str, Any]], \n",
    "  num_train_steps: int) -> Tuple[hk.Params, List, List]:\n",
    "\n",
    "  key = jr.PRNGKey(0)\n",
    "\n",
    "  net = hk.without_apply_rng(hk.transform(net_fn))\n",
    "\n",
    "  train_dataset = [\n",
    "    dataset[t] for t in range(int(0.9 * N_GRAPHS))]\n",
    "  valid_dataset = [\n",
    "    dataset[-v] for v in range(int(0.1 * N_GRAPHS))]#range(N_GRAPHS, int(0.9 * N_GRAPHS), -1)]\n",
    "\n",
    "  graph = train_dataset[0]['input_graph']\n",
    "  graph = pad_graph_to_value(graph, PAD_VALUE)\n",
    "  params = net.init(key, graph)\n",
    "\n",
    "  print(f\"n_params = {sum(x.size for x in jax.tree_util.tree_leaves(params)):.2E}\")\n",
    "\n",
    "  # Initialize the optimizer.\n",
    "  opt_init, opt_update = optax.adabelief(2e-4)\n",
    "  opt_state = opt_init(params)\n",
    "\n",
    "  compute_loss_ = partial(compute_loss, net=net, inference=False)\n",
    "  compute_loss_fn = jax.jit(\n",
    "    jax.value_and_grad(compute_loss_, has_aux=True))\n",
    "  eval_fn = jax.jit(partial(compute_loss, net=net, inference=False))\n",
    "\n",
    "  train_losses, valid_losses = [], []\n",
    "  for s in range(num_train_steps):\n",
    "    key, key_idx = jr.split(key)\n",
    "\n",
    "    # Train\n",
    "    graph, label = get_graphs(key_idx, train_dataset)\n",
    "    graph = pad_graph_to_value(graph, PAD_VALUE)\n",
    "    (train_loss, (_)), grad = compute_loss_fn(params, graph, label)\n",
    "\n",
    "    updates, opt_state = opt_update(grad, opt_state, params)\n",
    "    params = optax.apply_updates(params, updates)\n",
    "\n",
    "    # Validate\n",
    "    graph, label = get_graphs(key_idx, valid_dataset)\n",
    "    graph = pad_graph_to_value(graph, PAD_VALUE)\n",
    "    valid_loss, _ = eval_fn(params, graph, label)\n",
    "\n",
    "    if s % 100 == 0:\n",
    "      print(f'\\rstep: {s:06d}, L: {train_loss:.4f} L_v: {valid_loss:.4f}', end=\"\")\n",
    "\n",
    "    train_losses.append(train_loss)\n",
    "    valid_losses.append(valid_loss)\n",
    "\n",
    "  print('Training finished')\n",
    "  return params, train_losses, valid_losses "
   ]
  },
  {
   "attachments": {},
   "cell_type": "markdown",
   "metadata": {},
   "source": [
    "#### check"
   ]
  },
  {
   "cell_type": "code",
   "execution_count": 75,
   "metadata": {},
   "outputs": [
    {
     "name": "stdout",
     "output_type": "stream",
     "text": [
      "[(195, 1), (2340,), (2340,), (5, 5), (5,), (5,)]\n"
     ]
    }
   ],
   "source": [
    "print([_.shape for _ in g_all if _ is not None])"
   ]
  },
  {
   "cell_type": "code",
   "execution_count": 76,
   "metadata": {},
   "outputs": [
    {
     "name": "stdout",
     "output_type": "stream",
     "text": [
      "[[0.1755  0.06681 0.7737  0.8849  0.6641 ]\n",
      " [0.2139  0.05557 0.8599  0.9785  0.8619 ]\n",
      " [0.1867  0.04503 0.6189  0.8307  0.7187 ]\n",
      " [0.3271  0.06875 0.6313  0.8135  0.8939 ]\n",
      " [0.1433  0.06347 0.6127  1.1501  0.7699 ]\n",
      " [0.      0.      0.      0.      0.     ]] (6, 5)\n",
      "net out (5, 5)\n",
      "[ True  True  True  True False]\n"
     ]
    },
    {
     "data": {
      "text/plain": [
       "(DeviceArray([0, 0, 0, 0], dtype=int32), DeviceArray(3, dtype=int32))"
      ]
     },
     "execution_count": 76,
     "metadata": {},
     "output_type": "execute_result"
    }
   ],
   "source": [
    "key = jr.PRNGKey(0)\n",
    "key, _ = jr.split(key)\n",
    "\n",
    "net = hk.without_apply_rng(hk.transform(net_fn))\n",
    "\n",
    "graph = pad_graph_to_value(g_all, PAD_VALUE)\n",
    "print(graph.globals, graph.globals.shape)\n",
    "\n",
    "params = net.init(key, g_all)\n",
    "\n",
    "y_ = net.apply(params, g_all)\n",
    "print(\"net out\", y_.globals.shape)\n",
    "\n",
    "mask = jraph.get_graph_padding_mask(y_)\n",
    "print(mask)\n",
    "\n",
    "jnp.argmax(y_.globals[mask], axis=1), l.argmax()"
   ]
  },
  {
   "cell_type": "code",
   "execution_count": 77,
   "metadata": {},
   "outputs": [
    {
     "name": "stdout",
     "output_type": "stream",
     "text": [
      "[[0.2497  0.06921 0.8915  1.0937  0.6587 ]\n",
      " [0.      0.      0.      0.      0.     ]] (2, 5)\n",
      "nodes (8129, 1)\n",
      "edges None\n",
      "senders (8128,)\n",
      "receivers (8128,)\n",
      "globals (2, 5)\n",
      "n_node (2,)\n",
      "n_edge (2,)\n",
      "net out (2, 5)\n",
      "[ True False]\n"
     ]
    },
    {
     "data": {
      "text/plain": [
       "(DeviceArray([0], dtype=int32), DeviceArray(3, dtype=int32))"
      ]
     },
     "execution_count": 77,
     "metadata": {},
     "output_type": "execute_result"
    }
   ],
   "source": [
    "key = jr.PRNGKey(0)\n",
    "key, _ = jr.split(key)\n",
    "\n",
    "net = hk.without_apply_rng(hk.transform(net_fn))\n",
    "\n",
    "ix1, ix2 = jr.randint(key, (2,), 0, len(dataset_processed))\n",
    "\n",
    "graph = dataset_processed[ix1]['input_graph']\n",
    "l = dataset_processed[ix1]['target']\n",
    "graph = pad_graph_to_value(graph, PAD_VALUE)\n",
    "print(graph.globals, graph.globals.shape)\n",
    "\n",
    "for a in attrs:\n",
    "    val = getattr(graph, a)\n",
    "    print(a, val.shape if val is not None else None)\n",
    "\n",
    "params = net.init(key, graph)\n",
    "\n",
    "graph = dataset_processed[ix2]['input_graph']\n",
    "l = dataset_processed[ix2]['target']\n",
    "graph = pad_graph_to_value(graph, PAD_VALUE)\n",
    "\n",
    "y_ = net.apply(params, graph)\n",
    "print(\"net out\", y_.globals.shape)\n",
    "\n",
    "mask = jraph.get_graph_padding_mask(y_)\n",
    "print(mask)\n",
    "\n",
    "jnp.argmax(y_.globals[mask], axis=1), l.argmax()"
   ]
  },
  {
   "cell_type": "code",
   "execution_count": 78,
   "metadata": {},
   "outputs": [
    {
     "name": "stdout",
     "output_type": "stream",
     "text": [
      "before pad (39, 1) (1, 5)\n",
      "after pad (8129, 1) (2, 5)\n"
     ]
    }
   ],
   "source": [
    "graph = dataset_processed[ix2]['input_graph']\n",
    "print(\"before pad\", graph.nodes.shape, graph.globals.shape)\n",
    "l = dataset_processed[ix2]['target']\n",
    "graph = pad_graph_to_value(graph, PAD_VALUE)\n",
    "print(\"after pad\", graph.nodes.shape, graph.globals.shape)"
   ]
  },
  {
   "cell_type": "code",
   "execution_count": 79,
   "metadata": {},
   "outputs": [
    {
     "data": {
      "text/plain": [
       "(5,)"
      ]
     },
     "execution_count": 79,
     "metadata": {},
     "output_type": "execute_result"
    }
   ],
   "source": [
    "dataset_processed[0][\"target\"].shape"
   ]
  },
  {
   "cell_type": "code",
   "execution_count": 80,
   "metadata": {},
   "outputs": [
    {
     "name": "stdout",
     "output_type": "stream",
     "text": [
      "n_params = 1.43E+03\n",
      "step: 009900, L: 0.0077 L_v: 0.0049Training finished\n"
     ]
    }
   ],
   "source": [
    "params, train_losses, valid_losses = train(dataset_processed, num_train_steps=N_STEPS)"
   ]
  },
  {
   "cell_type": "code",
   "execution_count": 81,
   "metadata": {},
   "outputs": [
    {
     "data": {
      "image/png": "[encoded data removed]",
      "text/plain": [
       "<Figure size 800x400 with 1 Axes>"
      ]
     },
     "metadata": {},
     "output_type": "display_data"
    }
   ],
   "source": [
    "fig, ax = plt.subplots(1, 1, dpi=100, figsize=(8.,4.))\n",
    "steps = range(0, N_STEPS, 10)\n",
    "ax.semilogy(steps, train_losses[::10])\n",
    "ax.semilogy(steps, valid_losses[::10])\n",
    "plt.show()"
   ]
  },
  {
   "cell_type": "code",
   "execution_count": 82,
   "metadata": {},
   "outputs": [
    {
     "name": "stdout",
     "output_type": "stream",
     "text": [
      "nodes (78000, 1)\n",
      "edges None\n",
      "senders (936000,)\n",
      "receivers (936000,)\n",
      "globals (2000, 5)\n",
      "n_node (2000,)\n",
      "n_edge (2000,)\n"
     ]
    }
   ],
   "source": [
    "graphs = []\n",
    "for gl in dataset_processed:\n",
    "    g, l = gl.values()\n",
    "    graphs.append(g)\n",
    "\n",
    "all_graphs = jraph.batch(graphs)\n",
    "for a in attrs:\n",
    "    val = getattr(all_graphs, a)\n",
    "    print(a, val.shape if val is not None else None)"
   ]
  },
  {
   "cell_type": "code",
   "execution_count": 83,
   "metadata": {},
   "outputs": [],
   "source": [
    "fiducial_subgraphs = make_subgraphs(fiducial_dv)\n",
    "fiducial_graph = make_graph_from_subgraphs(fiducial_subgraphs, alpha[None, :])"
   ]
  },
  {
   "cell_type": "code",
   "execution_count": 84,
   "metadata": {},
   "outputs": [
    {
     "data": {
      "text/plain": [
       "(1, 5)"
      ]
     },
     "execution_count": 84,
     "metadata": {},
     "output_type": "execute_result"
    }
   ],
   "source": [
    "all_graphs_out = net.apply(params, all_graphs)\n",
    "fiducial_graph_out = net.apply(params, fiducial_graph)\n",
    "preds = all_graphs_out.globals\n",
    "fiducial_preds = fiducial_graph_out.globals\n",
    "fiducial_preds.shape "
   ]
  },
  {
   "cell_type": "code",
   "execution_count": 85,
   "metadata": {},
   "outputs": [],
   "source": [
    "# List of graphs\n",
    "# unbatched_graphs = jraph.unbatch(all_graphs_out)"
   ]
  },
  {
   "attachments": {},
   "cell_type": "markdown",
   "metadata": {},
   "source": [
    "senders and receivers are constant through application of graph interaction network"
   ]
  },
  {
   "cell_type": "code",
   "execution_count": 86,
   "metadata": {},
   "outputs": [],
   "source": [
    "# A = adjacency_matrix(unbatched_graphs[0].senders, unbatched_graphs[0].receivers)\n",
    "# plt.imshow(A, cmap=\"gray_r\")\n",
    "# plt.show()"
   ]
  },
  {
   "cell_type": "code",
   "execution_count": 87,
   "metadata": {},
   "outputs": [
    {
     "data": {
      "image/png": "[encoded data removed]",
      "text/plain": [
       "<Figure size 640x480 with 1 Axes>"
      ]
     },
     "metadata": {},
     "output_type": "display_data"
    }
   ],
   "source": [
    "A = adjacency_matrix(fiducial_graph_out.senders, fiducial_graph_out.receivers)\n",
    "plt.imshow(A, cmap=\"gray_r\")\n",
    "plt.show()"
   ]
  },
  {
   "cell_type": "code",
   "execution_count": 88,
   "metadata": {},
   "outputs": [
    {
     "name": "stdout",
     "output_type": "stream",
     "text": [
      "(2000, 2) (2000, 2)\n"
     ]
    },
    {
     "data": {
      "image/png": "[encoded data removed]",
      "text/plain": [
       "<Figure size 800x800 with 4 Axes>"
      ]
     },
     "metadata": {},
     "output_type": "display_data"
    }
   ],
   "source": [
    "target_idx = jnp.array([0, 4])\n",
    "pred_targets = preds[:, target_idx]\n",
    "parameter_targets = parameters[:N_GRAPHS, target_idx]\n",
    "\n",
    "print(pred_targets.shape, parameter_targets.shape)\n",
    "\n",
    "fig, axs = plt.subplots(2, 2, figsize=(8., 8.), dpi=100)\n",
    "ax = axs[0, 0]\n",
    "\n",
    "ax.scatter(pred_targets[:, 0], parameter_targets[:, 0], s=0.5)\n",
    "ax.scatter(fiducial_preds[:, 0], alpha[None, :][:, 0], s=2.)\n",
    "ax = axs[0, 1]\n",
    "ax.scatter(pred_targets[:, 1], parameter_targets[:, 1], s=0.5)\n",
    "ax.scatter(fiducial_preds[:, 4], alpha[None, :][:, 4], s=2.)\n",
    "ax = axs[1, 0]\n",
    "ax.hist(pred_targets[:, 0])\n",
    "ax.axvline(fiducial_preds[:, 0], color=\"orange\")\n",
    "ax = axs[1, 1]\n",
    "ax.hist(pred_targets[:, 1])\n",
    "ax.axvline(fiducial_preds[:, 4], color=\"orange\")\n",
    "plt.show()"
   ]
  },
  {
   "cell_type": "code",
   "execution_count": 89,
   "metadata": {},
   "outputs": [
    {
     "data": {
      "text/plain": [
       "(1, 5)"
      ]
     },
     "execution_count": 89,
     "metadata": {},
     "output_type": "execute_result"
    }
   ],
   "source": [
    "fiducial_preds.shape"
   ]
  },
  {
   "cell_type": "code",
   "execution_count": 90,
   "metadata": {},
   "outputs": [
    {
     "data": {
      "image/png": "[encoded data removed]",
      "text/plain": [
       "<Figure size 640x480 with 1 Axes>"
      ]
     },
     "metadata": {},
     "output_type": "display_data"
    }
   ],
   "source": [
    "plt.figure()\n",
    "plt.scatter(*pred_targets.T, s=0.5)\n",
    "plt.scatter(*fiducial_preds[:, target_idx].T, s=2.)\n",
    "plt.show()"
   ]
  },
  {
   "cell_type": "code",
   "execution_count": null,
   "metadata": {},
   "outputs": [],
   "source": []
  }
 ],
 "metadata": {
  "kernelspec": {
   "display_name": "jraph",
   "language": "python",
   "name": "python3"
  },
  "language_info": {
   "codemirror_mode": {
    "name": "ipython",
    "version": 3
   },
   "file_extension": ".py",
   "mimetype": "text/x-python",
   "name": "python",
   "nbconvert_exporter": "python",
   "pygments_lexer": "ipython3",
   "version": "3.10.4"
  },
  "orig_nbformat": 4,
  "vscode": {
   "interpreter": {
    "hash": "89eacdfae071486057d2d630fe016cfa1eafc53aeae1b159d8d57a4fae204a68"
   }
  }
 },
 "nbformat": 4,
 "nbformat_minor": 2
}
