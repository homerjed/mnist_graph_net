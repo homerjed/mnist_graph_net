{
 "cells": [
  {
   "cell_type": "code",
   "execution_count": 195,
   "metadata": {},
   "outputs": [],
   "source": [
    "import os\n",
    "from functools import partial\n",
    "from typing import (\n",
    "  Tuple, List, Dict, Any, Sequence, Callable)\n",
    "\n",
    "import haiku as hk\n",
    "import jax\n",
    "import jax.numpy as jnp\n",
    "import jax.random as jr \n",
    "import jraph\n",
    "import optax\n",
    "import numpy as np\n",
    "import matplotlib.pyplot as plt"
   ]
  },
  {
   "cell_type": "code",
   "execution_count": 196,
   "metadata": {},
   "outputs": [],
   "source": [
    "from get_mnist import load_mnist\n",
    "from mnist_to_graphs import (\n",
    "  get_mnist_graphs, \n",
    "  get_rotated_mnist_graphs,\n",
    "  pad_graph_to_value)"
   ]
  },
  {
   "attachments": {},
   "cell_type": "markdown",
   "metadata": {},
   "source": [
    "#### globals"
   ]
  },
  {
   "cell_type": "code",
   "execution_count": 197,
   "metadata": {},
   "outputs": [],
   "source": [
    "Array = jnp.ndarray\n",
    "Graph = jraph.GraphsTuple\n",
    "\n",
    "N_GRAPHS = 1024\n",
    "BATCH_SIZE = 16\n",
    "N_STEPS = 5_000\n",
    "PAD_VALUE = 8128 \n",
    "R_LINK = 0.15 #2. #1.5\n",
    "F = 8\n",
    "E = 8"
   ]
  },
  {
   "attachments": {},
   "cell_type": "markdown",
   "metadata": {},
   "source": [
    "#### data"
   ]
  },
  {
   "cell_type": "code",
   "execution_count": 198,
   "metadata": {},
   "outputs": [
    {
     "name": "stdout",
     "output_type": "stream",
     "text": [
      "Running for redshifts:\n",
      "[0.0, 0.5, 1.0]\n",
      "at resolution x=1024 with R values:\n",
      "['5.0', '10.0', '15.0', '20.0'].\n"
     ]
    }
   ],
   "source": [
    "def get_R_z_string(R_values, z_values, n_moments_calculate=3):\n",
    "    if isinstance(R_values, list):\n",
    "        if len(R_values) == len(all_R_values):\n",
    "            R_string = \"all\"\n",
    "        else:\n",
    "            R_string = \"_\".join([str(float(R)) for R in R_values])\n",
    "    else:\n",
    "        R_string = str(R_values)\n",
    "    if isinstance(z_values, list):\n",
    "        if len(z_values) == len(all_redshifts):\n",
    "            z_string = \"all\"\n",
    "        else:\n",
    "            z_string = \"_\".join([str(float(z)) for z in z_values])\n",
    "    else:\n",
    "        z_string = str(z_values)\n",
    "\n",
    "    return f\"x={resolution}_R={R_string}_z={z_string}_nm={n_moments_calculate}\"\n",
    "\n",
    "prng_seq = hk.PRNGSequence(0)\n",
    "\n",
    "data_dir = \"/Users/Jed.Homer/phd/lfi/jaxdelfi/data/\"\n",
    "resolution = 1024 \n",
    "all_redshifts = [0., 0.5, 1., 2., 3.]\n",
    "all_R_values = [\"5.0\", \"10.0\", \"15.0\", \"20.0\", \"25.0\", \"30.0\"]\n",
    "\n",
    "redshifts = all_redshifts[:3]\n",
    "R_values = all_R_values[:4]\n",
    "\n",
    "R_idx = [all_R_values.index(R) for R in R_values]\n",
    "z_idx = [redshifts.index(z) for z in redshifts]\n",
    "\n",
    "print(f\"Running for redshifts:\\n{redshifts}\\nat resolution x={resolution} with R values:\\n{R_values}.\")\n",
    "\n",
    "Rz_string = get_R_z_string(R_values, redshifts, n_moments_calculate=3)"
   ]
  },
  {
   "attachments": {},
   "cell_type": "markdown",
   "metadata": {},
   "source": [
    "#### data\n",
    "* for each moments datavector, make fully connected subgraph for each redshift, then concatenate all the redshift graphs together..."
   ]
  },
  {
   "cell_type": "code",
   "execution_count": 199,
   "metadata": {},
   "outputs": [
    {
     "data": {
      "text/plain": [
       "((2000, 5), (2000, 3, 4, 3), (3, 4, 3))"
      ]
     },
     "execution_count": 199,
     "metadata": {},
     "output_type": "execute_result"
    }
   ],
   "source": [
    "alpha = jnp.array([0.3175, 0.049, 0.6711, 0.9624, 0.834])\n",
    "parameters = jnp.load(\n",
    "        os.path.join(data_dir, f\"ALL_PDFS_PARAMS.npy\")) \n",
    "simulations = jnp.load(\n",
    "    os.path.join(data_dir, f\"CALCULATED_PDF_MOMENTS_{Rz_string}.npy\"))\n",
    "fiducial_dv = jnp.load(\n",
    "    os.path.join(data_dir, f'fiducial_moments_unflat_{Rz_string}.npy')).mean(axis=0)\n",
    "\n",
    "n_sims, parameter_dim = parameters.shape\n",
    "data_dim = np.prod(fiducial_dv.shape)\n",
    "\n",
    "parameters.shape, simulations.shape, fiducial_dv.shape"
   ]
  },
  {
   "cell_type": "code",
   "execution_count": 200,
   "metadata": {},
   "outputs": [],
   "source": [
    "import numpy as np\n",
    "\n",
    "def make_subgraphs(moments, parameters):\n",
    "    # Vmapping, so this is z-axis\n",
    "    all_g_z = []\n",
    "    for mz in moments:\n",
    "        # print(mz.shape, np.prod(mz.shape))\n",
    "        g_z = jraph.get_fully_connected_graph(\n",
    "            node_features=mz.flatten(),\n",
    "            n_node_per_graph=np.prod(mz.shape),\n",
    "            n_graph=1,\n",
    "            #global_features=parameters, # maybe just parameters for main_graph not subgraphs?\n",
    "            add_self_edges=True)\n",
    "        all_g_z.append(g_z)\n",
    "    return all_g_z \n",
    "\n",
    "def make_graph_from_subgraphs(subgraphs, parameters):\n",
    "    # make one graph from fully connected redshift-subgraphs\n",
    "    return jraph.GraphsTuple(\n",
    "        nodes=jnp.concatenate([g_z.nodes for g_z in subgraphs]),\n",
    "        edges=None,# edges=jnp.concatenate([g_z.edges for g_z in subgraphs]), # edge FEATURES not senders/receivers\n",
    "        # Since graph is made of subgraphs, need to re-index S and R for main_graph indexing...\n",
    "        senders=jnp.concatenate([g_z.n_node * n + g_z.senders for n, g_z in enumerate(subgraphs)]),\n",
    "        receivers=jnp.concatenate([g_z.n_node * n + g_z.receivers for n, g_z in enumerate(subgraphs)]),\n",
    "        # senders=jnp.concatenate([g_z.senders for g_z in subgraphs]),\n",
    "        # receivers=jnp.concatenate([g_z.receivers for g_z in subgraphs]),\n",
    "        n_node=sum([g_z.n_node for g_z in subgraphs]),\n",
    "        n_edge=sum([g_z.n_edge for g_z in subgraphs]),\n",
    "        globals=parameters)"
   ]
  },
  {
   "cell_type": "code",
   "execution_count": 201,
   "metadata": {},
   "outputs": [
    {
     "name": "stderr",
     "output_type": "stream",
     "text": [
      "/Users/Jed.Homer/miniconda3/envs/jraph/lib/python3.10/site-packages/jraph/_src/utils.py:882: FutureWarning: jax.tree_leaves is deprecated, and will be removed in a future release. Use jax.tree_util.tree_leaves instead.\n",
      "  num_node_features = jax.tree_leaves(node_features)[0].shape[0]\n"
     ]
    },
    {
     "data": {
      "text/plain": [
       "((36,),\n",
       " None,\n",
       " DeviceArray([0.3175, 0.049 , 0.6711, 0.9624, 0.834 ], dtype=float32),\n",
       " (432,),\n",
       " (432,))"
      ]
     },
     "execution_count": 201,
     "metadata": {},
     "output_type": "execute_result"
    }
   ],
   "source": [
    "subgraphs = make_subgraphs(fiducial_dv, alpha[None, :])\n",
    "main_graph = make_graph_from_subgraphs(subgraphs, alpha)\n",
    "# print(subgraphs[0])\n",
    "main_graph.nodes.shape, main_graph.edges, main_graph.globals, main_graph.senders.shape, main_graph.receivers.shape"
   ]
  },
  {
   "cell_type": "code",
   "execution_count": 202,
   "metadata": {},
   "outputs": [
    {
     "data": {
      "text/plain": [
       "DeviceArray(35, dtype=int32)"
      ]
     },
     "execution_count": 202,
     "metadata": {},
     "output_type": "execute_result"
    }
   ],
   "source": [
    "main_graph.senders.max()"
   ]
  },
  {
   "cell_type": "code",
   "execution_count": 203,
   "metadata": {},
   "outputs": [
    {
     "name": "stdout",
     "output_type": "stream",
     "text": [
      "0 0\n",
      "1 0\n",
      "2 0\n",
      "3 0\n",
      "4 0\n",
      "5 0\n",
      "6 0\n",
      "7 0\n",
      "8 0\n",
      "9 0\n",
      "10 0\n",
      "11 0\n",
      "0 1\n",
      "1 1\n",
      "2 1\n",
      "3 1\n",
      "4 1\n",
      "5 1\n",
      "6 1\n",
      "7 1\n",
      "8 1\n",
      "9 1\n",
      "10 1\n",
      "11 1\n",
      "0 2\n",
      "1 2\n",
      "2 2\n",
      "3 2\n",
      "4 2\n",
      "5 2\n",
      "6 2\n",
      "7 2\n",
      "8 2\n",
      "9 2\n",
      "10 2\n",
      "11 2\n"
     ]
    }
   ],
   "source": [
    "# main_graph.senders[:36]\n",
    "\n",
    "A = np.zeros((36, 36))\n",
    "# for i in range(36):\n",
    "#     for j in range(36):\n",
    "\n",
    "for n in range(36):\n",
    "    # non-directed graph => if sender then receiver => use only senders?\n",
    "    print(main_graph.senders[n], main_graph.receivers[n])"
   ]
  },
  {
   "cell_type": "code",
   "execution_count": 204,
   "metadata": {},
   "outputs": [],
   "source": [
    "def adjacency_matrix(sender_indices, receiver_indices, n_nodes=None):\n",
    "    # Determine the number of nodes in the graph if not provided\n",
    "    if n_nodes is None:\n",
    "        n_nodes = max(max(sender_indices), max(receiver_indices)) + 1\n",
    "\n",
    "    # Create an empty adjacency matrix\n",
    "    adj_matrix = np.zeros((n_nodes, n_nodes))\n",
    "\n",
    "    # Set entries in the adjacency matrix for each edge\n",
    "    for sender, receiver in zip(sender_indices, receiver_indices):\n",
    "        adj_matrix[sender, receiver] = 1 \n",
    "        adj_matrix[receiver, sender] = 1 \n",
    "\n",
    "    return adj_matrix"
   ]
  },
  {
   "cell_type": "code",
   "execution_count": 205,
   "metadata": {},
   "outputs": [],
   "source": [
    "# A = adjacency_matrix(subgraphs[0].senders, subgraphs[0].receivers)\n",
    "# print(A)\n",
    "# plt.imshow(A)"
   ]
  },
  {
   "cell_type": "code",
   "execution_count": 206,
   "metadata": {},
   "outputs": [
    {
     "data": {
      "image/png": "[encoded data removed]",
      "text/plain": [
       "<Figure size 640x480 with 1 Axes>"
      ]
     },
     "metadata": {},
     "output_type": "display_data"
    }
   ],
   "source": [
    "# Expect three squares on diagonal: FULLY connected subgraphs\n",
    "A = adjacency_matrix(main_graph.senders, main_graph.receivers)\n",
    "plt.imshow(A, cmap=\"gray_r\")\n",
    "plt.show()"
   ]
  },
  {
   "attachments": {},
   "cell_type": "markdown",
   "metadata": {},
   "source": [
    "#### model"
   ]
  },
  {
   "attachments": {},
   "cell_type": "markdown",
   "metadata": {},
   "source": [
    "##### resnet"
   ]
  },
  {
   "cell_type": "code",
   "execution_count": 207,
   "metadata": {},
   "outputs": [],
   "source": [
    "layernorm_kwargs = dict(axis=1, create_scale=True, create_offset=True)\n",
    "\n",
    "class LinearResNet(hk.Module):\n",
    "  def __init__(\n",
    "    self, \n",
    "    hidden_sizes: Sequence[int],\n",
    "    activation: Callable = jax.nn.leaky_relu,\n",
    "    activate_final: bool = False):\n",
    "    super().__init__()\n",
    "    self.hidden_sizes = hidden_sizes\n",
    "    self.activation = activation\n",
    "    self.activate_final = activate_final\n",
    "\n",
    "  def __call__(self, x):\n",
    "    # assert x.shape[-1] == self.hidden_size, (\n",
    "    #   \"Input must be hidden size.\")\n",
    "    z = x\n",
    "    for f in self.hidden_sizes:\n",
    "      h = self.activation(z)\n",
    "      h = hk.LayerNorm(**layernorm_kwargs)(h)\n",
    "      h = hk.Linear(f)(h)\n",
    "      h = self.activation(h)\n",
    "      h = hk.LayerNorm(**layernorm_kwargs)(h)\n",
    "      h = hk.Linear(f, w_init=jnp.zeros)(h)\n",
    "      z = z + h \n",
    "    return self.activation(z) if self.activate_final else z"
   ]
  },
  {
   "attachments": {},
   "cell_type": "markdown",
   "metadata": {},
   "source": [
    "##### gnn"
   ]
  },
  {
   "cell_type": "code",
   "execution_count": 208,
   "metadata": {},
   "outputs": [],
   "source": [
    "@jraph.concatenated_args\n",
    "def edge_update_fn(feats: Array) -> Array:\n",
    "  \"\"\" Edge update function for graph net. \"\"\"\n",
    "  net = hk.Sequential([\n",
    "    hk.Linear(F), LinearResNet([F, F, F])])\n",
    "    # hk.Linear(F), hk.nets.MLP([F, F, F])])\n",
    "  return net(feats)\n",
    "\n",
    "@jraph.concatenated_args \n",
    "def node_update_fn(feats: Array) -> Array:\n",
    "  \"\"\" Node update function for graph net. \"\"\"\n",
    "  net = hk.Sequential([\n",
    "    hk.Linear(F), LinearResNet([F, F, F])])\n",
    "    # hk.Linear(F), hk.nets.MLP([F, F, F])])\n",
    "  return net(feats)\n",
    "\n",
    "@jraph.concatenated_args\n",
    "def update_global_fn(feats: Array) -> Array:\n",
    "  \"\"\" Global update function for graph net. \"\"\"\n",
    "  net = hk.Sequential([\n",
    "    hk.Linear(F), \n",
    "    #LinearResNet([F, F, F], activate_final=True),\n",
    "    hk.nets.MLP([F, F, F], activate_final=True),\n",
    "    hk.Linear(parameter_dim, with_bias=False)]) # output summary of parameter dim\n",
    "  return net(feats)\n",
    "\n",
    "def LayerNormLinear(x):\n",
    "    return hk.Linear(E, with_bias=False)(hk.LayerNorm(**layernorm_kwargs)(x))\n",
    "\n",
    "def net_fn(graph: Graph) -> Graph:\n",
    "  \"\"\" \n",
    "    Default aggregator functions for edges, global edges, global nodes \n",
    "    are \"segment_sum\"\n",
    "  \"\"\"\n",
    "  embedder = jraph.GraphMapFeatures(\n",
    "    # embed_edge_fn=LayerNormLinear, #hk.Linear(E, with_bias=False), \n",
    "    embed_node_fn=LayerNormLinear, #hk.Linear(E, with_bias=False), \n",
    "    embed_global_fn=LayerNormLinear) #hk.Linear(E, with_bias=False))\n",
    "  net = jraph.GraphNetwork(\n",
    "    update_node_fn=node_update_fn,\n",
    "    # update_edge_fn=edge_update_fn,\n",
    "    update_edge_fn=None,\n",
    "    update_global_fn=update_global_fn)\n",
    "  graph = embedder(graph)\n",
    "#   for _ in range(3):\n",
    "  graph = net(graph)\n",
    "  return graph\n",
    "  #return net(embedder(graph)) "
   ]
  },
  {
   "attachments": {},
   "cell_type": "markdown",
   "metadata": {},
   "source": [
    "#### train"
   ]
  },
  {
   "attachments": {},
   "cell_type": "markdown",
   "metadata": {},
   "source": [
    "#### trainer functions"
   ]
  },
  {
   "cell_type": "code",
   "execution_count": 209,
   "metadata": {},
   "outputs": [],
   "source": [
    "dataset_processed = []\n",
    "for n in range(N_GRAPHS):\n",
    "    g = make_graph_from_subgraphs(\n",
    "        make_subgraphs(\n",
    "            simulations[n], parameters[n]), parameters[n])\n",
    "    l = parameters[n]\n",
    "    dataset_processed.append(dict(input_graph=g, target=l))"
   ]
  },
  {
   "cell_type": "code",
   "execution_count": 210,
   "metadata": {},
   "outputs": [
    {
     "name": "stdout",
     "output_type": "stream",
     "text": [
      "[(36,), (36,), (36,), (36,), (36,)]\n"
     ]
    },
    {
     "data": {
      "text/plain": [
       "DeviceArray([36, 36, 36, 36, 36], dtype=int32)"
      ]
     },
     "execution_count": 210,
     "metadata": {},
     "output_type": "execute_result"
    }
   ],
   "source": [
    "gs, ls = [], []\n",
    "for _ in range(5):\n",
    "    gl = dataset_processed[_]\n",
    "    g, l = gl.values()\n",
    "    gs.append(g), ls.append(l)\n",
    "\n",
    "g_all = jraph.batch(gs)\n",
    "print([g.nodes.shape for g in gs])\n",
    "g_all.nodes.shape\n",
    "g_all.n_node"
   ]
  },
  {
   "cell_type": "code",
   "execution_count": 211,
   "metadata": {},
   "outputs": [],
   "source": [
    "def compute_loss(\n",
    "  params: hk.Params, \n",
    "  graph: Graph, \n",
    "  label: Array,\n",
    "  net: Graph) -> Tuple[Array, Array]:\n",
    "  \"\"\"Computes loss and accuracy.\"\"\"\n",
    "\n",
    "  pred_graph = net.apply(params, graph)\n",
    "  print(\"pred graph globals\", pred_graph.globals.shape)\n",
    "\n",
    "  # Output of GNN and target: one hot encoded MNIST labels\n",
    "  # preds = jax.nn.log_softmax(pred_graph.globals)\n",
    "  preds = pred_graph.globals\n",
    "\n",
    "  mask = jraph.get_graph_padding_mask(pred_graph)\n",
    "\n",
    "  # Cross entropy loss.\n",
    "  print(\"PREDS/TARGETS\", preds.shape, label.shape)\n",
    "  # loss = -(preds * label * mask[:, None]).mean()\n",
    "  loss = (jnp.square(jnp.subtract(preds, label)) * mask[:, None]).mean()\n",
    "\n",
    "  return loss, (None,)\n",
    " \n",
    "\n",
    "def train(\n",
    "  dataset: List[Dict[str, Any]], \n",
    "  num_train_steps: int) -> Tuple[hk.Params, List, List]:\n",
    "\n",
    "  key = jr.PRNGKey(0)\n",
    "\n",
    "  net = hk.without_apply_rng(hk.transform(net_fn))\n",
    "\n",
    "  graph = dataset[0]['input_graph']\n",
    "  graph = pad_graph_to_value(graph, PAD_VALUE)\n",
    "  params = net.init(key, graph)\n",
    "\n",
    "  print(f\"n_params = {sum(x.size for x in jax.tree_util.tree_leaves(params)):.2E}\")\n",
    "\n",
    "  # Initialize the optimizer.\n",
    "  opt_init, opt_update = optax.adabelief(2e-4)\n",
    "  opt_state = opt_init(params)\n",
    "\n",
    "  compute_loss_fn = partial(compute_loss, net=net)\n",
    "  compute_loss_fn = jax.jit(\n",
    "    jax.value_and_grad(compute_loss_fn, has_aux=True))\n",
    "\n",
    "  losses, accs = [], []\n",
    "  for _ in range(num_train_steps):\n",
    "    key, key_idx = jr.split(key)\n",
    "\n",
    "    if BATCH_SIZE > 1:\n",
    "        idx = jr.randint(key_idx, shape=(BATCH_SIZE,), minval=0, maxval=N_GRAPHS)\n",
    "        gs, ls = [], []\n",
    "        for i in idx:\n",
    "            g, l = dataset[int(i)].values()\n",
    "            gs.append(g), ls.append(l)\n",
    "        graph = jraph.batch(gs)\n",
    "        label = jnp.concatenate(ls)\n",
    "    else:\n",
    "        idx = int(jr.randint(key_idx, shape=(BATCH_SIZE,), minval=0, maxval=N_GRAPHS))\n",
    "        graph, label = dataset[idx].values()\n",
    "\n",
    "    \"\"\" Should remove graph label, for model to generate itself. \"\"\"\n",
    "    # graph = graph._replace(globals=jnp.zeros([graph.n_node.shape[0], 1]))\n",
    "    graph = pad_graph_to_value(graph, PAD_VALUE)\n",
    "\n",
    "    # Since padding is implemented with pad_with_graphs, an extra graph has\n",
    "    # been added to the batch, which means there should be an extra label.\n",
    "    \"\"\" This label gets masked out. \"\"\"\n",
    "    label = jnp.concatenate([label, jnp.zeros((1, parameter_dim))])\n",
    "\n",
    "    (loss, (acc, pred)), grad = compute_loss_fn(params, graph, label)\n",
    "    updates, opt_state = opt_update(grad, opt_state, params)\n",
    "    params = optax.apply_updates(params, updates)\n",
    "\n",
    "    if _ % 100 == 0:\n",
    "      print(f'\\rstep: {_:06d}, ' +\n",
    "            f'loss: {loss:.4f}, ' + \n",
    "            f'acc: {100. * acc:.4f}% ' + \n",
    "            f'l: {label.argmax(axis=1)} ' +\n",
    "            f'l_: {pred}', end=\"\")\n",
    "    losses.append(loss)\n",
    "    accs.append(acc)\n",
    "\n",
    "  print('Training finished')\n",
    "  return params, losses, accs\n",
    "\n",
    "\n",
    "def evaluate(\n",
    "  dataset: List[Dict[str, Any]],\n",
    "  params: hk.Params) -> Tuple[Array, Array]:\n",
    "\n",
    "  # Transform impure `net_fn` to pure functions with hk.transform.\n",
    "  net = hk.without_apply_rng(hk.transform(net_fn))\n",
    "\n",
    "  # Get a candidate graph and label to initialize the network.\n",
    "  graph = dataset[0]['input_graph']\n",
    "\n",
    "  accumulated_loss = 0.\n",
    "  accumulated_accuracy = 0.\n",
    "\n",
    "  compute_loss_fn = jax.jit(partial(compute_loss, net=net))\n",
    "  for idx in range(len(dataset)):\n",
    "    graph = dataset[idx]['input_graph']\n",
    "    label = dataset[idx]['target']\n",
    "\n",
    "    graph = pad_graph_to_value(graph, PAD_VALUE)\n",
    "    label = jnp.concatenate([label, jnp.zeros((1, parameter_dim))])\n",
    "\n",
    "    graph = net.apply(params, graph)\n",
    "\n",
    "    loss, acc = compute_loss_fn(params, graph, label)\n",
    "\n",
    "    accumulated_accuracy += acc\n",
    "    accumulated_loss += loss\n",
    "\n",
    "    if idx % 100 == 0:\n",
    "      print(f'Evaluated {idx + 1} graphs')\n",
    "\n",
    "  print('Completed evaluation.')\n",
    "  loss = accumulated_loss / idx\n",
    "  accuracy = accumulated_accuracy / idx\n",
    "  print(f'Eval loss: {loss:.4f}, accuracy {accuracy:.4f}')\n",
    "  return loss, accuracy"
   ]
  },
  {
   "attachments": {},
   "cell_type": "markdown",
   "metadata": {},
   "source": [
    "#### check"
   ]
  },
  {
   "cell_type": "code",
   "execution_count": 212,
   "metadata": {},
   "outputs": [
    {
     "name": "stdout",
     "output_type": "stream",
     "text": [
      "[0.4157  0.04765 0.6087  0.8165  0.9189  0.     ]\n",
      "[0.4157  0.04765 0.6087  0.8165  0.9189  0.     ]\n"
     ]
    },
    {
     "ename": "ValueError",
     "evalue": "Incompatible shapes for broadcasting: (2,) and requested shape (8,)",
     "output_type": "error",
     "traceback": [
      "\u001b[0;31m---------------------------------------------------------------------------\u001b[0m",
      "\u001b[0;31mValueError\u001b[0m                                Traceback (most recent call last)",
      "Cell \u001b[0;32mIn[212], line 15\u001b[0m\n\u001b[1;32m     11\u001b[0m \u001b[39mprint\u001b[39m(graph\u001b[39m.\u001b[39mglobals)\n\u001b[1;32m     13\u001b[0m \u001b[39mprint\u001b[39m(graph\u001b[39m.\u001b[39mglobals)\n\u001b[0;32m---> 15\u001b[0m params \u001b[39m=\u001b[39m net\u001b[39m.\u001b[39;49minit(key, graph)\n\u001b[1;32m     17\u001b[0m graph \u001b[39m=\u001b[39m dataset_processed[ix2][\u001b[39m'\u001b[39m\u001b[39minput_graph\u001b[39m\u001b[39m'\u001b[39m]\n\u001b[1;32m     18\u001b[0m l \u001b[39m=\u001b[39m dataset_processed[ix2][\u001b[39m'\u001b[39m\u001b[39mtarget\u001b[39m\u001b[39m'\u001b[39m]\n",
      "File \u001b[0;32m~/miniconda3/envs/jraph/lib/python3.10/site-packages/haiku/_src/transform.py:114\u001b[0m, in \u001b[0;36mwithout_state.<locals>.init_fn\u001b[0;34m(*args, **kwargs)\u001b[0m\n\u001b[1;32m    113\u001b[0m \u001b[39mdef\u001b[39;00m \u001b[39minit_fn\u001b[39m(\u001b[39m*\u001b[39margs, \u001b[39m*\u001b[39m\u001b[39m*\u001b[39mkwargs):\n\u001b[0;32m--> 114\u001b[0m   params, state \u001b[39m=\u001b[39m f\u001b[39m.\u001b[39;49minit(\u001b[39m*\u001b[39;49margs, \u001b[39m*\u001b[39;49m\u001b[39m*\u001b[39;49mkwargs)\n\u001b[1;32m    115\u001b[0m   \u001b[39mif\u001b[39;00m state:\n\u001b[1;32m    116\u001b[0m     \u001b[39mraise\u001b[39;00m \u001b[39mValueError\u001b[39;00m(\u001b[39m\"\u001b[39m\u001b[39mIf your transformed function uses `hk.\u001b[39m\u001b[39m{\u001b[39m\u001b[39mget,set}_state` \u001b[39m\u001b[39m\"\u001b[39m\n\u001b[1;32m    117\u001b[0m                      \u001b[39m\"\u001b[39m\u001b[39mthen use `hk.transform_with_state`.\u001b[39m\u001b[39m\"\u001b[39m)\n",
      "File \u001b[0;32m~/miniconda3/envs/jraph/lib/python3.10/site-packages/haiku/_src/transform.py:338\u001b[0m, in \u001b[0;36mtransform_with_state.<locals>.init_fn\u001b[0;34m(rng, *args, **kwargs)\u001b[0m\n\u001b[1;32m    336\u001b[0m \u001b[39mwith\u001b[39;00m base\u001b[39m.\u001b[39mnew_context(rng\u001b[39m=\u001b[39mrng) \u001b[39mas\u001b[39;00m ctx:\n\u001b[1;32m    337\u001b[0m   \u001b[39mtry\u001b[39;00m:\n\u001b[0;32m--> 338\u001b[0m     f(\u001b[39m*\u001b[39;49margs, \u001b[39m*\u001b[39;49m\u001b[39m*\u001b[39;49mkwargs)\n\u001b[1;32m    339\u001b[0m   \u001b[39mexcept\u001b[39;00m jax\u001b[39m.\u001b[39merrors\u001b[39m.\u001b[39mUnexpectedTracerError \u001b[39mas\u001b[39;00m e:\n\u001b[1;32m    340\u001b[0m     \u001b[39mraise\u001b[39;00m jax\u001b[39m.\u001b[39merrors\u001b[39m.\u001b[39mUnexpectedTracerError(unexpected_tracer_hint) \u001b[39mfrom\u001b[39;00m \u001b[39me\u001b[39;00m\n",
      "Cell \u001b[0;32mIn[208], line 46\u001b[0m, in \u001b[0;36mnet_fn\u001b[0;34m(graph)\u001b[0m\n\u001b[1;32m     44\u001b[0m   graph \u001b[39m=\u001b[39m embedder(graph)\n\u001b[1;32m     45\u001b[0m \u001b[39m#   for _ in range(3):\u001b[39;00m\n\u001b[0;32m---> 46\u001b[0m   graph \u001b[39m=\u001b[39m net(graph)\n\u001b[1;32m     47\u001b[0m   \u001b[39mreturn\u001b[39;00m graph\n",
      "File \u001b[0;32m~/miniconda3/envs/jraph/lib/python3.10/site-packages/jraph/_src/models.py:178\u001b[0m, in \u001b[0;36mGraphNetwork.<locals>._ApplyGraphNet\u001b[0;34m(graph)\u001b[0m\n\u001b[1;32m    175\u001b[0m received_attributes \u001b[39m=\u001b[39m tree\u001b[39m.\u001b[39mtree_map(\u001b[39mlambda\u001b[39;00m n: n[receivers], nodes)\n\u001b[1;32m    176\u001b[0m \u001b[39m# Here we scatter the global features to the corresponding edges,\u001b[39;00m\n\u001b[1;32m    177\u001b[0m \u001b[39m# giving us tensors of shape [num_edges, global_feat].\u001b[39;00m\n\u001b[0;32m--> 178\u001b[0m global_edge_attributes \u001b[39m=\u001b[39m tree\u001b[39m.\u001b[39;49mtree_map(\u001b[39mlambda\u001b[39;49;00m g: jnp\u001b[39m.\u001b[39;49mrepeat(\n\u001b[1;32m    179\u001b[0m     g, n_edge, axis\u001b[39m=\u001b[39;49m\u001b[39m0\u001b[39;49m, total_repeat_length\u001b[39m=\u001b[39;49msum_n_edge), globals_)\n\u001b[1;32m    181\u001b[0m \u001b[39mif\u001b[39;00m update_edge_fn:\n\u001b[1;32m    182\u001b[0m   edges \u001b[39m=\u001b[39m update_edge_fn(edges, sent_attributes, received_attributes,\n\u001b[1;32m    183\u001b[0m                          global_edge_attributes)\n",
      "File \u001b[0;32m~/miniconda3/envs/jraph/lib/python3.10/site-packages/jax/_src/tree_util.py:200\u001b[0m, in \u001b[0;36mtree_map\u001b[0;34m(f, tree, is_leaf, *rest)\u001b[0m\n\u001b[1;32m    198\u001b[0m leaves, treedef \u001b[39m=\u001b[39m tree_flatten(tree, is_leaf)\n\u001b[1;32m    199\u001b[0m all_leaves \u001b[39m=\u001b[39m [leaves] \u001b[39m+\u001b[39m [treedef\u001b[39m.\u001b[39mflatten_up_to(r) \u001b[39mfor\u001b[39;00m r \u001b[39min\u001b[39;00m rest]\n\u001b[0;32m--> 200\u001b[0m \u001b[39mreturn\u001b[39;00m treedef\u001b[39m.\u001b[39;49munflatten(f(\u001b[39m*\u001b[39;49mxs) \u001b[39mfor\u001b[39;49;00m xs \u001b[39min\u001b[39;49;00m \u001b[39mzip\u001b[39;49m(\u001b[39m*\u001b[39;49mall_leaves))\n",
      "File \u001b[0;32m~/miniconda3/envs/jraph/lib/python3.10/site-packages/jax/_src/tree_util.py:200\u001b[0m, in \u001b[0;36m<genexpr>\u001b[0;34m(.0)\u001b[0m\n\u001b[1;32m    198\u001b[0m leaves, treedef \u001b[39m=\u001b[39m tree_flatten(tree, is_leaf)\n\u001b[1;32m    199\u001b[0m all_leaves \u001b[39m=\u001b[39m [leaves] \u001b[39m+\u001b[39m [treedef\u001b[39m.\u001b[39mflatten_up_to(r) \u001b[39mfor\u001b[39;00m r \u001b[39min\u001b[39;00m rest]\n\u001b[0;32m--> 200\u001b[0m \u001b[39mreturn\u001b[39;00m treedef\u001b[39m.\u001b[39munflatten(f(\u001b[39m*\u001b[39;49mxs) \u001b[39mfor\u001b[39;00m xs \u001b[39min\u001b[39;00m \u001b[39mzip\u001b[39m(\u001b[39m*\u001b[39mall_leaves))\n",
      "File \u001b[0;32m~/miniconda3/envs/jraph/lib/python3.10/site-packages/jraph/_src/models.py:178\u001b[0m, in \u001b[0;36mGraphNetwork.<locals>._ApplyGraphNet.<locals>.<lambda>\u001b[0;34m(g)\u001b[0m\n\u001b[1;32m    175\u001b[0m received_attributes \u001b[39m=\u001b[39m tree\u001b[39m.\u001b[39mtree_map(\u001b[39mlambda\u001b[39;00m n: n[receivers], nodes)\n\u001b[1;32m    176\u001b[0m \u001b[39m# Here we scatter the global features to the corresponding edges,\u001b[39;00m\n\u001b[1;32m    177\u001b[0m \u001b[39m# giving us tensors of shape [num_edges, global_feat].\u001b[39;00m\n\u001b[0;32m--> 178\u001b[0m global_edge_attributes \u001b[39m=\u001b[39m tree\u001b[39m.\u001b[39mtree_map(\u001b[39mlambda\u001b[39;00m g: jnp\u001b[39m.\u001b[39;49mrepeat(\n\u001b[1;32m    179\u001b[0m     g, n_edge, axis\u001b[39m=\u001b[39;49m\u001b[39m0\u001b[39;49m, total_repeat_length\u001b[39m=\u001b[39;49msum_n_edge), globals_)\n\u001b[1;32m    181\u001b[0m \u001b[39mif\u001b[39;00m update_edge_fn:\n\u001b[1;32m    182\u001b[0m   edges \u001b[39m=\u001b[39m update_edge_fn(edges, sent_attributes, received_attributes,\n\u001b[1;32m    183\u001b[0m                          global_edge_attributes)\n",
      "File \u001b[0;32m~/miniconda3/envs/jraph/lib/python3.10/site-packages/jax/_src/numpy/lax_numpy.py:2409\u001b[0m, in \u001b[0;36mrepeat\u001b[0;34m(a, repeats, axis, total_repeat_length)\u001b[0m\n\u001b[1;32m   2407\u001b[0m   repeats \u001b[39m=\u001b[39m ravel(repeats)\n\u001b[1;32m   2408\u001b[0m   \u001b[39mif\u001b[39;00m ndim(a) \u001b[39m!=\u001b[39m \u001b[39m0\u001b[39m:\n\u001b[0;32m-> 2409\u001b[0m     repeats \u001b[39m=\u001b[39m broadcast_to(repeats, [a\u001b[39m.\u001b[39;49mshape[axis]])\n\u001b[1;32m   2411\u001b[0m \u001b[39m# Special case when a is a scalar.\u001b[39;00m\n\u001b[1;32m   2412\u001b[0m \u001b[39mif\u001b[39;00m ndim(a) \u001b[39m==\u001b[39m \u001b[39m0\u001b[39m:\n",
      "File \u001b[0;32m~/miniconda3/envs/jraph/lib/python3.10/site-packages/jax/_src/numpy/util.py:403\u001b[0m, in \u001b[0;36m_broadcast_to\u001b[0;34m(arr, shape)\u001b[0m\n\u001b[1;32m    401\u001b[0m \u001b[39mif\u001b[39;00m nlead \u001b[39m<\u001b[39m \u001b[39m0\u001b[39m \u001b[39mor\u001b[39;00m \u001b[39mnot\u001b[39;00m compatible:\n\u001b[1;32m    402\u001b[0m   msg \u001b[39m=\u001b[39m \u001b[39m\"\u001b[39m\u001b[39mIncompatible shapes for broadcasting: \u001b[39m\u001b[39m{}\u001b[39;00m\u001b[39m and requested shape \u001b[39m\u001b[39m{}\u001b[39;00m\u001b[39m\"\u001b[39m\n\u001b[0;32m--> 403\u001b[0m   \u001b[39mraise\u001b[39;00m \u001b[39mValueError\u001b[39;00m(msg\u001b[39m.\u001b[39mformat(arr_shape, shape))\n\u001b[1;32m    404\u001b[0m diff, \u001b[39m=\u001b[39m np\u001b[39m.\u001b[39mwhere(\u001b[39mtuple\u001b[39m(\u001b[39mnot\u001b[39;00m core\u001b[39m.\u001b[39msymbolic_equal_dim(arr_d, shape_d)\n\u001b[1;32m    405\u001b[0m                        \u001b[39mfor\u001b[39;00m arr_d, shape_d \u001b[39min\u001b[39;00m safe_zip(arr_shape, shape_tail)))\n\u001b[1;32m    406\u001b[0m new_dims \u001b[39m=\u001b[39m \u001b[39mtuple\u001b[39m(\u001b[39mrange\u001b[39m(nlead)) \u001b[39m+\u001b[39m \u001b[39mtuple\u001b[39m(nlead \u001b[39m+\u001b[39m diff)\n",
      "\u001b[0;31mValueError\u001b[0m: Incompatible shapes for broadcasting: (2,) and requested shape (8,)"
     ]
    }
   ],
   "source": [
    "key = jr.PRNGKey(0)\n",
    "key, _ = jr.split(key)\n",
    "\n",
    "net = hk.without_apply_rng(hk.transform(net_fn))\n",
    "\n",
    "ix1, ix2 = jr.randint(key, (2,), 0, len(dataset_processed))\n",
    "\n",
    "graph = dataset_processed[ix1]['input_graph']\n",
    "l = dataset_processed[ix1]['target']\n",
    "graph = pad_graph_to_value(graph, PAD_VALUE)\n",
    "print(graph.globals)\n",
    "\n",
    "print(graph.globals)\n",
    "\n",
    "params = net.init(key, graph)\n",
    "\n",
    "graph = dataset_processed[ix2]['input_graph']\n",
    "l = dataset_processed[ix2]['target']\n",
    "graph = pad_graph_to_value(graph, PAD_VALUE)\n",
    "\n",
    "y_ = net.apply(params, graph)\n",
    "print(\"net out\", y_.globals.shape)\n",
    "\n",
    "mask = jraph.get_graph_padding_mask(y_)\n",
    "print(mask)\n",
    "\n",
    "jnp.argmax(y_.globals[mask], axis=1), l.argmax()"
   ]
  },
  {
   "cell_type": "code",
   "execution_count": null,
   "metadata": {},
   "outputs": [
    {
     "name": "stdout",
     "output_type": "stream",
     "text": [
      "before pad (64, 1) (372, 3) (1, 10)\n",
      "after pad (8129, 1) (8128, 3) (2, 10)\n"
     ]
    }
   ],
   "source": [
    "graph = dataset_processed[ix2]['input_graph']\n",
    "print(\"before pad\", graph.nodes.shape, graph.edges.shape, graph.globals.shape)\n",
    "l = dataset_processed[ix2]['target']\n",
    "graph = pad_graph_to_value(graph, PAD_VALUE)\n",
    "print(\"after pad\", graph.nodes.shape, graph.edges.shape, graph.globals.shape)"
   ]
  },
  {
   "cell_type": "code",
   "execution_count": null,
   "metadata": {},
   "outputs": [
    {
     "name": "stdout",
     "output_type": "stream",
     "text": [
      "n_params = 5.98E+04\n",
      "pred graph globals (9, 10)\n",
      "PREDS/TARGETS (9, 10) (9, 10)\n",
      "pred graph global Traced<ShapedArray(int32[9])>with<DynamicJaxprTrace(level=0/1)>\n",
      "label Traced<ShapedArray(int32[9])>with<DynamicJaxprTrace(level=0/1)>\n",
      "step: 004900, loss: 0.0285, acc: 87.5000 l: [9 1 1 4 1 2 1 7 0] l_: [9 1 1 4 1 0 1 7 1]]Training finished\n"
     ]
    }
   ],
   "source": [
    "params, losses, accs = train(dataset_processed, num_train_steps=N_STEPS)"
   ]
  },
  {
   "cell_type": "code",
   "execution_count": null,
   "metadata": {},
   "outputs": [
    {
     "ename": "NameError",
     "evalue": "name 'losses' is not defined",
     "output_type": "error",
     "traceback": [
      "\u001b[0;31m---------------------------------------------------------------------------\u001b[0m",
      "\u001b[0;31mNameError\u001b[0m                                 Traceback (most recent call last)",
      "Cell \u001b[0;32mIn[83], line 4\u001b[0m\n\u001b[1;32m      2\u001b[0m ax \u001b[39m=\u001b[39m axs[\u001b[39m0\u001b[39m]\n\u001b[1;32m      3\u001b[0m steps \u001b[39m=\u001b[39m \u001b[39mrange\u001b[39m(\u001b[39m0\u001b[39m, N_STEPS, \u001b[39m10\u001b[39m)\n\u001b[0;32m----> 4\u001b[0m ax\u001b[39m.\u001b[39msemilogy(steps, losses[::\u001b[39m10\u001b[39m])\n\u001b[1;32m      5\u001b[0m ax \u001b[39m=\u001b[39m axs[\u001b[39m1\u001b[39m]\n\u001b[1;32m      6\u001b[0m steps \u001b[39m=\u001b[39m \u001b[39mrange\u001b[39m(\u001b[39m0\u001b[39m, N_STEPS, \u001b[39m40\u001b[39m)\n",
      "\u001b[0;31mNameError\u001b[0m: name 'losses' is not defined"
     ]
    },
    {
     "data": {
      "image/png": "[encoded data removed]",
      "text/plain": [
       "<Figure size 1600x800 with 2 Axes>"
      ]
     },
     "metadata": {},
     "output_type": "display_data"
    }
   ],
   "source": [
    "fig, axs = plt.subplots(1, 2, dpi=200, figsize=(8.,4.))\n",
    "ax = axs[0]\n",
    "steps = range(0, N_STEPS, 10)\n",
    "ax.semilogy(steps, losses[::10])\n",
    "ax = axs[1]\n",
    "steps = range(0, N_STEPS, 40)\n",
    "ax.plot(steps, accs[::40])\n",
    "plt.show()"
   ]
  },
  {
   "cell_type": "code",
   "execution_count": null,
   "metadata": {},
   "outputs": [
    {
     "name": "stdout",
     "output_type": "stream",
     "text": [
      "label [5 0] [8 9]\n"
     ]
    },
    {
     "ename": "ValueError",
     "evalue": "'linear_1/w' with retrieved shape (1, 32) does not match shape=[32, 32] dtype=dtype('float32')",
     "output_type": "error",
     "traceback": [
      "\u001b[0;31m---------------------------------------------------------------------------\u001b[0m",
      "\u001b[0;31mValueError\u001b[0m                                Traceback (most recent call last)",
      "Cell \u001b[0;32mIn[579], line 1\u001b[0m\n\u001b[0;32m----> 1\u001b[0m evaluate(dataset_processed, params)\n",
      "Cell \u001b[0;32mIn[571], line 113\u001b[0m, in \u001b[0;36mevaluate\u001b[0;34m(dataset, params)\u001b[0m\n\u001b[1;32m    109\u001b[0m graph \u001b[39m=\u001b[39m net\u001b[39m.\u001b[39mapply(params, graph)\n\u001b[1;32m    111\u001b[0m \u001b[39mprint\u001b[39m(\u001b[39m\"\u001b[39m\u001b[39mlabel\u001b[39m\u001b[39m\"\u001b[39m, label\u001b[39m.\u001b[39margmax(axis\u001b[39m=\u001b[39m\u001b[39m1\u001b[39m), graph\u001b[39m.\u001b[39mglobals\u001b[39m.\u001b[39margmax(axis\u001b[39m=\u001b[39m\u001b[39m1\u001b[39m))\n\u001b[0;32m--> 113\u001b[0m loss, acc \u001b[39m=\u001b[39m compute_loss_fn(params, graph, label)\n\u001b[1;32m    115\u001b[0m accumulated_accuracy \u001b[39m+\u001b[39m\u001b[39m=\u001b[39m acc\n\u001b[1;32m    116\u001b[0m accumulated_loss \u001b[39m+\u001b[39m\u001b[39m=\u001b[39m loss\n",
      "    \u001b[0;31m[... skipping hidden 14 frame]\u001b[0m\n",
      "Cell \u001b[0;32mIn[571], line 8\u001b[0m, in \u001b[0;36mcompute_loss\u001b[0;34m(params, graph, label, net)\u001b[0m\n\u001b[1;32m      1\u001b[0m \u001b[39mdef\u001b[39;00m \u001b[39mcompute_loss\u001b[39m(\n\u001b[1;32m      2\u001b[0m   params: hk\u001b[39m.\u001b[39mParams, \n\u001b[1;32m      3\u001b[0m   graph: Graph, \n\u001b[1;32m      4\u001b[0m   label: Array,\n\u001b[1;32m      5\u001b[0m   net: Graph) \u001b[39m-\u001b[39m\u001b[39m>\u001b[39m Tuple[Array, Array]:\n\u001b[1;32m      6\u001b[0m \u001b[39m  \u001b[39m\u001b[39m\"\"\"Computes loss and accuracy.\"\"\"\u001b[39;00m\n\u001b[0;32m----> 8\u001b[0m   pred_graph \u001b[39m=\u001b[39m net\u001b[39m.\u001b[39;49mapply(params, graph)\n\u001b[1;32m      9\u001b[0m   \u001b[39mprint\u001b[39m(\u001b[39m\"\u001b[39m\u001b[39mpred graph globals\u001b[39m\u001b[39m\"\u001b[39m, pred_graph\u001b[39m.\u001b[39mglobals\u001b[39m.\u001b[39mshape)\n\u001b[1;32m     11\u001b[0m   \u001b[39m# Output of GNN and target: one hot encoded MNIST labels\u001b[39;00m\n",
      "File \u001b[0;32m~/miniconda3/envs/jraph/lib/python3.10/site-packages/haiku/_src/multi_transform.py:298\u001b[0m, in \u001b[0;36mwithout_apply_rng.<locals>.apply_fn\u001b[0;34m(params, *args, **kwargs)\u001b[0m\n\u001b[1;32m    296\u001b[0m \u001b[39mdef\u001b[39;00m \u001b[39mapply_fn\u001b[39m(params, \u001b[39m*\u001b[39margs, \u001b[39m*\u001b[39m\u001b[39m*\u001b[39mkwargs):\n\u001b[1;32m    297\u001b[0m   check_rng_kwarg(kwargs)\n\u001b[0;32m--> 298\u001b[0m   \u001b[39mreturn\u001b[39;00m f\u001b[39m.\u001b[39;49mapply(params, \u001b[39mNone\u001b[39;49;00m, \u001b[39m*\u001b[39;49margs, \u001b[39m*\u001b[39;49m\u001b[39m*\u001b[39;49mkwargs)\n",
      "File \u001b[0;32m~/miniconda3/envs/jraph/lib/python3.10/site-packages/haiku/_src/transform.py:128\u001b[0m, in \u001b[0;36mwithout_state.<locals>.apply_fn\u001b[0;34m(params, *args, **kwargs)\u001b[0m\n\u001b[1;32m    121\u001b[0m \u001b[39mif\u001b[39;00m \u001b[39m\"\u001b[39m\u001b[39mstate\u001b[39m\u001b[39m\"\u001b[39m \u001b[39min\u001b[39;00m kwargs:\n\u001b[1;32m    122\u001b[0m   \u001b[39mraise\u001b[39;00m \u001b[39mTypeError\u001b[39;00m(\n\u001b[1;32m    123\u001b[0m       \u001b[39m\"\u001b[39m\u001b[39mHaiku transform adds three arguments (params, state, rng) to apply. \u001b[39m\u001b[39m\"\u001b[39m\n\u001b[1;32m    124\u001b[0m       \u001b[39m\"\u001b[39m\u001b[39mIf the functions you are transforming use the same names you must \u001b[39m\u001b[39m\"\u001b[39m\n\u001b[1;32m    125\u001b[0m       \u001b[39m\"\u001b[39m\u001b[39mpass them positionally (e.g. `f.apply(.., my_state)` and not by \u001b[39m\u001b[39m\"\u001b[39m\n\u001b[1;32m    126\u001b[0m       \u001b[39m\"\u001b[39m\u001b[39mname (e.g. `f.apply(.., state=my_state)`)\u001b[39m\u001b[39m\"\u001b[39m)\n\u001b[0;32m--> 128\u001b[0m out, state \u001b[39m=\u001b[39m f\u001b[39m.\u001b[39;49mapply(params, {}, \u001b[39m*\u001b[39;49margs, \u001b[39m*\u001b[39;49m\u001b[39m*\u001b[39;49mkwargs)\n\u001b[1;32m    129\u001b[0m \u001b[39mif\u001b[39;00m state:\n\u001b[1;32m    130\u001b[0m   \u001b[39mraise\u001b[39;00m \u001b[39mValueError\u001b[39;00m(\u001b[39m\"\u001b[39m\u001b[39mIf your transformed function uses `hk.\u001b[39m\u001b[39m{\u001b[39m\u001b[39mget,set}_state` \u001b[39m\u001b[39m\"\u001b[39m\n\u001b[1;32m    131\u001b[0m                    \u001b[39m\"\u001b[39m\u001b[39mthen use `hk.transform_with_state`.\u001b[39m\u001b[39m\"\u001b[39m)\n",
      "File \u001b[0;32m~/miniconda3/envs/jraph/lib/python3.10/site-packages/haiku/_src/transform.py:357\u001b[0m, in \u001b[0;36mtransform_with_state.<locals>.apply_fn\u001b[0;34m(params, state, rng, *args, **kwargs)\u001b[0m\n\u001b[1;32m    355\u001b[0m \u001b[39mwith\u001b[39;00m base\u001b[39m.\u001b[39mnew_context(params\u001b[39m=\u001b[39mparams, state\u001b[39m=\u001b[39mstate, rng\u001b[39m=\u001b[39mrng) \u001b[39mas\u001b[39;00m ctx:\n\u001b[1;32m    356\u001b[0m   \u001b[39mtry\u001b[39;00m:\n\u001b[0;32m--> 357\u001b[0m     out \u001b[39m=\u001b[39m f(\u001b[39m*\u001b[39;49margs, \u001b[39m*\u001b[39;49m\u001b[39m*\u001b[39;49mkwargs)\n\u001b[1;32m    358\u001b[0m   \u001b[39mexcept\u001b[39;00m jax\u001b[39m.\u001b[39merrors\u001b[39m.\u001b[39mUnexpectedTracerError \u001b[39mas\u001b[39;00m e:\n\u001b[1;32m    359\u001b[0m     \u001b[39mraise\u001b[39;00m jax\u001b[39m.\u001b[39merrors\u001b[39m.\u001b[39mUnexpectedTracerError(unexpected_tracer_hint) \u001b[39mfrom\u001b[39;00m \u001b[39me\u001b[39;00m\n",
      "Cell \u001b[0;32mIn[556], line 40\u001b[0m, in \u001b[0;36mnet_fn\u001b[0;34m(graph)\u001b[0m\n\u001b[1;32m     32\u001b[0m embedder \u001b[39m=\u001b[39m jraph\u001b[39m.\u001b[39mGraphMapFeatures(\n\u001b[1;32m     33\u001b[0m   embed_edge_fn\u001b[39m=\u001b[39mhk\u001b[39m.\u001b[39mLinear(E, with_bias\u001b[39m=\u001b[39m\u001b[39mFalse\u001b[39;00m), \n\u001b[1;32m     34\u001b[0m   embed_node_fn\u001b[39m=\u001b[39mhk\u001b[39m.\u001b[39mLinear(E, with_bias\u001b[39m=\u001b[39m\u001b[39mFalse\u001b[39;00m), \n\u001b[1;32m     35\u001b[0m   embed_global_fn\u001b[39m=\u001b[39mhk\u001b[39m.\u001b[39mLinear(E, with_bias\u001b[39m=\u001b[39m\u001b[39mFalse\u001b[39;00m))\n\u001b[1;32m     36\u001b[0m net \u001b[39m=\u001b[39m jraph\u001b[39m.\u001b[39mGraphNetwork(\n\u001b[1;32m     37\u001b[0m   update_node_fn\u001b[39m=\u001b[39mnode_update_fn,\n\u001b[1;32m     38\u001b[0m   update_edge_fn\u001b[39m=\u001b[39medge_update_fn,\n\u001b[1;32m     39\u001b[0m   update_global_fn\u001b[39m=\u001b[39mupdate_global_fn)\n\u001b[0;32m---> 40\u001b[0m graph \u001b[39m=\u001b[39m embedder(graph)\n\u001b[1;32m     41\u001b[0m \u001b[39mfor\u001b[39;00m _ \u001b[39min\u001b[39;00m \u001b[39mrange\u001b[39m(\u001b[39m3\u001b[39m):\n\u001b[1;32m     42\u001b[0m   graph \u001b[39m=\u001b[39m net(graph)\n",
      "File \u001b[0;32m~/miniconda3/envs/jraph/lib/python3.10/site-packages/jraph/_src/models.py:331\u001b[0m, in \u001b[0;36mGraphMapFeatures.<locals>.Embed\u001b[0;34m(graphs_tuple)\u001b[0m\n\u001b[1;32m    329\u001b[0m \u001b[39mdef\u001b[39;00m \u001b[39mEmbed\u001b[39m(graphs_tuple):\n\u001b[1;32m    330\u001b[0m   \u001b[39mreturn\u001b[39;00m graphs_tuple\u001b[39m.\u001b[39m_replace(\n\u001b[0;32m--> 331\u001b[0m       nodes\u001b[39m=\u001b[39membed_nodes_fn(graphs_tuple\u001b[39m.\u001b[39;49mnodes),\n\u001b[1;32m    332\u001b[0m       edges\u001b[39m=\u001b[39membed_edges_fn(graphs_tuple\u001b[39m.\u001b[39medges),\n\u001b[1;32m    333\u001b[0m       \u001b[39mglobals\u001b[39m\u001b[39m=\u001b[39membed_global_fn(graphs_tuple\u001b[39m.\u001b[39mglobals))\n",
      "File \u001b[0;32m~/miniconda3/envs/jraph/lib/python3.10/site-packages/haiku/_src/module.py:434\u001b[0m, in \u001b[0;36mwrap_method.<locals>.wrapped\u001b[0;34m(self, *args, **kwargs)\u001b[0m\n\u001b[1;32m    431\u001b[0m     local_module_name \u001b[39m=\u001b[39m module_name\u001b[39m.\u001b[39msplit(\u001b[39m\"\u001b[39m\u001b[39m/\u001b[39m\u001b[39m\"\u001b[39m)[\u001b[39m-\u001b[39m\u001b[39m1\u001b[39m]\n\u001b[1;32m    432\u001b[0m     f \u001b[39m=\u001b[39m stateful\u001b[39m.\u001b[39mnamed_call(f, name\u001b[39m=\u001b[39mlocal_module_name)\n\u001b[0;32m--> 434\u001b[0m out \u001b[39m=\u001b[39m f(\u001b[39m*\u001b[39;49margs, \u001b[39m*\u001b[39;49m\u001b[39m*\u001b[39;49mkwargs)\n\u001b[1;32m    436\u001b[0m \u001b[39m# Module names are set in the constructor. If `f` is the constructor then\u001b[39;00m\n\u001b[1;32m    437\u001b[0m \u001b[39m# its name will only be set **after** `f` has run. For methods other\u001b[39;00m\n\u001b[1;32m    438\u001b[0m \u001b[39m# than `__init__` we need the name before running in order to wrap their\u001b[39;00m\n\u001b[1;32m    439\u001b[0m \u001b[39m# execution with `named_call`.\u001b[39;00m\n\u001b[1;32m    440\u001b[0m \u001b[39mif\u001b[39;00m module_name \u001b[39mis\u001b[39;00m \u001b[39mNone\u001b[39;00m:\n",
      "File \u001b[0;32m~/miniconda3/envs/jraph/lib/python3.10/contextlib.py:79\u001b[0m, in \u001b[0;36mContextDecorator.__call__.<locals>.inner\u001b[0;34m(*args, **kwds)\u001b[0m\n\u001b[1;32m     76\u001b[0m \u001b[39m@wraps\u001b[39m(func)\n\u001b[1;32m     77\u001b[0m \u001b[39mdef\u001b[39;00m \u001b[39minner\u001b[39m(\u001b[39m*\u001b[39margs, \u001b[39m*\u001b[39m\u001b[39m*\u001b[39mkwds):\n\u001b[1;32m     78\u001b[0m     \u001b[39mwith\u001b[39;00m \u001b[39mself\u001b[39m\u001b[39m.\u001b[39m_recreate_cm():\n\u001b[0;32m---> 79\u001b[0m         \u001b[39mreturn\u001b[39;00m func(\u001b[39m*\u001b[39;49margs, \u001b[39m*\u001b[39;49m\u001b[39m*\u001b[39;49mkwds)\n",
      "File \u001b[0;32m~/miniconda3/envs/jraph/lib/python3.10/site-packages/haiku/_src/module.py:273\u001b[0m, in \u001b[0;36mrun_interceptors\u001b[0;34m(bound_method, method_name, self, *args, **kwargs)\u001b[0m\n\u001b[1;32m    271\u001b[0m \u001b[39m\u001b[39m\u001b[39m\"\"\"Runs any method interceptors or the original method.\"\"\"\u001b[39;00m\n\u001b[1;32m    272\u001b[0m \u001b[39mif\u001b[39;00m \u001b[39mnot\u001b[39;00m interceptor_stack:\n\u001b[0;32m--> 273\u001b[0m   \u001b[39mreturn\u001b[39;00m bound_method(\u001b[39m*\u001b[39;49margs, \u001b[39m*\u001b[39;49m\u001b[39m*\u001b[39;49mkwargs)\n\u001b[1;32m    275\u001b[0m ctx \u001b[39m=\u001b[39m MethodContext(module\u001b[39m=\u001b[39m\u001b[39mself\u001b[39m,\n\u001b[1;32m    276\u001b[0m                     method_name\u001b[39m=\u001b[39mmethod_name,\n\u001b[1;32m    277\u001b[0m                     orig_method\u001b[39m=\u001b[39mbound_method)\n\u001b[1;32m    278\u001b[0m interceptor_stack_copy \u001b[39m=\u001b[39m interceptor_stack\u001b[39m.\u001b[39mclone()\n",
      "File \u001b[0;32m~/miniconda3/envs/jraph/lib/python3.10/site-packages/haiku/_src/basic.py:176\u001b[0m, in \u001b[0;36mLinear.__call__\u001b[0;34m(self, inputs, precision)\u001b[0m\n\u001b[1;32m    174\u001b[0m   stddev \u001b[39m=\u001b[39m \u001b[39m1.\u001b[39m \u001b[39m/\u001b[39m np\u001b[39m.\u001b[39msqrt(\u001b[39mself\u001b[39m\u001b[39m.\u001b[39minput_size)\n\u001b[1;32m    175\u001b[0m   w_init \u001b[39m=\u001b[39m hk\u001b[39m.\u001b[39minitializers\u001b[39m.\u001b[39mTruncatedNormal(stddev\u001b[39m=\u001b[39mstddev)\n\u001b[0;32m--> 176\u001b[0m w \u001b[39m=\u001b[39m hk\u001b[39m.\u001b[39;49mget_parameter(\u001b[39m\"\u001b[39;49m\u001b[39mw\u001b[39;49m\u001b[39m\"\u001b[39;49m, [input_size, output_size], dtype, init\u001b[39m=\u001b[39;49mw_init)\n\u001b[1;32m    178\u001b[0m out \u001b[39m=\u001b[39m jnp\u001b[39m.\u001b[39mdot(inputs, w, precision\u001b[39m=\u001b[39mprecision)\n\u001b[1;32m    180\u001b[0m \u001b[39mif\u001b[39;00m \u001b[39mself\u001b[39m\u001b[39m.\u001b[39mwith_bias:\n",
      "File \u001b[0;32m~/miniconda3/envs/jraph/lib/python3.10/site-packages/haiku/_src/base.py:448\u001b[0m, in \u001b[0;36mreplaceable.<locals>.wrapped\u001b[0;34m(*args, **kwargs)\u001b[0m\n\u001b[1;32m    446\u001b[0m \u001b[39m@functools\u001b[39m\u001b[39m.\u001b[39mwraps(f)\n\u001b[1;32m    447\u001b[0m \u001b[39mdef\u001b[39;00m \u001b[39mwrapped\u001b[39m(\u001b[39m*\u001b[39margs, \u001b[39m*\u001b[39m\u001b[39m*\u001b[39mkwargs):\n\u001b[0;32m--> 448\u001b[0m   \u001b[39mreturn\u001b[39;00m wrapped\u001b[39m.\u001b[39;49m_current(\u001b[39m*\u001b[39;49margs, \u001b[39m*\u001b[39;49m\u001b[39m*\u001b[39;49mkwargs)\n",
      "File \u001b[0;32m~/miniconda3/envs/jraph/lib/python3.10/site-packages/haiku/_src/base.py:540\u001b[0m, in \u001b[0;36mget_parameter\u001b[0;34m(name, shape, dtype, init)\u001b[0m\n\u001b[1;32m    537\u001b[0m param \u001b[39m=\u001b[39m check_not_none(param, \u001b[39m\"\u001b[39m\u001b[39mParameters cannot be `None`.\u001b[39m\u001b[39m\"\u001b[39m)\n\u001b[1;32m    539\u001b[0m \u001b[39mif\u001b[39;00m param\u001b[39m.\u001b[39mshape \u001b[39m!=\u001b[39m \u001b[39mtuple\u001b[39m(shape):\n\u001b[0;32m--> 540\u001b[0m   \u001b[39mraise\u001b[39;00m \u001b[39mValueError\u001b[39;00m(\n\u001b[1;32m    541\u001b[0m       \u001b[39mf\u001b[39m\u001b[39m\"\u001b[39m\u001b[39m{\u001b[39;00mfq_name\u001b[39m!r}\u001b[39;00m\u001b[39m with retrieved shape \u001b[39m\u001b[39m{\u001b[39;00mparam\u001b[39m.\u001b[39mshape\u001b[39m!r}\u001b[39;00m\u001b[39m does not match \u001b[39m\u001b[39m\"\u001b[39m\n\u001b[1;32m    542\u001b[0m       \u001b[39mf\u001b[39m\u001b[39m\"\u001b[39m\u001b[39mshape=\u001b[39m\u001b[39m{\u001b[39;00mshape\u001b[39m!r}\u001b[39;00m\u001b[39m dtype=\u001b[39m\u001b[39m{\u001b[39;00mdtype\u001b[39m!r}\u001b[39;00m\u001b[39m\"\u001b[39m)\n\u001b[1;32m    544\u001b[0m \u001b[39mreturn\u001b[39;00m param\n",
      "\u001b[0;31mValueError\u001b[0m: 'linear_1/w' with retrieved shape (1, 32) does not match shape=[32, 32] dtype=dtype('float32')"
     ]
    }
   ],
   "source": [
    "evaluate(dataset_processed, params)"
   ]
  },
  {
   "cell_type": "code",
   "execution_count": null,
   "metadata": {},
   "outputs": [
    {
     "ename": "ValueError",
     "evalue": "Incompatible shapes for broadcasting: shapes=[(2,), (1, 10)]",
     "output_type": "error",
     "traceback": [
      "\u001b[0;31m---------------------------------------------------------------------------\u001b[0m",
      "\u001b[0;31mValueError\u001b[0m                                Traceback (most recent call last)",
      "    \u001b[0;31m[... skipping hidden 1 frame]\u001b[0m\n",
      "File \u001b[0;32m~/miniconda3/envs/jraph/lib/python3.10/site-packages/jax/_src/util.py:222\u001b[0m, in \u001b[0;36mcache.<locals>.wrap.<locals>.wrapper\u001b[0;34m(*args, **kwargs)\u001b[0m\n\u001b[1;32m    221\u001b[0m \u001b[39melse\u001b[39;00m:\n\u001b[0;32m--> 222\u001b[0m   \u001b[39mreturn\u001b[39;00m cached(config\u001b[39m.\u001b[39;49m_trace_context(), \u001b[39m*\u001b[39;49margs, \u001b[39m*\u001b[39;49m\u001b[39m*\u001b[39;49mkwargs)\n",
      "File \u001b[0;32m~/miniconda3/envs/jraph/lib/python3.10/site-packages/jax/_src/util.py:215\u001b[0m, in \u001b[0;36mcache.<locals>.wrap.<locals>.cached\u001b[0;34m(_, *args, **kwargs)\u001b[0m\n\u001b[1;32m    213\u001b[0m \u001b[39m@functools\u001b[39m\u001b[39m.\u001b[39mlru_cache(max_size)\n\u001b[1;32m    214\u001b[0m \u001b[39mdef\u001b[39;00m \u001b[39mcached\u001b[39m(_, \u001b[39m*\u001b[39margs, \u001b[39m*\u001b[39m\u001b[39m*\u001b[39mkwargs):\n\u001b[0;32m--> 215\u001b[0m   \u001b[39mreturn\u001b[39;00m f(\u001b[39m*\u001b[39;49margs, \u001b[39m*\u001b[39;49m\u001b[39m*\u001b[39;49mkwargs)\n",
      "File \u001b[0;32m~/miniconda3/envs/jraph/lib/python3.10/site-packages/jax/_src/lax/lax.py:141\u001b[0m, in \u001b[0;36m_broadcast_shapes_cached\u001b[0;34m(*shapes)\u001b[0m\n\u001b[1;32m    139\u001b[0m \u001b[39m@cache\u001b[39m()\n\u001b[1;32m    140\u001b[0m \u001b[39mdef\u001b[39;00m \u001b[39m_broadcast_shapes_cached\u001b[39m(\u001b[39m*\u001b[39mshapes: Tuple[\u001b[39mint\u001b[39m, \u001b[39m.\u001b[39m\u001b[39m.\u001b[39m\u001b[39m.\u001b[39m]) \u001b[39m-\u001b[39m\u001b[39m>\u001b[39m Tuple[\u001b[39mint\u001b[39m, \u001b[39m.\u001b[39m\u001b[39m.\u001b[39m\u001b[39m.\u001b[39m]:\n\u001b[0;32m--> 141\u001b[0m   \u001b[39mreturn\u001b[39;00m _broadcast_shapes_uncached(\u001b[39m*\u001b[39;49mshapes)\n",
      "File \u001b[0;32m~/miniconda3/envs/jraph/lib/python3.10/site-packages/jax/_src/lax/lax.py:157\u001b[0m, in \u001b[0;36m_broadcast_shapes_uncached\u001b[0;34m(*shapes)\u001b[0m\n\u001b[1;32m    156\u001b[0m \u001b[39mif\u001b[39;00m result_shape \u001b[39mis\u001b[39;00m \u001b[39mNone\u001b[39;00m:\n\u001b[0;32m--> 157\u001b[0m   \u001b[39mraise\u001b[39;00m \u001b[39mValueError\u001b[39;00m(\u001b[39mf\u001b[39m\u001b[39m\"\u001b[39m\u001b[39mIncompatible shapes for broadcasting: shapes=\u001b[39m\u001b[39m{\u001b[39;00m\u001b[39mlist\u001b[39m(shapes)\u001b[39m}\u001b[39;00m\u001b[39m\"\u001b[39m)\n\u001b[1;32m    158\u001b[0m \u001b[39mreturn\u001b[39;00m result_shape\n",
      "\u001b[0;31mValueError\u001b[0m: Incompatible shapes for broadcasting: shapes=[(2,), (1, 10)]",
      "\nDuring handling of the above exception, another exception occurred:\n",
      "\u001b[0;31mValueError\u001b[0m                                Traceback (most recent call last)",
      "Cell \u001b[0;32mIn[199], line 15\u001b[0m\n\u001b[1;32m     11\u001b[0m y_ \u001b[39m=\u001b[39m net\u001b[39m.\u001b[39mapply(params, x)\n\u001b[1;32m     12\u001b[0m mask \u001b[39m=\u001b[39m jraph\u001b[39m.\u001b[39mget_graph_padding_mask(y_)\n\u001b[1;32m     14\u001b[0m accuracy \u001b[39m=\u001b[39m jnp\u001b[39m.\u001b[39msum(     \n\u001b[0;32m---> 15\u001b[0m     (jnp\u001b[39m.\u001b[39;49margmax(y_\u001b[39m.\u001b[39;49mglobals, axis\u001b[39m=\u001b[39;49m\u001b[39m1\u001b[39;49m) \u001b[39m==\u001b[39;49m label) \u001b[39m*\u001b[39m mask) \u001b[39m/\u001b[39m jnp\u001b[39m.\u001b[39msum(mask)\n\u001b[1;32m     16\u001b[0m \u001b[39mprint\u001b[39m(\u001b[39mf\u001b[39m\u001b[39m\"\u001b[39m\u001b[39m{\u001b[39;00mjnp\u001b[39m.\u001b[39margmax(y_\u001b[39m.\u001b[39mglobals,\u001b[39m \u001b[39maxis\u001b[39m=\u001b[39m\u001b[39m1\u001b[39m)[\u001b[39m0\u001b[39m]\u001b[39m}\u001b[39;00m\u001b[39m \u001b[39m\u001b[39m{\u001b[39;00m\u001b[39mint\u001b[39m(dataset[_][\u001b[39m'\u001b[39m\u001b[39mtarget\u001b[39m\u001b[39m'\u001b[39m])\u001b[39m}\u001b[39;00m\u001b[39m\"\u001b[39m)\n\u001b[1;32m     18\u001b[0m total_accuracy \u001b[39m+\u001b[39m\u001b[39m=\u001b[39m accuracy\n",
      "File \u001b[0;32m~/miniconda3/envs/jraph/lib/python3.10/site-packages/jax/_src/numpy/lax_numpy.py:4705\u001b[0m, in \u001b[0;36m_defer_to_unrecognized_arg.<locals>.deferring_binary_op\u001b[0;34m(self, other)\u001b[0m\n\u001b[1;32m   4703\u001b[0m args \u001b[39m=\u001b[39m (other, \u001b[39mself\u001b[39m) \u001b[39mif\u001b[39;00m swap \u001b[39melse\u001b[39;00m (\u001b[39mself\u001b[39m, other)\n\u001b[1;32m   4704\u001b[0m \u001b[39mif\u001b[39;00m \u001b[39misinstance\u001b[39m(other, _accepted_binop_types):\n\u001b[0;32m-> 4705\u001b[0m   \u001b[39mreturn\u001b[39;00m binary_op(\u001b[39m*\u001b[39;49margs)\n\u001b[1;32m   4706\u001b[0m \u001b[39mif\u001b[39;00m \u001b[39misinstance\u001b[39m(other, _rejected_binop_types):\n\u001b[1;32m   4707\u001b[0m   \u001b[39mraise\u001b[39;00m \u001b[39mTypeError\u001b[39;00m(\u001b[39mf\u001b[39m\u001b[39m\"\u001b[39m\u001b[39munsupported operand type(s) for \u001b[39m\u001b[39m{\u001b[39;00mopchar\u001b[39m}\u001b[39;00m\u001b[39m: \u001b[39m\u001b[39m\"\u001b[39m\n\u001b[1;32m   4708\u001b[0m                   \u001b[39mf\u001b[39m\u001b[39m\"\u001b[39m\u001b[39m{\u001b[39;00m\u001b[39mtype\u001b[39m(args[\u001b[39m0\u001b[39m])\u001b[39m.\u001b[39m\u001b[39m__name__\u001b[39m\u001b[39m!r}\u001b[39;00m\u001b[39m and \u001b[39m\u001b[39m{\u001b[39;00m\u001b[39mtype\u001b[39m(args[\u001b[39m1\u001b[39m])\u001b[39m.\u001b[39m\u001b[39m__name__\u001b[39m\u001b[39m!r}\u001b[39;00m\u001b[39m\"\u001b[39m)\n",
      "    \u001b[0;31m[... skipping hidden 14 frame]\u001b[0m\n",
      "File \u001b[0;32m~/miniconda3/envs/jraph/lib/python3.10/site-packages/jax/_src/numpy/ufuncs.py:72\u001b[0m, in \u001b[0;36m_one_to_one_binop.<locals>.<lambda>\u001b[0;34m(x1, x2)\u001b[0m\n\u001b[1;32m     70\u001b[0m   fn \u001b[39m=\u001b[39m \u001b[39mlambda\u001b[39;00m x1, x2: lax_fn(\u001b[39m*\u001b[39m_promote_args_numeric(numpy_fn\u001b[39m.\u001b[39m\u001b[39m__name__\u001b[39m, x1, x2))\n\u001b[1;32m     71\u001b[0m \u001b[39melse\u001b[39;00m:\n\u001b[0;32m---> 72\u001b[0m   fn \u001b[39m=\u001b[39m \u001b[39mlambda\u001b[39;00m x1, x2: lax_fn(\u001b[39m*\u001b[39m_promote_args(numpy_fn\u001b[39m.\u001b[39;49m\u001b[39m__name__\u001b[39;49m, x1, x2))\n\u001b[1;32m     73\u001b[0m fn \u001b[39m=\u001b[39m jit(fn, inline\u001b[39m=\u001b[39m\u001b[39mTrue\u001b[39;00m)\n\u001b[1;32m     74\u001b[0m \u001b[39mif\u001b[39;00m lax_doc:\n",
      "File \u001b[0;32m~/miniconda3/envs/jraph/lib/python3.10/site-packages/jax/_src/numpy/util.py:355\u001b[0m, in \u001b[0;36m_promote_args\u001b[0;34m(fun_name, *args)\u001b[0m\n\u001b[1;32m    353\u001b[0m _check_arraylike(fun_name, \u001b[39m*\u001b[39margs)\n\u001b[1;32m    354\u001b[0m _check_no_float0s(fun_name, \u001b[39m*\u001b[39margs)\n\u001b[0;32m--> 355\u001b[0m \u001b[39mreturn\u001b[39;00m _promote_shapes(fun_name, \u001b[39m*\u001b[39;49m_promote_dtypes(\u001b[39m*\u001b[39;49margs))\n",
      "File \u001b[0;32m~/miniconda3/envs/jraph/lib/python3.10/site-packages/jax/_src/numpy/util.py:248\u001b[0m, in \u001b[0;36m_promote_shapes\u001b[0;34m(fun_name, *args)\u001b[0m\n\u001b[1;32m    246\u001b[0m \u001b[39mif\u001b[39;00m config\u001b[39m.\u001b[39mjax_numpy_rank_promotion \u001b[39m!=\u001b[39m \u001b[39m\"\u001b[39m\u001b[39mallow\u001b[39m\u001b[39m\"\u001b[39m:\n\u001b[1;32m    247\u001b[0m   _rank_promotion_warning_or_error(fun_name, shapes)\n\u001b[0;32m--> 248\u001b[0m result_rank \u001b[39m=\u001b[39m \u001b[39mlen\u001b[39m(lax\u001b[39m.\u001b[39;49mbroadcast_shapes(\u001b[39m*\u001b[39;49mshapes))\n\u001b[1;32m    249\u001b[0m \u001b[39mreturn\u001b[39;00m [_broadcast_to(arg, (\u001b[39m1\u001b[39m,) \u001b[39m*\u001b[39m (result_rank \u001b[39m-\u001b[39m \u001b[39mlen\u001b[39m(shp)) \u001b[39m+\u001b[39m shp)\n\u001b[1;32m    250\u001b[0m         \u001b[39mfor\u001b[39;00m arg, shp \u001b[39min\u001b[39;00m \u001b[39mzip\u001b[39m(args, shapes)]\n",
      "    \u001b[0;31m[... skipping hidden 1 frame]\u001b[0m\n",
      "File \u001b[0;32m~/miniconda3/envs/jraph/lib/python3.10/site-packages/jax/_src/lax/lax.py:157\u001b[0m, in \u001b[0;36m_broadcast_shapes_uncached\u001b[0;34m(*shapes)\u001b[0m\n\u001b[1;32m    155\u001b[0m result_shape \u001b[39m=\u001b[39m _try_broadcast_shapes(shape_list)\n\u001b[1;32m    156\u001b[0m \u001b[39mif\u001b[39;00m result_shape \u001b[39mis\u001b[39;00m \u001b[39mNone\u001b[39;00m:\n\u001b[0;32m--> 157\u001b[0m   \u001b[39mraise\u001b[39;00m \u001b[39mValueError\u001b[39;00m(\u001b[39mf\u001b[39m\u001b[39m\"\u001b[39m\u001b[39mIncompatible shapes for broadcasting: shapes=\u001b[39m\u001b[39m{\u001b[39;00m\u001b[39mlist\u001b[39m(shapes)\u001b[39m}\u001b[39;00m\u001b[39m\"\u001b[39m)\n\u001b[1;32m    158\u001b[0m \u001b[39mreturn\u001b[39;00m result_shape\n",
      "\u001b[0;31mValueError\u001b[0m: Incompatible shapes for broadcasting: shapes=[(2,), (1, 10)]"
     ]
    }
   ],
   "source": [
    "c, n = 0, 0\n",
    "total_accuracy = 0.\n",
    "for _ in range(len(dataset)):\n",
    "\n",
    "    x = dataset_processed[_][\"input_graph\"]\n",
    "    label = dataset_processed[_][\"target\"]\n",
    "    #x = pad_graph_to_nearest_power_of_two(x)\n",
    "    x = pad_graph_to_value(x, PAD_VALUE)\n",
    "    # label = jnp.concatenate([label, jnp.array([0])])\n",
    "\n",
    "    y_ = net.apply(params, x)\n",
    "    mask = jraph.get_graph_padding_mask(y_)\n",
    "\n",
    "    accuracy = jnp.sum(     \n",
    "        (jnp.argmax(y_.globals, axis=1) == label) * mask) / jnp.sum(mask)\n",
    "    print(f\"{jnp.argmax(y_.globals, axis=1)[0]} {int(dataset[_]['target'])}\")\n",
    "\n",
    "    total_accuracy += accuracy\n",
    "\n",
    "    total_accuracy /= _\n",
    "    print(f\"ACCURACY = {total_accuracy:.2f}%\")\n",
    "\n",
    "    # Try rotating the graph to test invariance of classification\n",
    "    print(\"TESTING ROTATION INVARIANCE.\")\n",
    "    key = jr.PRNGKey(1294)\n",
    "    n_test = 10\n",
    "    ix = jr.randint(key, shape=(n_test,), minval=0, maxval=n_test)\n",
    "    dataset = get_rotated_mnist_graphs(\n",
    "    X[ix], Y[ix], n_graphs=n_test, r_link=R_LINK, plot=True)\n",
    "\n",
    "    for i in range(n_test):\n",
    "        x, y = dataset_processed[i][\"input_graph\"], dataset_processed[i][\"target\"]\n",
    "        x = pad_graph_to_value(x, PAD_VALUE)\n",
    "        # label = jnp.concatenate([y, jnp.array([0])])\n",
    "\n",
    "        y_ = net.apply(params, x)\n",
    "        mask = jraph.get_graph_padding_mask(y_) \n",
    "\n",
    "        # accuracy = jnp.sum(     \n",
    "        #     (jnp.argmax(y_.globals, axis=1) == y) * mask) / jnp.sum(mask)\n",
    "\n",
    "        # no mask, globals stay same size always?\n",
    "        accuracy = jnp.sum(jnp.argmax(y_.globals, axis=1) == y) \n",
    "        print(f\"{jnp.argmax(y_.globals, axis=1)[0]} {int(dataset[i]['target'])}\")"
   ]
  },
  {
   "cell_type": "code",
   "execution_count": null,
   "metadata": {},
   "outputs": [],
   "source": []
  }
 ],
 "metadata": {
  "kernelspec": {
   "display_name": "jraph",
   "language": "python",
   "name": "python3"
  },
  "language_info": {
   "codemirror_mode": {
    "name": "ipython",
    "version": 3
   },
   "file_extension": ".py",
   "mimetype": "text/x-python",
   "name": "python",
   "nbconvert_exporter": "python",
   "pygments_lexer": "ipython3",
   "version": "3.10.4"
  },
  "orig_nbformat": 4,
  "vscode": {
   "interpreter": {
    "hash": "89eacdfae071486057d2d630fe016cfa1eafc53aeae1b159d8d57a4fae204a68"
   }
  }
 },
 "nbformat": 4,
 "nbformat_minor": 2
}
