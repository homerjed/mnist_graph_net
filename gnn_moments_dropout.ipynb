{
 "cells": [
  {
   "cell_type": "code",
   "execution_count": 411,
   "metadata": {},
   "outputs": [],
   "source": [
    "import os\n",
    "from functools import partial\n",
    "from typing import (\n",
    "  Tuple, List, Dict, Any, Sequence, Callable)\n",
    "\n",
    "import jax\n",
    "import jax.numpy as jnp\n",
    "import jax.random as jr \n",
    "import haiku as hk\n",
    "import jraph\n",
    "import optax\n",
    "import numpy as np\n",
    "import matplotlib.pyplot as plt\n",
    "\n",
    "from mnist_to_graphs import pad_graph_to_value"
   ]
  },
  {
   "attachments": {},
   "cell_type": "markdown",
   "metadata": {},
   "source": [
    "Notes:\n",
    "* loss for batch of padded graphs calculated by masking out the additional padding graph, so use `.sum()` not `.mean()` for calculating loss. This is because the un-masking keeps the shape concrete meaning that there are zero entries in the batch-loss vector, that should not weight in the scalar-loss average."
   ]
  },
  {
   "attachments": {},
   "cell_type": "markdown",
   "metadata": {},
   "source": [
    "#### globals"
   ]
  },
  {
   "cell_type": "code",
   "execution_count": 412,
   "metadata": {},
   "outputs": [],
   "source": [
    "Array = jnp.ndarray\n",
    "Graph = jraph.GraphsTuple\n",
    "Params = hk.Params\n",
    "Key = jr.PRNGKey\n",
    "\n",
    "N_GRAPHS = 2000 # = n_sims\n",
    "LR = 6.e-5\n",
    "ACTIVATION = jax.nn.swish\n",
    "BATCH_SIZE = 16\n",
    "N_STEPS = 5_000\n",
    "PAD_VALUE = 4096#2048 #8128 \n",
    "F = 8\n",
    "E = 8"
   ]
  },
  {
   "attachments": {},
   "cell_type": "markdown",
   "metadata": {},
   "source": [
    "#### data"
   ]
  },
  {
   "cell_type": "code",
   "execution_count": 413,
   "metadata": {},
   "outputs": [
    {
     "name": "stdout",
     "output_type": "stream",
     "text": [
      "Running for redshifts:\n",
      "\t[0.0]\n",
      "at resolution x=1024 with R values:\n",
      "\t['5.0', '10.0', '15.0', '20.0'].\n"
     ]
    }
   ],
   "source": [
    "def get_R_z_string(R_values, z_values, n_moments_calculate=3):\n",
    "    if isinstance(R_values, list):\n",
    "        if len(R_values) == len(all_R_values):\n",
    "            R_string = \"all\"\n",
    "        else:\n",
    "            R_string = \"_\".join([str(float(R)) for R in R_values])\n",
    "    else:\n",
    "        R_string = str(R_values)\n",
    "    if isinstance(z_values, list):\n",
    "        if len(z_values) == len(all_redshifts):\n",
    "            z_string = \"all\"\n",
    "        else:\n",
    "            z_string = \"_\".join([str(float(z)) for z in z_values])\n",
    "    else:\n",
    "        z_string = str(z_values)\n",
    "\n",
    "    return f\"x={resolution}_R={R_string}_z={z_string}_nm={n_moments_calculate}\"\n",
    "\n",
    "prng_seq = hk.PRNGSequence(0)\n",
    "\n",
    "data_dir = \"/Users/Jed.Homer/phd/lfi/jaxdelfi/data/\"\n",
    "resolution = 1024 \n",
    "all_redshifts = [0., 0.5, 1., 2., 3.]\n",
    "all_R_values = [\"5.0\", \"10.0\", \"15.0\", \"20.0\", \"25.0\", \"30.0\"]\n",
    "\n",
    "redshifts = all_redshifts[:1]\n",
    "R_values = all_R_values[:4]\n",
    "\n",
    "R_idx = [all_R_values.index(R) for R in R_values]\n",
    "z_idx = [redshifts.index(z) for z in redshifts]\n",
    "\n",
    "print(f\"Running for redshifts:\\n\\t{redshifts}\\nat resolution x={resolution} with R values:\\n\\t{R_values}.\")\n",
    "\n",
    "Rz_string = get_R_z_string(R_values, redshifts, n_moments_calculate=3)"
   ]
  },
  {
   "attachments": {},
   "cell_type": "markdown",
   "metadata": {},
   "source": [
    "#### data\n",
    "* for each moments datavector, make fully connected subgraph for each redshift, then concatenate all the redshift graphs together..."
   ]
  },
  {
   "cell_type": "code",
   "execution_count": 414,
   "metadata": {},
   "outputs": [
    {
     "data": {
      "text/plain": [
       "((2000, 5), (2000, 151), (1, 151))"
      ]
     },
     "execution_count": 414,
     "metadata": {},
     "output_type": "execute_result"
    }
   ],
   "source": [
    "alpha = jnp.array([\n",
    "    0.3175, 0.049, 0.6711, 0.9624, 0.834])\n",
    "parameters = jnp.load(\n",
    "    os.path.join(data_dir, f\"ALL_PDFS_PARAMS.npy\")) \n",
    "# fiducial_dv = jnp.load(\n",
    "#     os.path.join(data_dir, f'fiducial_moments_unflat_{Rz_string}.npy')).mean(axis=0)\n",
    "# simulations = jnp.load(\n",
    "#     os.path.join(data_dir, f\"CALCULATED_PDF_MOMENTS_{Rz_string}.npy\"))\n",
    "simulations = jnp.load(\n",
    "    os.path.join(data_dir, f\"latin_pdfs_cut_{Rz_string}.npy\"))\n",
    "fiducial_dv = jnp.load(\n",
    "    os.path.join(data_dir, f\"fiducial_pdfs_cut_{Rz_string}.npy\"))\n",
    "fiducial_dv = fiducial_dv.mean(axis=0)[jnp.newaxis, :]\n",
    "\n",
    "n_sims, parameter_dim = parameters.shape\n",
    "data_dim = np.prod(fiducial_dv.shape)\n",
    "\n",
    "parameters.shape, simulations.shape, fiducial_dv.shape"
   ]
  },
  {
   "cell_type": "code",
   "execution_count": 531,
   "metadata": {},
   "outputs": [],
   "source": [
    "def make_subgraphs(moments):\n",
    "    # Vmapping, so this is z-axis\n",
    "    all_g_z = []\n",
    "\n",
    "    # Add scale information to nodes?\n",
    "    # z_R_information = jnp.stack([R_values_float])\n",
    "\n",
    "    for z, mz in enumerate(moments):\n",
    "        # print(mz.shape, np.prod(mz.shape))\n",
    "        # Only add redshifts to node features if using multi-redshifts\n",
    "        n_node_per_graph = np.prod(mz.shape)\n",
    "        if len(redshifts) > 1:\n",
    "            z_ = jnp.asarray([redshifts[z]])\n",
    "            node_features = jnp.concatenate([z_, mz.flatten()])\n",
    "            n_node_per_graph += 1\n",
    "        else:\n",
    "            node_features = mz.flatten()\n",
    "        g_z = jraph.get_fully_connected_graph(\n",
    "            # Concatenate redshift information to nodes\n",
    "            node_features=node_features, \n",
    "            n_node_per_graph=n_node_per_graph,\n",
    "            n_graph=1,\n",
    "            #global_features=parameters, # maybe just parameters for main_graph not subgraphs?\n",
    "            add_self_edges=False)\n",
    "        all_g_z.append(g_z)\n",
    "    return all_g_z \n",
    "\n",
    "def make_graph_from_subgraphs(subgraphs, parameters):\n",
    "    \"\"\" \n",
    "        Make ONE graph from fully connected redshift-subgraphs\n",
    "        - NO connections between subgraphs of different redshift\n",
    "        - Initialise global property as total cardinalities of subgraphs over all z\n",
    "            -> try cardinality vector with cardinalities of subgraphs\n",
    "    \"\"\"\n",
    "    # For each redshift, shift its sender/receiver indices by the number of nodes in the \n",
    "    # redshift subgraph, so that the senders/receivers are still unique in the main graph\n",
    "    # for all subgraphs\n",
    "    receivers = jnp.concatenate(\n",
    "        [g_z.n_node * n + g_z.receivers for n, g_z in enumerate(subgraphs)])# receivers=jnp.concatenate([g_z.receivers for g_z in subgraphs]),\n",
    "    senders = jnp.concatenate(\n",
    "        [g_z.n_node * n + g_z.senders for n, g_z in enumerate(subgraphs)])# senders=jnp.concatenate([g_z.senders for g_z in subgraphs]),\n",
    "    nodes = jnp.concatenate([g_z.nodes for g_z in subgraphs])[:, None]\n",
    "    n_node = sum([g_z.n_node for g_z in subgraphs])\n",
    "    n_edge = sum([g_z.n_edge for g_z in subgraphs])\n",
    "    cardinalities = jnp.array([n_node, n_edge], dtype=jnp.float32).T#[None, :]\n",
    "    # cardinalities = jnp.array([len(nodes), len(senders)], dtype=jnp.float32).T#[None, :]\n",
    "    # cardinalities = jnp.log10(cardinalities)\n",
    "    return jraph.GraphsTuple(\n",
    "        nodes=nodes,\n",
    "        edges=None, # edges=jnp.concatenate([g_z.edges for g_z in subgraphs]), # edge FEATURES not senders/receivers\n",
    "        # Since graph is made of subgraphs, need to re-index S and R for main_graph indexing...\n",
    "        senders=senders,\n",
    "        receivers=receivers,\n",
    "        # should n_node, for each graph, be shifted by the amount of nodes in graph before it?\n",
    "        # e.g. in jraph.batch([5 separate graphs]) the n_nodes are of shape (5,)\n",
    "        n_node=n_node,\n",
    "        n_edge=n_edge,\n",
    "        globals=cardinalities)#[None, :])#parameters)#jnp.zeros_like(parameters))#parameters)#[None, :] if parameters.ndim == 1 else parameters)"
   ]
  },
  {
   "cell_type": "code",
   "execution_count": 532,
   "metadata": {},
   "outputs": [
    {
     "name": "stderr",
     "output_type": "stream",
     "text": [
      "/Users/Jed.Homer/miniconda3/envs/jraph/lib/python3.10/site-packages/jraph/_src/utils.py:882: FutureWarning: jax.tree_leaves is deprecated, and will be removed in a future release. Use jax.tree_util.tree_leaves instead.\n",
      "  num_node_features = jax.tree_leaves(node_features)[0].shape[0]\n"
     ]
    },
    {
     "data": {
      "text/plain": [
       "(DeviceArray([  1,   2,   3, ..., 147, 148, 149], dtype=int32),\n",
       " DeviceArray([151], dtype=int32),\n",
       " DeviceArray([22650], dtype=int32))"
      ]
     },
     "execution_count": 532,
     "metadata": {},
     "output_type": "execute_result"
    }
   ],
   "source": [
    "subgraphs = make_subgraphs(fiducial_dv)\n",
    "\n",
    "subgraphs[0].senders, subgraphs[0].n_node, subgraphs[0].n_edge"
   ]
  },
  {
   "cell_type": "code",
   "execution_count": 533,
   "metadata": {},
   "outputs": [
    {
     "name": "stdout",
     "output_type": "stream",
     "text": [
      "nodes (151, 1) \n",
      "edges None \n",
      "globals [[  151. 22650.]] \n",
      "senders (22650,) \n",
      "receivers (22650,) \n",
      "globals (1, 2)\n"
     ]
    }
   ],
   "source": [
    "main_graph = make_graph_from_subgraphs(subgraphs, alpha)\n",
    "\n",
    "print(\n",
    "    \"nodes\", main_graph.nodes.shape, \n",
    "    \"\\nedges\", main_graph.edges, \n",
    "    \"\\nglobals\", main_graph.globals, \n",
    "    \"\\nsenders\", main_graph.senders.shape, \n",
    "    \"\\nreceivers\", main_graph.receivers.shape, \n",
    "    \"\\nglobals\", main_graph.globals.shape)"
   ]
  },
  {
   "cell_type": "code",
   "execution_count": 534,
   "metadata": {},
   "outputs": [
    {
     "data": {
      "text/plain": [
       "DeviceArray(150, dtype=int32)"
      ]
     },
     "execution_count": 534,
     "metadata": {},
     "output_type": "execute_result"
    }
   ],
   "source": [
    "# This is the number of nodes in the graph (there are n_R * n_m for each of the n_z subgraphs)\n",
    "main_graph.senders.max()"
   ]
  },
  {
   "cell_type": "code",
   "execution_count": 535,
   "metadata": {},
   "outputs": [],
   "source": [
    "def adjacency_matrix(sender_indices, receiver_indices, n_nodes=None):\n",
    "    # Determine the number of nodes in the graph if not provided\n",
    "    if n_nodes is None:\n",
    "        n_nodes = max(max(sender_indices), max(receiver_indices)) + 1\n",
    "\n",
    "    # Create an empty adjacency matrix\n",
    "    adj_matrix = np.zeros((n_nodes, n_nodes))\n",
    "\n",
    "    # Set entries in the adjacency matrix for each edge\n",
    "    for sender, receiver in zip(sender_indices, receiver_indices):\n",
    "        adj_matrix[sender, receiver] = adj_matrix[receiver, sender] = 1 \n",
    "\n",
    "    return adj_matrix"
   ]
  },
  {
   "cell_type": "code",
   "execution_count": 536,
   "metadata": {},
   "outputs": [
    {
     "name": "stdout",
     "output_type": "stream",
     "text": [
      "nodes (151, 1)\n",
      "edges None\n",
      "senders (22650,)\n",
      "receivers (22650,)\n",
      "globals (1, 2)\n",
      "n_node (1,)\n",
      "n_edge (1,)\n"
     ]
    }
   ],
   "source": [
    "attrs = [\"nodes\", \"edges\", \"senders\", \"receivers\", \"globals\", \"n_node\", \"n_edge\"]\n",
    "\n",
    "for a in attrs:\n",
    "    val = getattr(main_graph, a)\n",
    "    print(a, val.shape if val is not None else None)"
   ]
  },
  {
   "cell_type": "code",
   "execution_count": 537,
   "metadata": {},
   "outputs": [],
   "source": [
    "if 0:\n",
    "    # Expect three squares on diagonal: FULLY connected subgraphs\n",
    "    A = adjacency_matrix(main_graph.senders, main_graph.receivers)\n",
    "    print(A)\n",
    "    plt.imshow(A, cmap=\"gray_r\")\n",
    "    plt.show()"
   ]
  },
  {
   "attachments": {},
   "cell_type": "markdown",
   "metadata": {},
   "source": [
    "#### model"
   ]
  },
  {
   "attachments": {},
   "cell_type": "markdown",
   "metadata": {},
   "source": [
    "##### resnet"
   ]
  },
  {
   "cell_type": "code",
   "execution_count": 538,
   "metadata": {},
   "outputs": [],
   "source": [
    "layernorm_kwargs = dict(axis=1, create_scale=True, create_offset=True)\n",
    "\n",
    "def layernorm(x):\n",
    "    return hk.LayerNorm(**layernorm_kwargs)(x)\n",
    "\n",
    "class LinearResNet(hk.Module):\n",
    "  def __init__(\n",
    "    self, \n",
    "    hidden_sizes: Sequence[int],\n",
    "    activation: Callable = ACTIVATION,\n",
    "    activate_final: bool = False,\n",
    "    dropout_rate: float = 0.1):\n",
    "    super().__init__()\n",
    "    self.hidden_sizes = hidden_sizes\n",
    "    self.activation = activation\n",
    "    self.activate_final = activate_final\n",
    "    self.dropout_rate = dropout_rate\n",
    "    self.use_layernorm = False\n",
    "\n",
    "  def __call__(self, x, inference=False):\n",
    "    z = x\n",
    "    for f in self.hidden_sizes:\n",
    "    #   h = self.activation(z)\n",
    "    #   h = hk.LayerNorm(**layernorm_kwargs)(h)\n",
    "      h = layernorm(z) if self.use_layernorm else z\n",
    "      h = hk.Linear(f)(h)\n",
    "      if not inference:\n",
    "        h = hk.dropout(hk.next_rng_key(), self.dropout_rate, h)\n",
    "      h = self.activation(h)\n",
    "\n",
    "      #h = hk.LayerNorm(**layernorm_kwargs)(h)\n",
    "      h = layernorm(h) if self.use_layernorm else h\n",
    "      h = hk.Linear(f, w_init=jnp.zeros)(h)\n",
    "      if not inference:\n",
    "        h = hk.dropout(hk.next_rng_key(), self.dropout_rate, h)\n",
    "      h = self.activation(z)\n",
    "\n",
    "      z = z + h \n",
    "    return self.activation(z) if self.activate_final else z"
   ]
  },
  {
   "attachments": {},
   "cell_type": "markdown",
   "metadata": {},
   "source": [
    "##### gnn"
   ]
  },
  {
   "cell_type": "code",
   "execution_count": 539,
   "metadata": {},
   "outputs": [],
   "source": [
    "def node_net_fn(x: Array, inference: bool = False):\n",
    "  \"\"\" Mapping (v_i, agg(E_i), u) -> v'_i\"\"\"\n",
    "  h = LinearResNet([F, F, F])(x, inference=inference)\n",
    "  return h \n",
    "\n",
    "def global_net_fn(x: Array, inference: bool = False):\n",
    "  \"\"\" Mapping (N_e, N_v) -> u \"\"\"\n",
    "  # This needs to take into account conditioning information e.g. z?!\n",
    "  h = LinearResNet([F, F, F])(x, inference=inference)\n",
    "  h = hk.Linear(parameter_dim, with_bias=False)(h)\n",
    "  return h\n",
    "\n",
    "def get_node_update_fn(inference: bool):\n",
    "    net_fn_ = partial(node_net_fn, inference=inference)\n",
    "    return jraph.concatenated_args(net_fn_)\n",
    "\n",
    "def get_global_update_fn(inference: bool):\n",
    "    net_fn_ = partial(global_net_fn, inference=inference)\n",
    "    return jraph.concatenated_args(net_fn_)"
   ]
  },
  {
   "cell_type": "code",
   "execution_count": 540,
   "metadata": {},
   "outputs": [],
   "source": [
    "def add_graphs_tuples(graphs: Graph, other_graphs: Graph) -> Graph:\n",
    "  graphs = graphs._replace(\n",
    "    nodes=graphs.nodes + other_graphs.nodes)\n",
    "  graphs = graphs._replace(\n",
    "    globals=graphs.globals + other_graphs.globals)\n",
    "  graphs = graphs._replace(\n",
    "    senders=graphs.senders.astype(bool),\n",
    "    receivers=graphs.receivers.astype(bool))\n",
    "  return graphs"
   ]
  },
  {
   "cell_type": "code",
   "execution_count": 541,
   "metadata": {},
   "outputs": [],
   "source": [
    "def attention_logit_fn(\n",
    "  edges: Array, \n",
    "  sender_attr: Array, \n",
    "  receiver_attr: Array, \n",
    "  global_edge_attributes: Array) -> Array:\n",
    "  del edges\n",
    "  x = jnp.concatenate([sender_attr, receiver_attr], axis=1)\n",
    "  x = hk.Linear(1)(layernorm(x))\n",
    "  return x\n",
    "\n",
    "def attention_reduce_fn(edge_features, weights):\n",
    "  return edge_features[0] * weights"
   ]
  },
  {
   "cell_type": "code",
   "execution_count": 542,
   "metadata": {},
   "outputs": [],
   "source": [
    "def LayerNormLinear(x, l=E, use_layernorm=False):\n",
    "  h = hk.LayerNorm(**layernorm_kwargs)(x) if use_layernorm else x\n",
    "  return hk.Linear(l, with_bias=False)(h)\n",
    "\n",
    "def net_fn(\n",
    "  graph: Graph, \n",
    "  inference: bool = False, \n",
    "  n_layers: int = 1, \n",
    "  use_layernorm: bool = True,\n",
    "  residual: bool = False) -> Graph:\n",
    "\n",
    "  global_embed_dim = len(alpha) if residual else E\n",
    "\n",
    "  embedder = jraph.GraphMapFeatures(\n",
    "    embed_edge_fn=None,\n",
    "    embed_node_fn=partial(\n",
    "        LayerNormLinear, l=E, use_layernorm=use_layernorm), \n",
    "    embed_global_fn=partial(\n",
    "        LayerNormLinear, l=5, use_layernorm=use_layernorm))\n",
    "\n",
    "  graph = embedder(graph)\n",
    "\n",
    "  for _ in range(n_layers):\n",
    "    net = jraph.GraphNetwork(\n",
    "      update_edge_fn=None,\n",
    "      update_node_fn=get_node_update_fn(inference=inference),\n",
    "      update_global_fn=get_global_update_fn(inference=inference))\n",
    "      # attention_logit_fn=attention_logit_fn,\n",
    "      # attention_reduce_fn=attention_reduce_fn)#jraph.segment_sum)\n",
    "    if residual:\n",
    "       graph = add_graphs_tuples(net(graph), graph)\n",
    "  return graph"
   ]
  },
  {
   "attachments": {},
   "cell_type": "markdown",
   "metadata": {},
   "source": [
    "#### train"
   ]
  },
  {
   "attachments": {},
   "cell_type": "markdown",
   "metadata": {},
   "source": [
    "#### trainer functions"
   ]
  },
  {
   "cell_type": "code",
   "execution_count": 557,
   "metadata": {},
   "outputs": [
    {
     "name": "stdout",
     "output_type": "stream",
     "text": [
      " [0.1755  0.06681 0.7737  0.8849  0.6641 ]nodes (1,)\n",
      "edges None\n",
      "globals None\n",
      "senders (0,)\n",
      "receivers (0,)\n"
     ]
    },
    {
     "ename": "AttributeError",
     "evalue": "'DeviceArray' object has no attribute 'n_node'",
     "output_type": "error",
     "traceback": [
      "\u001b[0;31m---------------------------------------------------------------------------\u001b[0m",
      "\u001b[0;31mAttributeError\u001b[0m                            Traceback (most recent call last)",
      "Cell \u001b[0;32mIn[557], line 16\u001b[0m\n\u001b[1;32m      9\u001b[0m \u001b[39mprint\u001b[39m((\u001b[39mf\u001b[39m\u001b[39m\"\u001b[39m\u001b[39mnodes \u001b[39m\u001b[39m{\u001b[39;00mg_z\u001b[39m.\u001b[39mnodes\u001b[39m.\u001b[39mshape\u001b[39m}\u001b[39;00m\u001b[39m\"\u001b[39m \u001b[39m+\u001b[39m\n\u001b[1;32m     10\u001b[0m        \u001b[39mf\u001b[39m\u001b[39m\"\u001b[39m\u001b[39m\\n\u001b[39;00m\u001b[39medges \u001b[39m\u001b[39m{\u001b[39;00mg_z\u001b[39m.\u001b[39medges\u001b[39m}\u001b[39;00m\u001b[39m\"\u001b[39m \u001b[39m+\u001b[39m \n\u001b[1;32m     11\u001b[0m        \u001b[39mf\u001b[39m\u001b[39m\"\u001b[39m\u001b[39m\\n\u001b[39;00m\u001b[39mglobals \u001b[39m\u001b[39m{\u001b[39;00mg_z\u001b[39m.\u001b[39mglobals\u001b[39m}\u001b[39;00m\u001b[39m\"\u001b[39m \u001b[39m+\u001b[39m \n\u001b[1;32m     12\u001b[0m        \u001b[39mf\u001b[39m\u001b[39m\"\u001b[39m\u001b[39m\\n\u001b[39;00m\u001b[39msenders \u001b[39m\u001b[39m{\u001b[39;00mg_z\u001b[39m.\u001b[39msenders\u001b[39m.\u001b[39mshape\u001b[39m}\u001b[39;00m\u001b[39m\"\u001b[39m \u001b[39m+\u001b[39m \n\u001b[1;32m     13\u001b[0m        \u001b[39mf\u001b[39m\u001b[39m\"\u001b[39m\u001b[39m\\n\u001b[39;00m\u001b[39mreceivers \u001b[39m\u001b[39m{\u001b[39;00mg_z\u001b[39m.\u001b[39mreceivers\u001b[39m.\u001b[39mshape\u001b[39m}\u001b[39;00m\u001b[39m\"\u001b[39m))\n\u001b[1;32m     15\u001b[0m \u001b[39m# Main graph of disconnected subgraphs\u001b[39;00m\n\u001b[0;32m---> 16\u001b[0m g \u001b[39m=\u001b[39m make_graph_from_subgraphs(g_z, l[\u001b[39mNone\u001b[39;49;00m, :]) \u001b[39m# pointless 'l' here it is removed later anyway...\u001b[39;00m\n\u001b[1;32m     18\u001b[0m dataset_processed\u001b[39m.\u001b[39mappend(\u001b[39mdict\u001b[39m(input_graph\u001b[39m=\u001b[39mg, target\u001b[39m=\u001b[39ml))\n\u001b[1;32m     20\u001b[0m \u001b[39mprint\u001b[39m((\u001b[39mf\u001b[39m\u001b[39m\"\u001b[39m\u001b[39mnodes \u001b[39m\u001b[39m{\u001b[39;00mg\u001b[39m.\u001b[39mnodes\u001b[39m.\u001b[39mshape\u001b[39m}\u001b[39;00m\u001b[39m\"\u001b[39m \u001b[39m+\u001b[39m\n\u001b[1;32m     21\u001b[0m        \u001b[39mf\u001b[39m\u001b[39m\"\u001b[39m\u001b[39m\\n\u001b[39;00m\u001b[39medges \u001b[39m\u001b[39m{\u001b[39;00mg\u001b[39m.\u001b[39medges\u001b[39m}\u001b[39;00m\u001b[39m\"\u001b[39m \u001b[39m+\u001b[39m \n\u001b[1;32m     22\u001b[0m        \u001b[39mf\u001b[39m\u001b[39m\"\u001b[39m\u001b[39m\\n\u001b[39;00m\u001b[39mglobals \u001b[39m\u001b[39m{\u001b[39;00mg\u001b[39m.\u001b[39mglobals\u001b[39m}\u001b[39;00m\u001b[39m\"\u001b[39m \u001b[39m+\u001b[39m \n\u001b[1;32m     23\u001b[0m        \u001b[39mf\u001b[39m\u001b[39m\"\u001b[39m\u001b[39m\\n\u001b[39;00m\u001b[39msenders \u001b[39m\u001b[39m{\u001b[39;00mg\u001b[39m.\u001b[39msenders\u001b[39m.\u001b[39mshape\u001b[39m}\u001b[39;00m\u001b[39m\"\u001b[39m \u001b[39m+\u001b[39m \n\u001b[1;32m     24\u001b[0m        \u001b[39mf\u001b[39m\u001b[39m\"\u001b[39m\u001b[39m\\n\u001b[39;00m\u001b[39mreceivers \u001b[39m\u001b[39m{\u001b[39;00mg\u001b[39m.\u001b[39mreceivers\u001b[39m.\u001b[39mshape\u001b[39m}\u001b[39;00m\u001b[39m\"\u001b[39m \u001b[39m+\u001b[39m\n\u001b[1;32m     25\u001b[0m        \u001b[39mf\u001b[39m\u001b[39m\"\u001b[39m\u001b[39m\\n\u001b[39;00m\u001b[39mglobals \u001b[39m\u001b[39m{\u001b[39;00mg\u001b[39m.\u001b[39mglobals\u001b[39m.\u001b[39mshape\u001b[39m}\u001b[39;00m\u001b[39m\"\u001b[39m))\n",
      "Cell \u001b[0;32mIn[531], line 39\u001b[0m, in \u001b[0;36mmake_graph_from_subgraphs\u001b[0;34m(subgraphs, parameters)\u001b[0m\n\u001b[1;32m     29\u001b[0m \u001b[39m\u001b[39m\u001b[39m\"\"\" \u001b[39;00m\n\u001b[1;32m     30\u001b[0m \u001b[39m    Make ONE graph from fully connected redshift-subgraphs\u001b[39;00m\n\u001b[1;32m     31\u001b[0m \u001b[39m    - NO connections between subgraphs of different redshift\u001b[39;00m\n\u001b[1;32m     32\u001b[0m \u001b[39m    - Initialise global property as total cardinalities of subgraphs over all z\u001b[39;00m\n\u001b[1;32m     33\u001b[0m \u001b[39m        -> try cardinality vector with cardinalities of subgraphs\u001b[39;00m\n\u001b[1;32m     34\u001b[0m \u001b[39m\"\"\"\u001b[39;00m\n\u001b[1;32m     35\u001b[0m \u001b[39m# For each redshift, shift its sender/receiver indices by the number of nodes in the \u001b[39;00m\n\u001b[1;32m     36\u001b[0m \u001b[39m# redshift subgraph, so that the senders/receivers are still unique in the main graph\u001b[39;00m\n\u001b[1;32m     37\u001b[0m \u001b[39m# for all subgraphs\u001b[39;00m\n\u001b[1;32m     38\u001b[0m receivers \u001b[39m=\u001b[39m jnp\u001b[39m.\u001b[39mconcatenate(\n\u001b[0;32m---> 39\u001b[0m     [g_z\u001b[39m.\u001b[39mn_node \u001b[39m*\u001b[39m n \u001b[39m+\u001b[39m g_z\u001b[39m.\u001b[39mreceivers \u001b[39mfor\u001b[39;00m n, g_z \u001b[39min\u001b[39;00m \u001b[39menumerate\u001b[39m(subgraphs)])\u001b[39m# receivers=jnp.concatenate([g_z.receivers for g_z in subgraphs]),\u001b[39;00m\n\u001b[1;32m     40\u001b[0m senders \u001b[39m=\u001b[39m jnp\u001b[39m.\u001b[39mconcatenate(\n\u001b[1;32m     41\u001b[0m     [g_z\u001b[39m.\u001b[39mn_node \u001b[39m*\u001b[39m n \u001b[39m+\u001b[39m g_z\u001b[39m.\u001b[39msenders \u001b[39mfor\u001b[39;00m n, g_z \u001b[39min\u001b[39;00m \u001b[39menumerate\u001b[39m(subgraphs)])\u001b[39m# senders=jnp.concatenate([g_z.senders for g_z in subgraphs]),\u001b[39;00m\n\u001b[1;32m     42\u001b[0m nodes \u001b[39m=\u001b[39m jnp\u001b[39m.\u001b[39mconcatenate([g_z\u001b[39m.\u001b[39mnodes \u001b[39mfor\u001b[39;00m g_z \u001b[39min\u001b[39;00m subgraphs])[:, \u001b[39mNone\u001b[39;00m]\n",
      "Cell \u001b[0;32mIn[531], line 39\u001b[0m, in \u001b[0;36m<listcomp>\u001b[0;34m(.0)\u001b[0m\n\u001b[1;32m     29\u001b[0m \u001b[39m\u001b[39m\u001b[39m\"\"\" \u001b[39;00m\n\u001b[1;32m     30\u001b[0m \u001b[39m    Make ONE graph from fully connected redshift-subgraphs\u001b[39;00m\n\u001b[1;32m     31\u001b[0m \u001b[39m    - NO connections between subgraphs of different redshift\u001b[39;00m\n\u001b[1;32m     32\u001b[0m \u001b[39m    - Initialise global property as total cardinalities of subgraphs over all z\u001b[39;00m\n\u001b[1;32m     33\u001b[0m \u001b[39m        -> try cardinality vector with cardinalities of subgraphs\u001b[39;00m\n\u001b[1;32m     34\u001b[0m \u001b[39m\"\"\"\u001b[39;00m\n\u001b[1;32m     35\u001b[0m \u001b[39m# For each redshift, shift its sender/receiver indices by the number of nodes in the \u001b[39;00m\n\u001b[1;32m     36\u001b[0m \u001b[39m# redshift subgraph, so that the senders/receivers are still unique in the main graph\u001b[39;00m\n\u001b[1;32m     37\u001b[0m \u001b[39m# for all subgraphs\u001b[39;00m\n\u001b[1;32m     38\u001b[0m receivers \u001b[39m=\u001b[39m jnp\u001b[39m.\u001b[39mconcatenate(\n\u001b[0;32m---> 39\u001b[0m     [g_z\u001b[39m.\u001b[39;49mn_node \u001b[39m*\u001b[39m n \u001b[39m+\u001b[39m g_z\u001b[39m.\u001b[39mreceivers \u001b[39mfor\u001b[39;00m n, g_z \u001b[39min\u001b[39;00m \u001b[39menumerate\u001b[39m(subgraphs)])\u001b[39m# receivers=jnp.concatenate([g_z.receivers for g_z in subgraphs]),\u001b[39;00m\n\u001b[1;32m     40\u001b[0m senders \u001b[39m=\u001b[39m jnp\u001b[39m.\u001b[39mconcatenate(\n\u001b[1;32m     41\u001b[0m     [g_z\u001b[39m.\u001b[39mn_node \u001b[39m*\u001b[39m n \u001b[39m+\u001b[39m g_z\u001b[39m.\u001b[39msenders \u001b[39mfor\u001b[39;00m n, g_z \u001b[39min\u001b[39;00m \u001b[39menumerate\u001b[39m(subgraphs)])\u001b[39m# senders=jnp.concatenate([g_z.senders for g_z in subgraphs]),\u001b[39;00m\n\u001b[1;32m     42\u001b[0m nodes \u001b[39m=\u001b[39m jnp\u001b[39m.\u001b[39mconcatenate([g_z\u001b[39m.\u001b[39mnodes \u001b[39mfor\u001b[39;00m g_z \u001b[39min\u001b[39;00m subgraphs])[:, \u001b[39mNone\u001b[39;00m]\n",
      "\u001b[0;31mAttributeError\u001b[0m: 'DeviceArray' object has no attribute 'n_node'"
     ]
    }
   ],
   "source": [
    "dataset_processed = []\n",
    "for n in range(int(N_GRAPHS * 0.1)):\n",
    "  l = parameters[n]\n",
    "  print(\"\\r\", l, end=\"\")\n",
    "\n",
    "  # Subgraph at redshift z for moments of PDF at scales R\n",
    "  g_z = make_subgraphs(simulations[n])[0]\n",
    "\n",
    "  print((f\"nodes {g_z.nodes.shape}\" +\n",
    "         f\"\\nedges {g_z.edges}\" + \n",
    "         f\"\\nglobals {g_z.globals}\" + \n",
    "         f\"\\nsenders {g_z.senders.shape}\" + \n",
    "         f\"\\nreceivers {g_z.receivers.shape}\"))\n",
    "\n",
    "  # Main graph of disconnected subgraphs\n",
    "  g = make_graph_from_subgraphs(g_z, l[None, :]) # pointless 'l' here it is removed later anyway...\n",
    "\n",
    "  dataset_processed.append(dict(input_graph=g, target=l))\n",
    "\n",
    "  print((f\"nodes {g.nodes.shape}\" +\n",
    "         f\"\\nedges {g.edges}\" + \n",
    "         f\"\\nglobals {g.globals}\" + \n",
    "         f\"\\nsenders {g.senders.shape}\" + \n",
    "         f\"\\nreceivers {g.receivers.shape}\" +\n",
    "         f\"\\nglobals {g.globals.shape}\"))\n",
    "  \n",
    "  # IMPORTANT CAN NEED THIS IN DICT ABOVE FOR TARGET=L#[None, :]))"
   ]
  },
  {
   "cell_type": "code",
   "execution_count": 553,
   "metadata": {},
   "outputs": [
    {
     "name": "stdout",
     "output_type": "stream",
     "text": [
      "nodes (151, 1)\n",
      "edges None\n",
      "senders (0,)\n",
      "receivers (0,)\n",
      "globals (1, 2)\n",
      "n_node (1,)\n",
      "n_edge (1,)\n",
      "[[151.   0.]]\n"
     ]
    }
   ],
   "source": [
    "# Show a random graphs properties\n",
    "g = dataset_processed[0][\"input_graph\"]\n",
    "for a in attrs:\n",
    "  val = getattr(g, a)\n",
    "  print(a, val.shape if val is not None else None)\n",
    "print(g.globals)"
   ]
  },
  {
   "cell_type": "code",
   "execution_count": 514,
   "metadata": {},
   "outputs": [
    {
     "data": {
      "image/png": "[encoded data removed]",
      "text/plain": [
       "<Figure size 640x480 with 1 Axes>"
      ]
     },
     "metadata": {},
     "output_type": "display_data"
    }
   ],
   "source": [
    "plt.plot(g.nodes, linestyle=\"\", marker=\".\")\n",
    "plt.show()"
   ]
  },
  {
   "cell_type": "code",
   "execution_count": 552,
   "metadata": {},
   "outputs": [],
   "source": [
    "g.edges"
   ]
  },
  {
   "cell_type": "code",
   "execution_count": 494,
   "metadata": {},
   "outputs": [
    {
     "name": "stdout",
     "output_type": "stream",
     "text": [
      "[(151, 1), (151, 1), (151, 1), (151, 1), (151, 1)]\n",
      "[151. 151. 151. 151. 151.]\n",
      "[0 0 0 0 0]\n",
      "nodes (755, 1)\n",
      "edges None\n",
      "senders (0,)\n",
      "receivers (0,)\n",
      "globals (5, 2)\n",
      "n_node (5,)\n",
      "n_edge (5,)\n"
     ]
    }
   ],
   "source": [
    "# Make a batch of graphs to test batching\n",
    "gs, ls = [], []\n",
    "for _ in range(5):\n",
    "  gl = dataset_processed[_]\n",
    "  g, l = gl.values()\n",
    "  gs.append(g), ls.append(l)\n",
    "\n",
    "g_all = jraph.batch(gs)\n",
    "print([g.nodes.shape for g in gs])\n",
    "g_all.nodes.shape\n",
    "print(g_all.n_node)\n",
    "print(g_all.n_edge)\n",
    "\n",
    "for a in attrs:\n",
    "  val = getattr(g_all, a)\n",
    "  print(a, val.shape if val is not None else None)"
   ]
  },
  {
   "cell_type": "code",
   "execution_count": 495,
   "metadata": {},
   "outputs": [
    {
     "name": "stdout",
     "output_type": "stream",
     "text": [
      "[0.1755  0.06681 0.7737  0.8849  0.6641 ] [[2.1789768      -inf]]\n"
     ]
    },
    {
     "data": {
      "text/plain": [
       "200"
      ]
     },
     "execution_count": 495,
     "metadata": {},
     "output_type": "execute_result"
    }
   ],
   "source": [
    "# Set the graph globals to zero at first?\n",
    "print(dataset_processed[0][\"target\"], dataset_processed[0][\"input_graph\"].globals)\n",
    "len(dataset_processed)"
   ]
  },
  {
   "cell_type": "code",
   "execution_count": 496,
   "metadata": {},
   "outputs": [
    {
     "data": {
      "text/plain": [
       "DeviceArray([[1., 1.],\n",
       "             [1., 1.],\n",
       "             [0., 0.]], dtype=float32)"
      ]
     },
     "execution_count": 496,
     "metadata": {},
     "output_type": "execute_result"
    }
   ],
   "source": [
    "jnp.ones((3, 2)) * jnp.array([True, True, False])[:, None]"
   ]
  },
  {
   "cell_type": "code",
   "execution_count": 453,
   "metadata": {},
   "outputs": [],
   "source": [
    "def compute_loss(\n",
    "  params: Params, \n",
    "  key: Key,\n",
    "  graph: Graph, \n",
    "  label: Array,\n",
    "  net: Graph,\n",
    "  inference: bool = False) -> Tuple[Array, Array]:\n",
    "  pred_graph = net.apply(params, key, graph, inference=inference)\n",
    "  mask = jraph.get_graph_padding_mask(pred_graph)\n",
    "  print(\"mask\", mask.shape)\n",
    "  loss = jnp.square(jnp.subtract(pred_graph.globals, label)) \n",
    "  print(\"loss\", loss.shape)\n",
    "  loss = (loss * mask[:, None]).sum() / (loss.shape[0] - 1.)#.mean()\n",
    "  return loss, (None,)\n",
    "\n",
    "def get_graphs(key, dataset):\n",
    "  # Randomly choose BATCH_SIZE number of (graphs, label) tuples\n",
    "  idx = jr.randint(\n",
    "    key, shape=(BATCH_SIZE,), minval=0, maxval=len(dataset))\n",
    "\n",
    "  gs, ls = [], []\n",
    "  for i in idx:\n",
    "    g, l = dataset[int(i)].values()\n",
    "    gs.append(g), ls.append(l)\n",
    "\n",
    "  graph = jraph.batch(gs)\n",
    "  graph = pad_graph_to_value(graph, PAD_VALUE)\n",
    "\n",
    "  label = jnp.stack(ls)\n",
    "  label = jnp.concatenate([label, jnp.zeros((1, parameter_dim))])\n",
    "  # print(\"label\", label)\n",
    "  return graph, label\n",
    "\n",
    "def train(\n",
    "  dataset: List[Dict[str, Any]], \n",
    "  num_train_steps: int) -> Tuple[Params, List, List]:\n",
    "\n",
    "  prng_seq = hk.PRNGSequence(0)\n",
    "\n",
    "  net = hk.transform(net_fn)\n",
    "\n",
    "  train_dataset = [\n",
    "    dataset[t] for t in range(int(0.9 * N_GRAPHS))]\n",
    "  valid_dataset = [\n",
    "    dataset[-v] for v in range(int(0.1 * N_GRAPHS))]\n",
    "\n",
    "  graph = train_dataset[0]['input_graph']\n",
    "  graph = pad_graph_to_value(graph, PAD_VALUE)\n",
    "  params = net.init(next(prng_seq), graph)\n",
    "\n",
    "  print(f\"n_params = {sum(x.size for x in jax.tree_util.tree_leaves(params)):.2E}\")\n",
    "\n",
    "  # Initialize the optimizer.\n",
    "  opt_init, opt_update = optax.adabelief(LR)\n",
    "  opt_state = opt_init(params)\n",
    "\n",
    "  compute_loss_ = partial(compute_loss, net=net, inference=False)\n",
    "  compute_loss_fn = jax.jit(\n",
    "    jax.value_and_grad(compute_loss_, has_aux=True))\n",
    "  eval_fn = jax.jit(partial(compute_loss, net=net, inference=True))\n",
    "\n",
    "  train_losses, valid_losses = [], []\n",
    "  for s in range(num_train_steps):\n",
    "\n",
    "    # Train\n",
    "    graph, label = get_graphs(next(prng_seq), train_dataset)\n",
    "    # print(\"global/label\", graph.globals.shape, label.shape)\n",
    "\n",
    "    # Zero out global label, model must predict it, init'd with cardinalities so don't remove!\n",
    "    # graph = graph._replace(globals=jnp.zeros_like(graph.globals))\n",
    "\n",
    "    # graph = pad_graph_to_value(graph, PAD_VALUE)\n",
    "    (train_loss, (_)), grad = compute_loss_fn(params, next(prng_seq), graph, label)\n",
    "\n",
    "    updates, opt_state = opt_update(grad, opt_state, params)\n",
    "    params = optax.apply_updates(params, updates)\n",
    "\n",
    "    # Validate\n",
    "    graph, label = get_graphs(next(prng_seq), valid_dataset)\n",
    "    # print(\"globals\", graph.globals)\n",
    "    # graph = pad_graph_to_value(graph, PAD_VALUE)\n",
    "    valid_loss, _ = eval_fn(params, None, graph, label)\n",
    "\n",
    "    if s % 100 == 0:\n",
    "      print(f'\\rstep: {s:06d}, L: {train_loss:.4f} L_v: {valid_loss:.4f}', end=\"\")\n",
    "\n",
    "    train_losses.append(train_loss)\n",
    "    valid_losses.append(valid_loss)\n",
    "\n",
    "  return params, train_losses, valid_losses "
   ]
  },
  {
   "attachments": {},
   "cell_type": "markdown",
   "metadata": {},
   "source": [
    "#### check"
   ]
  },
  {
   "cell_type": "code",
   "execution_count": 454,
   "metadata": {},
   "outputs": [
    {
     "name": "stdout",
     "output_type": "stream",
     "text": [
      "[(755, 1), (0,), (0,), (10,), (5,), (5,)]\n"
     ]
    }
   ],
   "source": [
    "print([_.shape for _ in g_all if _ is not None])"
   ]
  },
  {
   "cell_type": "code",
   "execution_count": 455,
   "metadata": {},
   "outputs": [
    {
     "data": {
      "text/plain": [
       "((10,),\n",
       " DeviceArray([5.0172796,      -inf, 5.0172796,      -inf, 5.0172796,\n",
       "                   -inf, 5.0172796,      -inf, 5.0172796,      -inf],            dtype=float32))"
      ]
     },
     "execution_count": 455,
     "metadata": {},
     "output_type": "execute_result"
    }
   ],
   "source": [
    "g_all.globals.shape, g_all.globals "
   ]
  },
  {
   "cell_type": "code",
   "execution_count": 456,
   "metadata": {},
   "outputs": [
    {
     "name": "stdout",
     "output_type": "stream",
     "text": [
      "[5.0172796      -inf 5.0172796      -inf 5.0172796      -inf 5.0172796\n",
      "      -inf 5.0172796      -inf 0.       ] (11,)\n",
      "net out (5,)\n",
      "mask, y_.globals (5,) (5,)\n"
     ]
    },
    {
     "ename": "IndexError",
     "evalue": "boolean index did not match shape of indexed array in index 1: got (5,), expected ()",
     "output_type": "error",
     "traceback": [
      "\u001b[0;31m---------------------------------------------------------------------------\u001b[0m",
      "\u001b[0;31mIndexError\u001b[0m                                Traceback (most recent call last)",
      "Cell \u001b[0;32mIn[456], line 18\u001b[0m\n\u001b[1;32m     15\u001b[0m mask \u001b[39m=\u001b[39m jraph\u001b[39m.\u001b[39mget_graph_padding_mask(y_)\n\u001b[1;32m     16\u001b[0m \u001b[39mprint\u001b[39m(\u001b[39m\"\u001b[39m\u001b[39mmask, y_.globals\u001b[39m\u001b[39m\"\u001b[39m, mask\u001b[39m.\u001b[39mshape, y_\u001b[39m.\u001b[39mglobals\u001b[39m.\u001b[39mshape)\n\u001b[0;32m---> 18\u001b[0m jnp\u001b[39m.\u001b[39margmax(y_\u001b[39m.\u001b[39;49mglobals[:, mask], axis\u001b[39m=\u001b[39m\u001b[39m1\u001b[39m), l\u001b[39m.\u001b[39margmax()\n\u001b[1;32m     19\u001b[0m \u001b[39m# jnp.argmax(y_.globals[mask], axis=1), l.argmax()\u001b[39;00m\n",
      "File \u001b[0;32m~/miniconda3/envs/jraph/lib/python3.10/site-packages/jax/_src/numpy/lax_numpy.py:3670\u001b[0m, in \u001b[0;36m_rewriting_take\u001b[0;34m(arr, idx, indices_are_sorted, unique_indices, mode, fill_value)\u001b[0m\n\u001b[1;32m   3664\u001b[0m     \u001b[39mif\u001b[39;00m (\u001b[39misinstance\u001b[39m(aval, core\u001b[39m.\u001b[39mDShapedArray) \u001b[39mand\u001b[39;00m aval\u001b[39m.\u001b[39mshape \u001b[39m==\u001b[39m () \u001b[39mand\u001b[39;00m\n\u001b[1;32m   3665\u001b[0m         dtypes\u001b[39m.\u001b[39missubdtype(aval\u001b[39m.\u001b[39mdtype, np\u001b[39m.\u001b[39minteger) \u001b[39mand\u001b[39;00m\n\u001b[1;32m   3666\u001b[0m         \u001b[39mnot\u001b[39;00m dtypes\u001b[39m.\u001b[39missubdtype(aval\u001b[39m.\u001b[39mdtype, dtypes\u001b[39m.\u001b[39mbool_) \u001b[39mand\u001b[39;00m\n\u001b[1;32m   3667\u001b[0m         \u001b[39misinstance\u001b[39m(arr\u001b[39m.\u001b[39mshape[\u001b[39m0\u001b[39m], \u001b[39mint\u001b[39m)):\n\u001b[1;32m   3668\u001b[0m       \u001b[39mreturn\u001b[39;00m lax\u001b[39m.\u001b[39mdynamic_index_in_dim(arr, idx, keepdims\u001b[39m=\u001b[39m\u001b[39mFalse\u001b[39;00m)\n\u001b[0;32m-> 3670\u001b[0m treedef, static_idx, dynamic_idx \u001b[39m=\u001b[39m _split_index_for_jit(idx, arr\u001b[39m.\u001b[39;49mshape)\n\u001b[1;32m   3671\u001b[0m \u001b[39mreturn\u001b[39;00m _gather(arr, treedef, static_idx, dynamic_idx, indices_are_sorted,\n\u001b[1;32m   3672\u001b[0m                unique_indices, mode, fill_value)\n",
      "File \u001b[0;32m~/miniconda3/envs/jraph/lib/python3.10/site-packages/jax/_src/numpy/lax_numpy.py:3749\u001b[0m, in \u001b[0;36m_split_index_for_jit\u001b[0;34m(idx, shape)\u001b[0m\n\u001b[1;32m   3745\u001b[0m idx \u001b[39m=\u001b[39m _eliminate_deprecated_list_indexing(idx)\n\u001b[1;32m   3747\u001b[0m \u001b[39m# Expand any (concrete) boolean indices. We can then use advanced integer\u001b[39;00m\n\u001b[1;32m   3748\u001b[0m \u001b[39m# indexing logic to handle them.\u001b[39;00m\n\u001b[0;32m-> 3749\u001b[0m idx \u001b[39m=\u001b[39m _expand_bool_indices(idx, shape)\n\u001b[1;32m   3751\u001b[0m leaves, treedef \u001b[39m=\u001b[39m tree_flatten(idx)\n\u001b[1;32m   3752\u001b[0m dynamic \u001b[39m=\u001b[39m [\u001b[39mNone\u001b[39;00m] \u001b[39m*\u001b[39m \u001b[39mlen\u001b[39m(leaves)\n",
      "File \u001b[0;32m~/miniconda3/envs/jraph/lib/python3.10/site-packages/jax/_src/numpy/lax_numpy.py:4070\u001b[0m, in \u001b[0;36m_expand_bool_indices\u001b[0;34m(idx, shape)\u001b[0m\n\u001b[1;32m   4068\u001b[0m     expected_shape \u001b[39m=\u001b[39m shape[start: start \u001b[39m+\u001b[39m _ndim(i)]\n\u001b[1;32m   4069\u001b[0m     \u001b[39mif\u001b[39;00m i_shape \u001b[39m!=\u001b[39m expected_shape:\n\u001b[0;32m-> 4070\u001b[0m       \u001b[39mraise\u001b[39;00m \u001b[39mIndexError\u001b[39;00m(\u001b[39m\"\u001b[39m\u001b[39mboolean index did not match shape of indexed array in index \u001b[39m\u001b[39m\"\u001b[39m\n\u001b[1;32m   4071\u001b[0m                        \u001b[39mf\u001b[39m\u001b[39m\"\u001b[39m\u001b[39m{\u001b[39;00mdim_number\u001b[39m}\u001b[39;00m\u001b[39m: got \u001b[39m\u001b[39m{\u001b[39;00mi_shape\u001b[39m}\u001b[39;00m\u001b[39m, expected \u001b[39m\u001b[39m{\u001b[39;00mexpected_shape\u001b[39m}\u001b[39;00m\u001b[39m\"\u001b[39m)\n\u001b[1;32m   4072\u001b[0m     out\u001b[39m.\u001b[39mextend(np\u001b[39m.\u001b[39mwhere(i))\n\u001b[1;32m   4073\u001b[0m \u001b[39melse\u001b[39;00m:\n",
      "\u001b[0;31mIndexError\u001b[0m: boolean index did not match shape of indexed array in index 1: got (5,), expected ()"
     ]
    }
   ],
   "source": [
    "key = jr.PRNGKey(0)\n",
    "key, _ = jr.split(key)\n",
    "\n",
    "# net = hk.without_apply_rng(hk.transform(net_fn))\n",
    "net = hk.transform(net_fn)\n",
    "\n",
    "graph = pad_graph_to_value(g_all, PAD_VALUE)\n",
    "print(graph.globals, graph.globals.shape)\n",
    "\n",
    "params = net.init(key, g_all)\n",
    "\n",
    "y_ = net.apply(params, key, g_all)\n",
    "print(\"net out\", y_.globals.shape)\n",
    "\n",
    "mask = jraph.get_graph_padding_mask(y_)\n",
    "print(\"mask, y_.globals\", mask.shape, y_.globals.shape)\n",
    "\n",
    "jnp.argmax(y_.globals[:, mask], axis=1), l.argmax()\n",
    "# jnp.argmax(y_.globals[mask], axis=1), l.argmax()"
   ]
  },
  {
   "cell_type": "code",
   "execution_count": null,
   "metadata": {},
   "outputs": [
    {
     "name": "stdout",
     "output_type": "stream",
     "text": [
      "[[5.710438 0.      ]\n",
      " [0.       0.      ]] (2, 2)\n",
      "nodes (4097, 1)\n",
      "edges None\n",
      "senders (4096,)\n",
      "receivers (4096,)\n",
      "globals (2, 2)\n",
      "n_node (2,)\n",
      "n_edge (2,)\n",
      "net out (2, 5)\n",
      "mask, y_.globals (2,) (2, 5)\n"
     ]
    }
   ],
   "source": [
    "key = jr.PRNGKey(0)\n",
    "key, _ = jr.split(key)\n",
    "\n",
    "net = hk.transform(net_fn)\n",
    "\n",
    "ix1, ix2 = jr.randint(key, (2,), 0, len(dataset_processed))\n",
    "\n",
    "graph = dataset_processed[ix1]['input_graph']\n",
    "l = dataset_processed[ix1]['target']\n",
    "graph = pad_graph_to_value(graph, PAD_VALUE)\n",
    "print(graph.globals, graph.globals.shape)\n",
    "\n",
    "for a in attrs:\n",
    "    val = getattr(graph, a)\n",
    "    print(a, val.shape if val is not None else None)\n",
    "\n",
    "params = net.init(key, graph)\n",
    "\n",
    "graph = dataset_processed[ix2]['input_graph']\n",
    "l = dataset_processed[ix2]['target']\n",
    "graph = pad_graph_to_value(graph, PAD_VALUE)\n",
    "\n",
    "y_ = net.apply(params, key, graph)\n",
    "print(\"net out\", y_.globals.shape)\n",
    "\n",
    "mask = jraph.get_graph_padding_mask(y_)\n",
    "print(\"mask, y_.globals\", mask.shape, y_.globals.shape)\n",
    "\n",
    "# jnp.argmax(y_.globals[mask], axis=1), l.argmax()"
   ]
  },
  {
   "cell_type": "code",
   "execution_count": null,
   "metadata": {},
   "outputs": [
    {
     "name": "stdout",
     "output_type": "stream",
     "text": [
      "before pad (151, 1) (1, 2)\n",
      "after pad (4097, 1) (2, 2)\n"
     ]
    }
   ],
   "source": [
    "graph = dataset_processed[ix2]['input_graph']\n",
    "print(\"before pad\", graph.nodes.shape, graph.globals.shape)\n",
    "l = dataset_processed[ix2]['target']\n",
    "graph = pad_graph_to_value(graph, PAD_VALUE)\n",
    "print(\"after pad\", graph.nodes.shape, graph.globals.shape)"
   ]
  },
  {
   "cell_type": "code",
   "execution_count": null,
   "metadata": {},
   "outputs": [
    {
     "data": {
      "text/plain": [
       "(5,)"
      ]
     },
     "execution_count": 338,
     "metadata": {},
     "output_type": "execute_result"
    }
   ],
   "source": [
    "dataset_processed[0][\"target\"].shape"
   ]
  },
  {
   "cell_type": "code",
   "execution_count": null,
   "metadata": {},
   "outputs": [
    {
     "name": "stdout",
     "output_type": "stream",
     "text": [
      "n_params = 2.40E+01\n",
      "mask (17,)\n",
      "loss (17, 5)\n",
      "mask (17,)\n",
      "loss (17, 5)\n",
      "step: 004900, L: 0.0550 L_v: 0.046354"
     ]
    }
   ],
   "source": [
    "params, train_losses, valid_losses = train(dataset_processed, num_train_steps=N_STEPS)"
   ]
  },
  {
   "cell_type": "code",
   "execution_count": null,
   "metadata": {},
   "outputs": [
    {
     "data": {
      "image/png": "[encoded data removed]",
      "text/plain": [
       "<Figure size 800x400 with 1 Axes>"
      ]
     },
     "metadata": {},
     "output_type": "display_data"
    }
   ],
   "source": [
    "fig, ax = plt.subplots(1, 1, dpi=100, figsize=(8., 4.))\n",
    "steps = range(0, N_STEPS, 10)\n",
    "ax.semilogy(steps, train_losses[::10], color=\"forestgreen\")\n",
    "ax.semilogy(steps, valid_losses[::10], color=\"mediumvioletred\")\n",
    "plt.show()"
   ]
  },
  {
   "cell_type": "code",
   "execution_count": null,
   "metadata": {},
   "outputs": [
    {
     "name": "stdout",
     "output_type": "stream",
     "text": [
      "nodes (302000, 1)\n",
      "edges None\n",
      "senders (0,)\n",
      "receivers (0,)\n",
      "globals (2000, 2)\n",
      "n_node (2000,)\n",
      "n_edge (2000,)\n"
     ]
    }
   ],
   "source": [
    "graphs = []\n",
    "for gl in dataset_processed:\n",
    "    g, l = gl.values()\n",
    "    graphs.append(g)\n",
    "\n",
    "all_graphs = jraph.batch(graphs)\n",
    "for a in attrs:\n",
    "    val = getattr(all_graphs, a)\n",
    "    print(a, val.shape if val is not None else None)"
   ]
  },
  {
   "cell_type": "code",
   "execution_count": null,
   "metadata": {},
   "outputs": [
    {
     "name": "stderr",
     "output_type": "stream",
     "text": [
      "/Users/Jed.Homer/miniconda3/envs/jraph/lib/python3.10/site-packages/jraph/_src/utils.py:882: FutureWarning: jax.tree_leaves is deprecated, and will be removed in a future release. Use jax.tree_util.tree_leaves instead.\n",
      "  num_node_features = jax.tree_leaves(node_features)[0].shape[0]\n"
     ]
    }
   ],
   "source": [
    "fiducial_subgraphs = make_subgraphs(fiducial_dv)\n",
    "fiducial_graph = make_graph_from_subgraphs(fiducial_subgraphs, alpha[None, :])"
   ]
  },
  {
   "cell_type": "code",
   "execution_count": null,
   "metadata": {},
   "outputs": [
    {
     "data": {
      "text/plain": [
       "((1, 5),\n",
       " DeviceArray([[ 0.5978021 , -0.10030725,  1.5181686 ,  1.4901392 ,\n",
       "               -0.06705358]], dtype=float32),\n",
       " DeviceArray([[0.31862435, 0.05028487, 0.69140375, 0.99972016, 0.80125445],\n",
       "              [0.31862435, 0.05028487, 0.69140375, 0.99972016, 0.80125445],\n",
       "              [0.31862435, 0.05028487, 0.69140375, 0.99972016, 0.80125445],\n",
       "              ...,\n",
       "              [0.31862435, 0.05028487, 0.69140375, 0.99972016, 0.80125445],\n",
       "              [0.31862435, 0.05028487, 0.69140375, 0.99972016, 0.80125445],\n",
       "              [0.31862435, 0.05028487, 0.69140375, 0.99972016, 0.80125445]],            dtype=float32))"
      ]
     },
     "execution_count": 321,
     "metadata": {},
     "output_type": "execute_result"
    }
   ],
   "source": [
    "all_graphs_out = net.apply(params, None, all_graphs, inference=True)\n",
    "fiducial_graph_out = net.apply(params, None, fiducial_graph, inference=True)\n",
    "preds = all_graphs_out.globals\n",
    "fiducial_preds = fiducial_graph_out.globals\n",
    "\n",
    "fiducial_preds.shape, fiducial_preds, preds"
   ]
  },
  {
   "cell_type": "code",
   "execution_count": null,
   "metadata": {},
   "outputs": [],
   "source": [
    "# List of graphs\n",
    "# unbatched_graphs = jraph.unbatch(all_graphs_out)"
   ]
  },
  {
   "attachments": {},
   "cell_type": "markdown",
   "metadata": {},
   "source": [
    "senders and receivers are constant through application of graph interaction network, try attention mechanism"
   ]
  },
  {
   "cell_type": "code",
   "execution_count": null,
   "metadata": {},
   "outputs": [],
   "source": [
    "# A = adjacency_matrix(unbatched_graphs[0].senders, unbatched_graphs[0].receivers)\n",
    "# plt.imshow(A, cmap=\"gray_r\")\n",
    "# plt.show()"
   ]
  },
  {
   "cell_type": "code",
   "execution_count": null,
   "metadata": {},
   "outputs": [],
   "source": [
    "if 0:\n",
    "    A = adjacency_matrix(fiducial_graph_out.senders, fiducial_graph_out.receivers)\n",
    "    plt.imshow(A, cmap=\"gray_r\")\n",
    "    plt.show()"
   ]
  },
  {
   "cell_type": "code",
   "execution_count": null,
   "metadata": {},
   "outputs": [],
   "source": [
    "# pred_targets, alpha[jnp.array([0, 4])]"
   ]
  },
  {
   "cell_type": "code",
   "execution_count": null,
   "metadata": {},
   "outputs": [
    {
     "name": "stdout",
     "output_type": "stream",
     "text": [
      "(2000, 2) (2000, 2)\n"
     ]
    },
    {
     "data": {
      "image/png": "[encoded data removed]",
      "text/plain": [
       "<Figure size 800x800 with 4 Axes>"
      ]
     },
     "metadata": {},
     "output_type": "display_data"
    }
   ],
   "source": [
    "target_idx = jnp.array([0, 4])\n",
    "pred_targets = preds[:, target_idx]\n",
    "parameter_targets = parameters[:N_GRAPHS, target_idx]\n",
    "\n",
    "print(pred_targets.shape, parameter_targets.shape)\n",
    "\n",
    "fig, axs = plt.subplots(2, 2, figsize=(8., 8.), dpi=100)\n",
    "ax = axs[0, 0]\n",
    "\n",
    "ax.scatter(pred_targets[:, 0], parameter_targets[:, 0], s=0.5)\n",
    "ax.scatter(fiducial_preds[:, 0], alpha[None, :][:, 0], s=2.)\n",
    "ax = axs[0, 1]\n",
    "ax.scatter(pred_targets[:, 1], parameter_targets[:, 1], s=0.5)\n",
    "ax.scatter(fiducial_preds[:, 4], alpha[None, :][:, 4], s=2.)\n",
    "ax = axs[1, 0]\n",
    "ax.hist(pred_targets[:, 0])\n",
    "ax.axvline(fiducial_preds[:, 0], color=\"orange\")\n",
    "ax = axs[1, 1]\n",
    "ax.hist(pred_targets[:, 1])\n",
    "ax.axvline(fiducial_preds[:, 4], color=\"orange\")\n",
    "plt.show()"
   ]
  },
  {
   "cell_type": "code",
   "execution_count": null,
   "metadata": {},
   "outputs": [
    {
     "data": {
      "text/plain": [
       "(1, 5)"
      ]
     },
     "execution_count": 327,
     "metadata": {},
     "output_type": "execute_result"
    }
   ],
   "source": [
    "fiducial_preds.shape"
   ]
  },
  {
   "cell_type": "code",
   "execution_count": null,
   "metadata": {},
   "outputs": [
    {
     "data": {
      "image/png": "[encoded data removed]",
      "text/plain": [
       "<Figure size 640x480 with 1 Axes>"
      ]
     },
     "metadata": {},
     "output_type": "display_data"
    }
   ],
   "source": [
    "plt.figure()\n",
    "plt.scatter(*pred_targets.T, s=0.5)\n",
    "plt.scatter(*fiducial_preds[:, target_idx].T, s=2.)\n",
    "plt.show()"
   ]
  },
  {
   "cell_type": "code",
   "execution_count": null,
   "metadata": {},
   "outputs": [
    {
     "data": {
      "text/plain": [
       "(1, 151)"
      ]
     },
     "execution_count": 282,
     "metadata": {},
     "output_type": "execute_result"
    }
   ],
   "source": [
    "fiducial_dv.shape"
   ]
  },
  {
   "cell_type": "code",
   "execution_count": null,
   "metadata": {},
   "outputs": [
    {
     "data": {
      "text/plain": [
       "(1, 151)"
      ]
     },
     "execution_count": 283,
     "metadata": {},
     "output_type": "execute_result"
    }
   ],
   "source": [
    "fiducial_dv.shape"
   ]
  },
  {
   "cell_type": "code",
   "execution_count": null,
   "metadata": {},
   "outputs": [],
   "source": [
    "# Try gnn on datavector with more or less moments\n",
    "\n",
    "fiducial_dv_ = fiducial_dv#[:1, :2, :1]\n",
    "\n",
    "fiducial_subgraphs_ = make_subgraphs(fiducial_dv_)\n",
    "fiducial_graph_ = make_graph_from_subgraphs(fiducial_subgraphs_, alpha[None, :])\n",
    "\n",
    "fiducial_graph_out = net.apply(params, None, fiducial_graph_, inference=True)"
   ]
  },
  {
   "cell_type": "code",
   "execution_count": null,
   "metadata": {},
   "outputs": [
    {
     "data": {
      "text/plain": [
       "(DeviceArray([[ 5.710438, 10.721063]], dtype=float32),\n",
       " DeviceArray([[ 0.5978021 , -0.10030725,  1.5181686 ,  1.4901392 ,\n",
       "               -0.06705358]], dtype=float32))"
      ]
     },
     "execution_count": 331,
     "metadata": {},
     "output_type": "execute_result"
    }
   ],
   "source": [
    "fiducial_graph.globals, fiducial_graph_out.globals"
   ]
  },
  {
   "cell_type": "code",
   "execution_count": null,
   "metadata": {},
   "outputs": [],
   "source": []
  }
 ],
 "metadata": {
  "kernelspec": {
   "display_name": "jraph",
   "language": "python",
   "name": "python3"
  },
  "language_info": {
   "codemirror_mode": {
    "name": "ipython",
    "version": 3
   },
   "file_extension": ".py",
   "mimetype": "text/x-python",
   "name": "python",
   "nbconvert_exporter": "python",
   "pygments_lexer": "ipython3",
   "version": "3.10.4"
  },
  "orig_nbformat": 4,
  "vscode": {
   "interpreter": {
    "hash": "89eacdfae071486057d2d630fe016cfa1eafc53aeae1b159d8d57a4fae204a68"
   }
  }
 },
 "nbformat": 4,
 "nbformat_minor": 2
}
